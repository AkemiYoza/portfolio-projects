{
 "cells": [
  {
   "cell_type": "code",
   "execution_count": 1,
   "metadata": {},
   "outputs": [],
   "source": [
    "# libraries\n",
    "\n",
    "import pandas as pd\n",
    "import glob\n",
    "import datetime as datetime\n",
    "from datetime import timedelta\n",
    "import numpy as np\n",
    "import math\n",
    "import matplotlib.pyplot as plt\n",
    "import seaborn as sns\n",
    "\n",
    "# color pallete\n",
    "AZUL1, AZUL2, AZUL3, AZUL4, AZUL5 = '#03045e', '#0077b6', \"#00b4d8\", '#90e0ef', '#CDDBF3'\n",
    "CINZA1, CINZA2, CINZA3, CINZA4, CINZA5 = '#212529', '#495057', '#adb5bd', '#dee2e6', '#f8f9fa'\n",
    "VERMELHO1, LARANJA1, AMARELO1, VERDE1, VERDE2 = '#e76f51', '#f4a261',\t'#e9c46a', '#4c956c', '#2a9d8f'"
   ]
  },
  {
   "cell_type": "code",
   "execution_count": 2,
   "metadata": {},
   "outputs": [],
   "source": [
    "# Get a list of all csv files in a directory\n",
    "csv_files = glob.glob('dados/*.csv')\n",
    "\n",
    "# Create a empty dataframe to store the combined data\n",
    "df = pd.DataFrame()\n",
    "\n",
    "# Loop through each csv file and append its contents to the combined dataframe\n",
    "for file in csv_files:\n",
    "    dados = pd.read_csv(file)\n",
    "    df = pd.concat([df, dados])"
   ]
  },
  {
   "cell_type": "markdown",
   "metadata": {},
   "source": [
    "## Data Wrangling"
   ]
  },
  {
   "cell_type": "code",
   "execution_count": 3,
   "metadata": {},
   "outputs": [
    {
     "data": {
      "text/html": [
       "<div>\n",
       "<style scoped>\n",
       "    .dataframe tbody tr th:only-of-type {\n",
       "        vertical-align: middle;\n",
       "    }\n",
       "\n",
       "    .dataframe tbody tr th {\n",
       "        vertical-align: top;\n",
       "    }\n",
       "\n",
       "    .dataframe thead th {\n",
       "        text-align: right;\n",
       "    }\n",
       "</style>\n",
       "<table border=\"1\" class=\"dataframe\">\n",
       "  <thead>\n",
       "    <tr style=\"text-align: right;\">\n",
       "      <th></th>\n",
       "      <th>ride_id</th>\n",
       "      <th>rideable_type</th>\n",
       "      <th>started_at</th>\n",
       "      <th>ended_at</th>\n",
       "      <th>start_station_name</th>\n",
       "      <th>start_station_id</th>\n",
       "      <th>end_station_name</th>\n",
       "      <th>end_station_id</th>\n",
       "      <th>start_lat</th>\n",
       "      <th>start_lng</th>\n",
       "      <th>end_lat</th>\n",
       "      <th>end_lng</th>\n",
       "      <th>member_casual</th>\n",
       "    </tr>\n",
       "  </thead>\n",
       "  <tbody>\n",
       "    <tr>\n",
       "      <th>0</th>\n",
       "      <td>F96D5A74A3E41399</td>\n",
       "      <td>electric_bike</td>\n",
       "      <td>2023-01-21 20:05:42</td>\n",
       "      <td>2023-01-21 20:16:33</td>\n",
       "      <td>Lincoln Ave &amp; Fullerton Ave</td>\n",
       "      <td>TA1309000058</td>\n",
       "      <td>Hampden Ct &amp; Diversey Ave</td>\n",
       "      <td>202480.0</td>\n",
       "      <td>41.924074</td>\n",
       "      <td>-87.646278</td>\n",
       "      <td>41.930000</td>\n",
       "      <td>-87.640000</td>\n",
       "      <td>member</td>\n",
       "    </tr>\n",
       "    <tr>\n",
       "      <th>1</th>\n",
       "      <td>13CB7EB698CEDB88</td>\n",
       "      <td>classic_bike</td>\n",
       "      <td>2023-01-10 15:37:36</td>\n",
       "      <td>2023-01-10 15:46:05</td>\n",
       "      <td>Kimbark Ave &amp; 53rd St</td>\n",
       "      <td>TA1309000037</td>\n",
       "      <td>Greenwood Ave &amp; 47th St</td>\n",
       "      <td>TA1308000002</td>\n",
       "      <td>41.799568</td>\n",
       "      <td>-87.594747</td>\n",
       "      <td>41.809835</td>\n",
       "      <td>-87.599383</td>\n",
       "      <td>member</td>\n",
       "    </tr>\n",
       "    <tr>\n",
       "      <th>2</th>\n",
       "      <td>BD88A2E670661CE5</td>\n",
       "      <td>electric_bike</td>\n",
       "      <td>2023-01-02 07:51:57</td>\n",
       "      <td>2023-01-02 08:05:11</td>\n",
       "      <td>Western Ave &amp; Lunt Ave</td>\n",
       "      <td>RP-005</td>\n",
       "      <td>Valli Produce - Evanston Plaza</td>\n",
       "      <td>599</td>\n",
       "      <td>42.008571</td>\n",
       "      <td>-87.690483</td>\n",
       "      <td>42.039742</td>\n",
       "      <td>-87.699413</td>\n",
       "      <td>casual</td>\n",
       "    </tr>\n",
       "    <tr>\n",
       "      <th>3</th>\n",
       "      <td>C90792D034FED968</td>\n",
       "      <td>classic_bike</td>\n",
       "      <td>2023-01-22 10:52:58</td>\n",
       "      <td>2023-01-22 11:01:44</td>\n",
       "      <td>Kimbark Ave &amp; 53rd St</td>\n",
       "      <td>TA1309000037</td>\n",
       "      <td>Greenwood Ave &amp; 47th St</td>\n",
       "      <td>TA1308000002</td>\n",
       "      <td>41.799568</td>\n",
       "      <td>-87.594747</td>\n",
       "      <td>41.809835</td>\n",
       "      <td>-87.599383</td>\n",
       "      <td>member</td>\n",
       "    </tr>\n",
       "    <tr>\n",
       "      <th>4</th>\n",
       "      <td>3397017529188E8A</td>\n",
       "      <td>classic_bike</td>\n",
       "      <td>2023-01-12 13:58:01</td>\n",
       "      <td>2023-01-12 14:13:20</td>\n",
       "      <td>Kimbark Ave &amp; 53rd St</td>\n",
       "      <td>TA1309000037</td>\n",
       "      <td>Greenwood Ave &amp; 47th St</td>\n",
       "      <td>TA1308000002</td>\n",
       "      <td>41.799568</td>\n",
       "      <td>-87.594747</td>\n",
       "      <td>41.809835</td>\n",
       "      <td>-87.599383</td>\n",
       "      <td>member</td>\n",
       "    </tr>\n",
       "  </tbody>\n",
       "</table>\n",
       "</div>"
      ],
      "text/plain": [
       "            ride_id  rideable_type           started_at             ended_at  \\\n",
       "0  F96D5A74A3E41399  electric_bike  2023-01-21 20:05:42  2023-01-21 20:16:33   \n",
       "1  13CB7EB698CEDB88   classic_bike  2023-01-10 15:37:36  2023-01-10 15:46:05   \n",
       "2  BD88A2E670661CE5  electric_bike  2023-01-02 07:51:57  2023-01-02 08:05:11   \n",
       "3  C90792D034FED968   classic_bike  2023-01-22 10:52:58  2023-01-22 11:01:44   \n",
       "4  3397017529188E8A   classic_bike  2023-01-12 13:58:01  2023-01-12 14:13:20   \n",
       "\n",
       "            start_station_name start_station_id  \\\n",
       "0  Lincoln Ave & Fullerton Ave     TA1309000058   \n",
       "1        Kimbark Ave & 53rd St     TA1309000037   \n",
       "2       Western Ave & Lunt Ave           RP-005   \n",
       "3        Kimbark Ave & 53rd St     TA1309000037   \n",
       "4        Kimbark Ave & 53rd St     TA1309000037   \n",
       "\n",
       "                 end_station_name end_station_id  start_lat  start_lng  \\\n",
       "0       Hampden Ct & Diversey Ave       202480.0  41.924074 -87.646278   \n",
       "1         Greenwood Ave & 47th St   TA1308000002  41.799568 -87.594747   \n",
       "2  Valli Produce - Evanston Plaza            599  42.008571 -87.690483   \n",
       "3         Greenwood Ave & 47th St   TA1308000002  41.799568 -87.594747   \n",
       "4         Greenwood Ave & 47th St   TA1308000002  41.799568 -87.594747   \n",
       "\n",
       "     end_lat    end_lng member_casual  \n",
       "0  41.930000 -87.640000        member  \n",
       "1  41.809835 -87.599383        member  \n",
       "2  42.039742 -87.699413        casual  \n",
       "3  41.809835 -87.599383        member  \n",
       "4  41.809835 -87.599383        member  "
      ]
     },
     "execution_count": 3,
     "metadata": {},
     "output_type": "execute_result"
    }
   ],
   "source": [
    "df.head()"
   ]
  },
  {
   "cell_type": "code",
   "execution_count": 4,
   "metadata": {},
   "outputs": [],
   "source": [
    "df = df.rename(columns={'rideable_type': 'bike_type',\n",
    "                        'member_casual': 'user_type'})"
   ]
  },
  {
   "cell_type": "code",
   "execution_count": 5,
   "metadata": {},
   "outputs": [
    {
     "name": "stdout",
     "output_type": "stream",
     "text": [
      "<class 'pandas.core.frame.DataFrame'>\n",
      "Index: 5719877 entries, 0 to 224072\n",
      "Data columns (total 13 columns):\n",
      " #   Column              Dtype  \n",
      "---  ------              -----  \n",
      " 0   ride_id             object \n",
      " 1   bike_type           object \n",
      " 2   started_at          object \n",
      " 3   ended_at            object \n",
      " 4   start_station_name  object \n",
      " 5   start_station_id    object \n",
      " 6   end_station_name    object \n",
      " 7   end_station_id      object \n",
      " 8   start_lat           float64\n",
      " 9   start_lng           float64\n",
      " 10  end_lat             float64\n",
      " 11  end_lng             float64\n",
      " 12  user_type           object \n",
      "dtypes: float64(4), object(9)\n",
      "memory usage: 610.9+ MB\n"
     ]
    }
   ],
   "source": [
    "df.info()"
   ]
  },
  {
   "cell_type": "code",
   "execution_count": 6,
   "metadata": {},
   "outputs": [],
   "source": [
    "df = df.sort_values('started_at')"
   ]
  },
  {
   "cell_type": "code",
   "execution_count": 7,
   "metadata": {},
   "outputs": [],
   "source": [
    "df['started_at'] = pd.to_datetime(df['started_at'])\n",
    "df['ended_at'] = pd.to_datetime(df['ended_at'])\n",
    "\n"
   ]
  },
  {
   "cell_type": "code",
   "execution_count": 8,
   "metadata": {},
   "outputs": [],
   "source": [
    "df['ride_length'] = round((df.ended_at -  df.started_at)/datetime.timedelta(minutes=1))"
   ]
  },
  {
   "cell_type": "code",
   "execution_count": 9,
   "metadata": {},
   "outputs": [],
   "source": [
    "df['month'] = df.started_at.dt.month_name()\n",
    "df['day_of_week'] = df.started_at.dt.day_name()\n",
    "df['quarter'] = df.started_at.dt.quarter"
   ]
  },
  {
   "cell_type": "code",
   "execution_count": 10,
   "metadata": {},
   "outputs": [],
   "source": [
    "\n",
    "def haversine(lat1, lon1, lat2, lon2):\n",
    "    # Converte graus para radianos\n",
    "    lat1, lon1, lat2, lon2 = map(math.radians, [lat1, lon1, lat2, lon2])\n",
    "\n",
    "    # Diferenças das coordenadas\n",
    "    dlat = lat2 - lat1\n",
    "    dlon = lon2 - lon1\n",
    "\n",
    "    # Fórmula Haversine\n",
    "    a = math.sin(dlat / 2)**2 + math.cos(lat1) * math.cos(lat2) * math.sin(dlon / 2)**2\n",
    "    c = 2 * math.asin(math.sqrt(a))\n",
    "    r = 6371  # Raio da Terra em quilômetros\n",
    "    return c * r"
   ]
  },
  {
   "cell_type": "code",
   "execution_count": 11,
   "metadata": {},
   "outputs": [],
   "source": [
    "df['ride_km'] = df.apply(lambda x: haversine(x['start_lat'], x['start_lng'], x['end_lat'], x['end_lng']), axis=1)"
   ]
  },
  {
   "cell_type": "code",
   "execution_count": 12,
   "metadata": {},
   "outputs": [
    {
     "data": {
      "text/html": [
       "<div>\n",
       "<style scoped>\n",
       "    .dataframe tbody tr th:only-of-type {\n",
       "        vertical-align: middle;\n",
       "    }\n",
       "\n",
       "    .dataframe tbody tr th {\n",
       "        vertical-align: top;\n",
       "    }\n",
       "\n",
       "    .dataframe thead th {\n",
       "        text-align: right;\n",
       "    }\n",
       "</style>\n",
       "<table border=\"1\" class=\"dataframe\">\n",
       "  <thead>\n",
       "    <tr style=\"text-align: right;\">\n",
       "      <th></th>\n",
       "      <th>ride_id</th>\n",
       "      <th>bike_type</th>\n",
       "      <th>started_at</th>\n",
       "      <th>ended_at</th>\n",
       "      <th>start_station_name</th>\n",
       "      <th>start_station_id</th>\n",
       "      <th>end_station_name</th>\n",
       "      <th>end_station_id</th>\n",
       "      <th>start_lat</th>\n",
       "      <th>start_lng</th>\n",
       "      <th>end_lat</th>\n",
       "      <th>end_lng</th>\n",
       "      <th>user_type</th>\n",
       "      <th>ride_length</th>\n",
       "      <th>month</th>\n",
       "      <th>day_of_week</th>\n",
       "      <th>quarter</th>\n",
       "      <th>ride_km</th>\n",
       "    </tr>\n",
       "  </thead>\n",
       "  <tbody>\n",
       "    <tr>\n",
       "      <th>80659</th>\n",
       "      <td>53F0F248F28485D2</td>\n",
       "      <td>electric_bike</td>\n",
       "      <td>2023-01-01 00:01:58</td>\n",
       "      <td>2023-01-01 00:02:41</td>\n",
       "      <td>NaN</td>\n",
       "      <td>NaN</td>\n",
       "      <td>NaN</td>\n",
       "      <td>NaN</td>\n",
       "      <td>41.800000</td>\n",
       "      <td>-87.590000</td>\n",
       "      <td>41.800000</td>\n",
       "      <td>-87.590000</td>\n",
       "      <td>casual</td>\n",
       "      <td>1.0</td>\n",
       "      <td>January</td>\n",
       "      <td>Sunday</td>\n",
       "      <td>1</td>\n",
       "      <td>0.000000</td>\n",
       "    </tr>\n",
       "    <tr>\n",
       "      <th>189816</th>\n",
       "      <td>D8EEE72183269F07</td>\n",
       "      <td>classic_bike</td>\n",
       "      <td>2023-01-01 00:02:06</td>\n",
       "      <td>2023-01-01 00:29:46</td>\n",
       "      <td>Fairbanks Ct &amp; Grand Ave</td>\n",
       "      <td>TA1305000003</td>\n",
       "      <td>New St &amp; Illinois St</td>\n",
       "      <td>TA1306000013</td>\n",
       "      <td>41.891847</td>\n",
       "      <td>-87.620580</td>\n",
       "      <td>41.890847</td>\n",
       "      <td>-87.618617</td>\n",
       "      <td>member</td>\n",
       "      <td>28.0</td>\n",
       "      <td>January</td>\n",
       "      <td>Sunday</td>\n",
       "      <td>1</td>\n",
       "      <td>0.196938</td>\n",
       "    </tr>\n",
       "    <tr>\n",
       "      <th>185198</th>\n",
       "      <td>E5AD797A579842F8</td>\n",
       "      <td>electric_bike</td>\n",
       "      <td>2023-01-01 00:03:26</td>\n",
       "      <td>2023-01-01 00:07:23</td>\n",
       "      <td>Sheridan Rd &amp; Loyola Ave</td>\n",
       "      <td>RP-009</td>\n",
       "      <td>Sheridan Rd &amp; Loyola Ave</td>\n",
       "      <td>RP-009</td>\n",
       "      <td>42.001139</td>\n",
       "      <td>-87.661256</td>\n",
       "      <td>42.001044</td>\n",
       "      <td>-87.661198</td>\n",
       "      <td>casual</td>\n",
       "      <td>4.0</td>\n",
       "      <td>January</td>\n",
       "      <td>Sunday</td>\n",
       "      <td>1</td>\n",
       "      <td>0.011641</td>\n",
       "    </tr>\n",
       "    <tr>\n",
       "      <th>106410</th>\n",
       "      <td>8FBD2AD70B0F6A6F</td>\n",
       "      <td>classic_bike</td>\n",
       "      <td>2023-01-01 00:04:07</td>\n",
       "      <td>2023-01-01 00:13:56</td>\n",
       "      <td>Leavitt St &amp; Lawrence Ave</td>\n",
       "      <td>TA1309000015</td>\n",
       "      <td>Broadway &amp; Argyle St</td>\n",
       "      <td>13108</td>\n",
       "      <td>41.968885</td>\n",
       "      <td>-87.684001</td>\n",
       "      <td>41.973815</td>\n",
       "      <td>-87.659660</td>\n",
       "      <td>casual</td>\n",
       "      <td>10.0</td>\n",
       "      <td>January</td>\n",
       "      <td>Sunday</td>\n",
       "      <td>1</td>\n",
       "      <td>2.085631</td>\n",
       "    </tr>\n",
       "    <tr>\n",
       "      <th>169407</th>\n",
       "      <td>B05BD052B9EBB767</td>\n",
       "      <td>electric_bike</td>\n",
       "      <td>2023-01-01 00:04:27</td>\n",
       "      <td>2023-01-01 00:16:52</td>\n",
       "      <td>Clark St &amp; Montrose Ave</td>\n",
       "      <td>KA1503000022</td>\n",
       "      <td>Clark St &amp; Montrose Ave</td>\n",
       "      <td>KA1503000022</td>\n",
       "      <td>41.961545</td>\n",
       "      <td>-87.666189</td>\n",
       "      <td>41.961588</td>\n",
       "      <td>-87.666036</td>\n",
       "      <td>member</td>\n",
       "      <td>12.0</td>\n",
       "      <td>January</td>\n",
       "      <td>Sunday</td>\n",
       "      <td>1</td>\n",
       "      <td>0.013570</td>\n",
       "    </tr>\n",
       "  </tbody>\n",
       "</table>\n",
       "</div>"
      ],
      "text/plain": [
       "                 ride_id      bike_type          started_at  \\\n",
       "80659   53F0F248F28485D2  electric_bike 2023-01-01 00:01:58   \n",
       "189816  D8EEE72183269F07   classic_bike 2023-01-01 00:02:06   \n",
       "185198  E5AD797A579842F8  electric_bike 2023-01-01 00:03:26   \n",
       "106410  8FBD2AD70B0F6A6F   classic_bike 2023-01-01 00:04:07   \n",
       "169407  B05BD052B9EBB767  electric_bike 2023-01-01 00:04:27   \n",
       "\n",
       "                  ended_at         start_station_name start_station_id  \\\n",
       "80659  2023-01-01 00:02:41                        NaN              NaN   \n",
       "189816 2023-01-01 00:29:46   Fairbanks Ct & Grand Ave     TA1305000003   \n",
       "185198 2023-01-01 00:07:23   Sheridan Rd & Loyola Ave           RP-009   \n",
       "106410 2023-01-01 00:13:56  Leavitt St & Lawrence Ave     TA1309000015   \n",
       "169407 2023-01-01 00:16:52    Clark St & Montrose Ave     KA1503000022   \n",
       "\n",
       "                end_station_name end_station_id  start_lat  start_lng  \\\n",
       "80659                        NaN            NaN  41.800000 -87.590000   \n",
       "189816      New St & Illinois St   TA1306000013  41.891847 -87.620580   \n",
       "185198  Sheridan Rd & Loyola Ave         RP-009  42.001139 -87.661256   \n",
       "106410      Broadway & Argyle St          13108  41.968885 -87.684001   \n",
       "169407   Clark St & Montrose Ave   KA1503000022  41.961545 -87.666189   \n",
       "\n",
       "          end_lat    end_lng user_type  ride_length    month day_of_week  \\\n",
       "80659   41.800000 -87.590000    casual          1.0  January      Sunday   \n",
       "189816  41.890847 -87.618617    member         28.0  January      Sunday   \n",
       "185198  42.001044 -87.661198    casual          4.0  January      Sunday   \n",
       "106410  41.973815 -87.659660    casual         10.0  January      Sunday   \n",
       "169407  41.961588 -87.666036    member         12.0  January      Sunday   \n",
       "\n",
       "        quarter   ride_km  \n",
       "80659         1  0.000000  \n",
       "189816        1  0.196938  \n",
       "185198        1  0.011641  \n",
       "106410        1  2.085631  \n",
       "169407        1  0.013570  "
      ]
     },
     "execution_count": 12,
     "metadata": {},
     "output_type": "execute_result"
    }
   ],
   "source": [
    "df.head()"
   ]
  },
  {
   "cell_type": "markdown",
   "metadata": {},
   "source": [
    "## EDA"
   ]
  },
  {
   "cell_type": "code",
   "execution_count": 13,
   "metadata": {},
   "outputs": [
    {
     "data": {
      "text/html": [
       "<div>\n",
       "<style scoped>\n",
       "    .dataframe tbody tr th:only-of-type {\n",
       "        vertical-align: middle;\n",
       "    }\n",
       "\n",
       "    .dataframe tbody tr th {\n",
       "        vertical-align: top;\n",
       "    }\n",
       "\n",
       "    .dataframe thead th {\n",
       "        text-align: right;\n",
       "    }\n",
       "</style>\n",
       "<table border=\"1\" class=\"dataframe\">\n",
       "  <thead>\n",
       "    <tr style=\"text-align: right;\">\n",
       "      <th></th>\n",
       "      <th>ride_id</th>\n",
       "      <th>bike_type</th>\n",
       "      <th>started_at</th>\n",
       "      <th>ended_at</th>\n",
       "      <th>start_station_name</th>\n",
       "      <th>start_station_id</th>\n",
       "      <th>end_station_name</th>\n",
       "      <th>end_station_id</th>\n",
       "      <th>start_lat</th>\n",
       "      <th>start_lng</th>\n",
       "      <th>end_lat</th>\n",
       "      <th>end_lng</th>\n",
       "      <th>user_type</th>\n",
       "      <th>ride_length</th>\n",
       "      <th>month</th>\n",
       "      <th>day_of_week</th>\n",
       "      <th>quarter</th>\n",
       "      <th>ride_km</th>\n",
       "    </tr>\n",
       "  </thead>\n",
       "  <tbody>\n",
       "    <tr>\n",
       "      <th>count</th>\n",
       "      <td>5719877</td>\n",
       "      <td>5719877</td>\n",
       "      <td>5719877</td>\n",
       "      <td>5719877</td>\n",
       "      <td>4844161</td>\n",
       "      <td>4844029</td>\n",
       "      <td>4790675</td>\n",
       "      <td>4790534</td>\n",
       "      <td>5.719877e+06</td>\n",
       "      <td>5.719877e+06</td>\n",
       "      <td>5.712887e+06</td>\n",
       "      <td>5.712887e+06</td>\n",
       "      <td>5719877</td>\n",
       "      <td>5.719877e+06</td>\n",
       "      <td>5719877</td>\n",
       "      <td>5719877</td>\n",
       "      <td>5.719877e+06</td>\n",
       "      <td>5.712887e+06</td>\n",
       "    </tr>\n",
       "    <tr>\n",
       "      <th>unique</th>\n",
       "      <td>5719877</td>\n",
       "      <td>3</td>\n",
       "      <td>NaN</td>\n",
       "      <td>NaN</td>\n",
       "      <td>1592</td>\n",
       "      <td>1516</td>\n",
       "      <td>1597</td>\n",
       "      <td>1520</td>\n",
       "      <td>NaN</td>\n",
       "      <td>NaN</td>\n",
       "      <td>NaN</td>\n",
       "      <td>NaN</td>\n",
       "      <td>2</td>\n",
       "      <td>NaN</td>\n",
       "      <td>12</td>\n",
       "      <td>7</td>\n",
       "      <td>NaN</td>\n",
       "      <td>NaN</td>\n",
       "    </tr>\n",
       "    <tr>\n",
       "      <th>top</th>\n",
       "      <td>53F0F248F28485D2</td>\n",
       "      <td>electric_bike</td>\n",
       "      <td>NaN</td>\n",
       "      <td>NaN</td>\n",
       "      <td>Streeter Dr &amp; Grand Ave</td>\n",
       "      <td>13022</td>\n",
       "      <td>Streeter Dr &amp; Grand Ave</td>\n",
       "      <td>13022</td>\n",
       "      <td>NaN</td>\n",
       "      <td>NaN</td>\n",
       "      <td>NaN</td>\n",
       "      <td>NaN</td>\n",
       "      <td>member</td>\n",
       "      <td>NaN</td>\n",
       "      <td>August</td>\n",
       "      <td>Saturday</td>\n",
       "      <td>NaN</td>\n",
       "      <td>NaN</td>\n",
       "    </tr>\n",
       "    <tr>\n",
       "      <th>freq</th>\n",
       "      <td>1</td>\n",
       "      <td>2945579</td>\n",
       "      <td>NaN</td>\n",
       "      <td>NaN</td>\n",
       "      <td>63249</td>\n",
       "      <td>63249</td>\n",
       "      <td>64197</td>\n",
       "      <td>64197</td>\n",
       "      <td>NaN</td>\n",
       "      <td>NaN</td>\n",
       "      <td>NaN</td>\n",
       "      <td>NaN</td>\n",
       "      <td>3660698</td>\n",
       "      <td>NaN</td>\n",
       "      <td>771693</td>\n",
       "      <td>883566</td>\n",
       "      <td>NaN</td>\n",
       "      <td>NaN</td>\n",
       "    </tr>\n",
       "    <tr>\n",
       "      <th>mean</th>\n",
       "      <td>NaN</td>\n",
       "      <td>NaN</td>\n",
       "      <td>2023-07-16 10:27:50.017874176</td>\n",
       "      <td>2023-07-16 10:46:00.177125376</td>\n",
       "      <td>NaN</td>\n",
       "      <td>NaN</td>\n",
       "      <td>NaN</td>\n",
       "      <td>NaN</td>\n",
       "      <td>4.190288e+01</td>\n",
       "      <td>-8.764704e+01</td>\n",
       "      <td>4.190322e+01</td>\n",
       "      <td>-8.764720e+01</td>\n",
       "      <td>NaN</td>\n",
       "      <td>1.816750e+01</td>\n",
       "      <td>NaN</td>\n",
       "      <td>NaN</td>\n",
       "      <td>2.666745e+00</td>\n",
       "      <td>2.102585e+00</td>\n",
       "    </tr>\n",
       "    <tr>\n",
       "      <th>min</th>\n",
       "      <td>NaN</td>\n",
       "      <td>NaN</td>\n",
       "      <td>2023-01-01 00:01:58</td>\n",
       "      <td>2023-01-01 00:02:41</td>\n",
       "      <td>NaN</td>\n",
       "      <td>NaN</td>\n",
       "      <td>NaN</td>\n",
       "      <td>NaN</td>\n",
       "      <td>4.163000e+01</td>\n",
       "      <td>-8.794000e+01</td>\n",
       "      <td>0.000000e+00</td>\n",
       "      <td>-8.816000e+01</td>\n",
       "      <td>NaN</td>\n",
       "      <td>-1.665700e+04</td>\n",
       "      <td>NaN</td>\n",
       "      <td>NaN</td>\n",
       "      <td>1.000000e+00</td>\n",
       "      <td>0.000000e+00</td>\n",
       "    </tr>\n",
       "    <tr>\n",
       "      <th>25%</th>\n",
       "      <td>NaN</td>\n",
       "      <td>NaN</td>\n",
       "      <td>2023-05-21 12:50:44</td>\n",
       "      <td>2023-05-21 13:14:09</td>\n",
       "      <td>NaN</td>\n",
       "      <td>NaN</td>\n",
       "      <td>NaN</td>\n",
       "      <td>NaN</td>\n",
       "      <td>4.188096e+01</td>\n",
       "      <td>-8.766000e+01</td>\n",
       "      <td>4.188103e+01</td>\n",
       "      <td>-8.766027e+01</td>\n",
       "      <td>NaN</td>\n",
       "      <td>5.000000e+00</td>\n",
       "      <td>NaN</td>\n",
       "      <td>NaN</td>\n",
       "      <td>2.000000e+00</td>\n",
       "      <td>8.621367e-01</td>\n",
       "    </tr>\n",
       "    <tr>\n",
       "      <th>50%</th>\n",
       "      <td>NaN</td>\n",
       "      <td>NaN</td>\n",
       "      <td>2023-07-20 18:02:50</td>\n",
       "      <td>2023-07-20 18:19:47</td>\n",
       "      <td>NaN</td>\n",
       "      <td>NaN</td>\n",
       "      <td>NaN</td>\n",
       "      <td>NaN</td>\n",
       "      <td>4.189902e+01</td>\n",
       "      <td>-8.764403e+01</td>\n",
       "      <td>4.190000e+01</td>\n",
       "      <td>-8.764410e+01</td>\n",
       "      <td>NaN</td>\n",
       "      <td>1.000000e+01</td>\n",
       "      <td>NaN</td>\n",
       "      <td>NaN</td>\n",
       "      <td>3.000000e+00</td>\n",
       "      <td>1.539871e+00</td>\n",
       "    </tr>\n",
       "    <tr>\n",
       "      <th>75%</th>\n",
       "      <td>NaN</td>\n",
       "      <td>NaN</td>\n",
       "      <td>2023-09-16 20:08:49</td>\n",
       "      <td>2023-09-16 20:28:10</td>\n",
       "      <td>NaN</td>\n",
       "      <td>NaN</td>\n",
       "      <td>NaN</td>\n",
       "      <td>NaN</td>\n",
       "      <td>4.193000e+01</td>\n",
       "      <td>-8.762991e+01</td>\n",
       "      <td>4.193000e+01</td>\n",
       "      <td>-8.763000e+01</td>\n",
       "      <td>NaN</td>\n",
       "      <td>1.700000e+01</td>\n",
       "      <td>NaN</td>\n",
       "      <td>NaN</td>\n",
       "      <td>3.000000e+00</td>\n",
       "      <td>2.747561e+00</td>\n",
       "    </tr>\n",
       "    <tr>\n",
       "      <th>max</th>\n",
       "      <td>NaN</td>\n",
       "      <td>NaN</td>\n",
       "      <td>2023-12-31 23:59:38</td>\n",
       "      <td>2024-01-01 23:50:51</td>\n",
       "      <td>NaN</td>\n",
       "      <td>NaN</td>\n",
       "      <td>NaN</td>\n",
       "      <td>NaN</td>\n",
       "      <td>4.207000e+01</td>\n",
       "      <td>-8.746000e+01</td>\n",
       "      <td>4.218000e+01</td>\n",
       "      <td>0.000000e+00</td>\n",
       "      <td>NaN</td>\n",
       "      <td>9.848900e+04</td>\n",
       "      <td>NaN</td>\n",
       "      <td>NaN</td>\n",
       "      <td>4.000000e+00</td>\n",
       "      <td>9.815429e+03</td>\n",
       "    </tr>\n",
       "    <tr>\n",
       "      <th>std</th>\n",
       "      <td>NaN</td>\n",
       "      <td>NaN</td>\n",
       "      <td>NaN</td>\n",
       "      <td>NaN</td>\n",
       "      <td>NaN</td>\n",
       "      <td>NaN</td>\n",
       "      <td>NaN</td>\n",
       "      <td>NaN</td>\n",
       "      <td>4.505556e-02</td>\n",
       "      <td>2.733412e-02</td>\n",
       "      <td>5.444371e-02</td>\n",
       "      <td>6.919621e-02</td>\n",
       "      <td>NaN</td>\n",
       "      <td>1.808451e+02</td>\n",
       "      <td>NaN</td>\n",
       "      <td>NaN</td>\n",
       "      <td>9.157991e-01</td>\n",
       "      <td>7.359131e+00</td>\n",
       "    </tr>\n",
       "  </tbody>\n",
       "</table>\n",
       "</div>"
      ],
      "text/plain": [
       "                 ride_id      bike_type                     started_at  \\\n",
       "count            5719877        5719877                        5719877   \n",
       "unique           5719877              3                            NaN   \n",
       "top     53F0F248F28485D2  electric_bike                            NaN   \n",
       "freq                   1        2945579                            NaN   \n",
       "mean                 NaN            NaN  2023-07-16 10:27:50.017874176   \n",
       "min                  NaN            NaN            2023-01-01 00:01:58   \n",
       "25%                  NaN            NaN            2023-05-21 12:50:44   \n",
       "50%                  NaN            NaN            2023-07-20 18:02:50   \n",
       "75%                  NaN            NaN            2023-09-16 20:08:49   \n",
       "max                  NaN            NaN            2023-12-31 23:59:38   \n",
       "std                  NaN            NaN                            NaN   \n",
       "\n",
       "                             ended_at       start_station_name  \\\n",
       "count                         5719877                  4844161   \n",
       "unique                            NaN                     1592   \n",
       "top                               NaN  Streeter Dr & Grand Ave   \n",
       "freq                              NaN                    63249   \n",
       "mean    2023-07-16 10:46:00.177125376                      NaN   \n",
       "min               2023-01-01 00:02:41                      NaN   \n",
       "25%               2023-05-21 13:14:09                      NaN   \n",
       "50%               2023-07-20 18:19:47                      NaN   \n",
       "75%               2023-09-16 20:28:10                      NaN   \n",
       "max               2024-01-01 23:50:51                      NaN   \n",
       "std                               NaN                      NaN   \n",
       "\n",
       "       start_station_id         end_station_name end_station_id     start_lat  \\\n",
       "count           4844029                  4790675        4790534  5.719877e+06   \n",
       "unique             1516                     1597           1520           NaN   \n",
       "top               13022  Streeter Dr & Grand Ave          13022           NaN   \n",
       "freq              63249                    64197          64197           NaN   \n",
       "mean                NaN                      NaN            NaN  4.190288e+01   \n",
       "min                 NaN                      NaN            NaN  4.163000e+01   \n",
       "25%                 NaN                      NaN            NaN  4.188096e+01   \n",
       "50%                 NaN                      NaN            NaN  4.189902e+01   \n",
       "75%                 NaN                      NaN            NaN  4.193000e+01   \n",
       "max                 NaN                      NaN            NaN  4.207000e+01   \n",
       "std                 NaN                      NaN            NaN  4.505556e-02   \n",
       "\n",
       "           start_lng       end_lat       end_lng user_type   ride_length  \\\n",
       "count   5.719877e+06  5.712887e+06  5.712887e+06   5719877  5.719877e+06   \n",
       "unique           NaN           NaN           NaN         2           NaN   \n",
       "top              NaN           NaN           NaN    member           NaN   \n",
       "freq             NaN           NaN           NaN   3660698           NaN   \n",
       "mean   -8.764704e+01  4.190322e+01 -8.764720e+01       NaN  1.816750e+01   \n",
       "min    -8.794000e+01  0.000000e+00 -8.816000e+01       NaN -1.665700e+04   \n",
       "25%    -8.766000e+01  4.188103e+01 -8.766027e+01       NaN  5.000000e+00   \n",
       "50%    -8.764403e+01  4.190000e+01 -8.764410e+01       NaN  1.000000e+01   \n",
       "75%    -8.762991e+01  4.193000e+01 -8.763000e+01       NaN  1.700000e+01   \n",
       "max    -8.746000e+01  4.218000e+01  0.000000e+00       NaN  9.848900e+04   \n",
       "std     2.733412e-02  5.444371e-02  6.919621e-02       NaN  1.808451e+02   \n",
       "\n",
       "          month day_of_week       quarter       ride_km  \n",
       "count   5719877     5719877  5.719877e+06  5.712887e+06  \n",
       "unique       12           7           NaN           NaN  \n",
       "top      August    Saturday           NaN           NaN  \n",
       "freq     771693      883566           NaN           NaN  \n",
       "mean        NaN         NaN  2.666745e+00  2.102585e+00  \n",
       "min         NaN         NaN  1.000000e+00  0.000000e+00  \n",
       "25%         NaN         NaN  2.000000e+00  8.621367e-01  \n",
       "50%         NaN         NaN  3.000000e+00  1.539871e+00  \n",
       "75%         NaN         NaN  3.000000e+00  2.747561e+00  \n",
       "max         NaN         NaN  4.000000e+00  9.815429e+03  \n",
       "std         NaN         NaN  9.157991e-01  7.359131e+00  "
      ]
     },
     "execution_count": 13,
     "metadata": {},
     "output_type": "execute_result"
    }
   ],
   "source": [
    "df.describe(include='all')"
   ]
  },
  {
   "cell_type": "code",
   "execution_count": 14,
   "metadata": {},
   "outputs": [
    {
     "data": {
      "text/html": [
       "<div>\n",
       "<style scoped>\n",
       "    .dataframe tbody tr th:only-of-type {\n",
       "        vertical-align: middle;\n",
       "    }\n",
       "\n",
       "    .dataframe tbody tr th {\n",
       "        vertical-align: top;\n",
       "    }\n",
       "\n",
       "    .dataframe thead th {\n",
       "        text-align: right;\n",
       "    }\n",
       "</style>\n",
       "<table border=\"1\" class=\"dataframe\">\n",
       "  <thead>\n",
       "    <tr style=\"text-align: right;\">\n",
       "      <th></th>\n",
       "      <th>user_type</th>\n",
       "      <th>no_of_rides</th>\n",
       "      <th>percentage (%)</th>\n",
       "    </tr>\n",
       "  </thead>\n",
       "  <tbody>\n",
       "    <tr>\n",
       "      <th>0</th>\n",
       "      <td>member</td>\n",
       "      <td>3660698</td>\n",
       "      <td>0.639996</td>\n",
       "    </tr>\n",
       "    <tr>\n",
       "      <th>1</th>\n",
       "      <td>casual</td>\n",
       "      <td>2059179</td>\n",
       "      <td>0.360004</td>\n",
       "    </tr>\n",
       "  </tbody>\n",
       "</table>\n",
       "</div>"
      ],
      "text/plain": [
       "  user_type  no_of_rides  percentage (%)\n",
       "0    member      3660698        0.639996\n",
       "1    casual      2059179        0.360004"
      ]
     },
     "execution_count": 14,
     "metadata": {},
     "output_type": "execute_result"
    }
   ],
   "source": [
    "user = df.user_type.value_counts().reset_index(name='no_of_rides')\n",
    "user_norm = df.user_type.value_counts(normalize=True).reset_index(name='percentage')\n",
    "user['percentage (%)'] = user_norm.percentage\n",
    "user"
   ]
  },
  {
   "cell_type": "code",
   "execution_count": 16,
   "metadata": {},
   "outputs": [
    {
     "data": {
      "text/html": [
       "<div>\n",
       "<style scoped>\n",
       "    .dataframe tbody tr th:only-of-type {\n",
       "        vertical-align: middle;\n",
       "    }\n",
       "\n",
       "    .dataframe tbody tr th {\n",
       "        vertical-align: top;\n",
       "    }\n",
       "\n",
       "    .dataframe thead th {\n",
       "        text-align: right;\n",
       "    }\n",
       "</style>\n",
       "<table border=\"1\" class=\"dataframe\">\n",
       "  <thead>\n",
       "    <tr style=\"text-align: right;\">\n",
       "      <th></th>\n",
       "      <th>start_station_name</th>\n",
       "      <th>no_of_rides</th>\n",
       "    </tr>\n",
       "  </thead>\n",
       "  <tbody>\n",
       "    <tr>\n",
       "      <th>0</th>\n",
       "      <td>Streeter Dr &amp; Grand Ave</td>\n",
       "      <td>63249</td>\n",
       "    </tr>\n",
       "    <tr>\n",
       "      <th>1</th>\n",
       "      <td>DuSable Lake Shore Dr &amp; Monroe St</td>\n",
       "      <td>40288</td>\n",
       "    </tr>\n",
       "    <tr>\n",
       "      <th>2</th>\n",
       "      <td>Michigan Ave &amp; Oak St</td>\n",
       "      <td>37383</td>\n",
       "    </tr>\n",
       "    <tr>\n",
       "      <th>3</th>\n",
       "      <td>DuSable Lake Shore Dr &amp; North Blvd</td>\n",
       "      <td>35966</td>\n",
       "    </tr>\n",
       "    <tr>\n",
       "      <th>4</th>\n",
       "      <td>Clark St &amp; Elm St</td>\n",
       "      <td>35805</td>\n",
       "    </tr>\n",
       "  </tbody>\n",
       "</table>\n",
       "</div>"
      ],
      "text/plain": [
       "                   start_station_name  no_of_rides\n",
       "0             Streeter Dr & Grand Ave        63249\n",
       "1   DuSable Lake Shore Dr & Monroe St        40288\n",
       "2               Michigan Ave & Oak St        37383\n",
       "3  DuSable Lake Shore Dr & North Blvd        35966\n",
       "4                   Clark St & Elm St        35805"
      ]
     },
     "execution_count": 16,
     "metadata": {},
     "output_type": "execute_result"
    }
   ],
   "source": [
    "top_5_start_station = df.start_station_name.value_counts().reset_index(name='no_of_rides')\n",
    "top_5_start_station = top_5_start_station.sort_values('no_of_rides', ascending=False).head()\n",
    "top_5_start_station"
   ]
  },
  {
   "cell_type": "code",
   "execution_count": 17,
   "metadata": {},
   "outputs": [
    {
     "data": {
      "text/html": [
       "<div>\n",
       "<style scoped>\n",
       "    .dataframe tbody tr th:only-of-type {\n",
       "        vertical-align: middle;\n",
       "    }\n",
       "\n",
       "    .dataframe tbody tr th {\n",
       "        vertical-align: top;\n",
       "    }\n",
       "\n",
       "    .dataframe thead th {\n",
       "        text-align: right;\n",
       "    }\n",
       "</style>\n",
       "<table border=\"1\" class=\"dataframe\">\n",
       "  <thead>\n",
       "    <tr style=\"text-align: right;\">\n",
       "      <th></th>\n",
       "      <th>end_station_name</th>\n",
       "      <th>no_of_rides</th>\n",
       "    </tr>\n",
       "  </thead>\n",
       "  <tbody>\n",
       "    <tr>\n",
       "      <th>0</th>\n",
       "      <td>Streeter Dr &amp; Grand Ave</td>\n",
       "      <td>64197</td>\n",
       "    </tr>\n",
       "    <tr>\n",
       "      <th>1</th>\n",
       "      <td>DuSable Lake Shore Dr &amp; North Blvd</td>\n",
       "      <td>39301</td>\n",
       "    </tr>\n",
       "    <tr>\n",
       "      <th>2</th>\n",
       "      <td>DuSable Lake Shore Dr &amp; Monroe St</td>\n",
       "      <td>38022</td>\n",
       "    </tr>\n",
       "    <tr>\n",
       "      <th>3</th>\n",
       "      <td>Michigan Ave &amp; Oak St</td>\n",
       "      <td>37997</td>\n",
       "    </tr>\n",
       "    <tr>\n",
       "      <th>4</th>\n",
       "      <td>Clark St &amp; Elm St</td>\n",
       "      <td>34964</td>\n",
       "    </tr>\n",
       "  </tbody>\n",
       "</table>\n",
       "</div>"
      ],
      "text/plain": [
       "                     end_station_name  no_of_rides\n",
       "0             Streeter Dr & Grand Ave        64197\n",
       "1  DuSable Lake Shore Dr & North Blvd        39301\n",
       "2   DuSable Lake Shore Dr & Monroe St        38022\n",
       "3               Michigan Ave & Oak St        37997\n",
       "4                   Clark St & Elm St        34964"
      ]
     },
     "execution_count": 17,
     "metadata": {},
     "output_type": "execute_result"
    }
   ],
   "source": [
    "top_5_end_station = df.end_station_name.value_counts().reset_index(name='no_of_rides')\n",
    "top_5_end_station = top_5_end_station.sort_values('no_of_rides', ascending=False).head()\n",
    "top_5_end_station"
   ]
  },
  {
   "cell_type": "code",
   "execution_count": 18,
   "metadata": {},
   "outputs": [
    {
     "data": {
      "text/html": [
       "<div>\n",
       "<style scoped>\n",
       "    .dataframe tbody tr th:only-of-type {\n",
       "        vertical-align: middle;\n",
       "    }\n",
       "\n",
       "    .dataframe tbody tr th {\n",
       "        vertical-align: top;\n",
       "    }\n",
       "\n",
       "    .dataframe thead tr th {\n",
       "        text-align: left;\n",
       "    }\n",
       "\n",
       "    .dataframe thead tr:last-of-type th {\n",
       "        text-align: right;\n",
       "    }\n",
       "</style>\n",
       "<table border=\"1\" class=\"dataframe\">\n",
       "  <thead>\n",
       "    <tr>\n",
       "      <th></th>\n",
       "      <th colspan=\"3\" halign=\"left\">ride_length</th>\n",
       "      <th colspan=\"3\" halign=\"left\">ride_km</th>\n",
       "    </tr>\n",
       "    <tr>\n",
       "      <th></th>\n",
       "      <th>mean</th>\n",
       "      <th>max</th>\n",
       "      <th>min</th>\n",
       "      <th>mean</th>\n",
       "      <th>max</th>\n",
       "      <th>min</th>\n",
       "    </tr>\n",
       "    <tr>\n",
       "      <th>day_of_week</th>\n",
       "      <th></th>\n",
       "      <th></th>\n",
       "      <th></th>\n",
       "      <th></th>\n",
       "      <th></th>\n",
       "      <th></th>\n",
       "    </tr>\n",
       "  </thead>\n",
       "  <tbody>\n",
       "    <tr>\n",
       "      <th>Sunday</th>\n",
       "      <td>22.404146</td>\n",
       "      <td>62867.0</td>\n",
       "      <td>-16657.0</td>\n",
       "      <td>2.162584</td>\n",
       "      <td>36.932792</td>\n",
       "      <td>0.0</td>\n",
       "    </tr>\n",
       "    <tr>\n",
       "      <th>Monday</th>\n",
       "      <td>16.989984</td>\n",
       "      <td>83383.0</td>\n",
       "      <td>-6.0</td>\n",
       "      <td>2.037053</td>\n",
       "      <td>9811.343575</td>\n",
       "      <td>0.0</td>\n",
       "    </tr>\n",
       "    <tr>\n",
       "      <th>Tuesday</th>\n",
       "      <td>15.921983</td>\n",
       "      <td>64172.0</td>\n",
       "      <td>-5.0</td>\n",
       "      <td>2.073831</td>\n",
       "      <td>25.662415</td>\n",
       "      <td>0.0</td>\n",
       "    </tr>\n",
       "    <tr>\n",
       "      <th>Wednesday</th>\n",
       "      <td>15.604385</td>\n",
       "      <td>98489.0</td>\n",
       "      <td>-10626.0</td>\n",
       "      <td>2.067641</td>\n",
       "      <td>30.627320</td>\n",
       "      <td>0.0</td>\n",
       "    </tr>\n",
       "    <tr>\n",
       "      <th>Thursday</th>\n",
       "      <td>16.015214</td>\n",
       "      <td>92570.0</td>\n",
       "      <td>-15.0</td>\n",
       "      <td>2.099917</td>\n",
       "      <td>9815.428757</td>\n",
       "      <td>0.0</td>\n",
       "    </tr>\n",
       "    <tr>\n",
       "      <th>Friday</th>\n",
       "      <td>17.942398</td>\n",
       "      <td>79775.0</td>\n",
       "      <td>-82.0</td>\n",
       "      <td>2.073803</td>\n",
       "      <td>40.820460</td>\n",
       "      <td>0.0</td>\n",
       "    </tr>\n",
       "    <tr>\n",
       "      <th>Saturday</th>\n",
       "      <td>22.395202</td>\n",
       "      <td>64009.0</td>\n",
       "      <td>-50.0</td>\n",
       "      <td>2.196121</td>\n",
       "      <td>30.385396</td>\n",
       "      <td>0.0</td>\n",
       "    </tr>\n",
       "  </tbody>\n",
       "</table>\n",
       "</div>"
      ],
      "text/plain": [
       "            ride_length                     ride_km                  \n",
       "                   mean      max      min      mean          max  min\n",
       "day_of_week                                                          \n",
       "Sunday        22.404146  62867.0 -16657.0  2.162584    36.932792  0.0\n",
       "Monday        16.989984  83383.0     -6.0  2.037053  9811.343575  0.0\n",
       "Tuesday       15.921983  64172.0     -5.0  2.073831    25.662415  0.0\n",
       "Wednesday     15.604385  98489.0 -10626.0  2.067641    30.627320  0.0\n",
       "Thursday      16.015214  92570.0    -15.0  2.099917  9815.428757  0.0\n",
       "Friday        17.942398  79775.0    -82.0  2.073803    40.820460  0.0\n",
       "Saturday      22.395202  64009.0    -50.0  2.196121    30.385396  0.0"
      ]
     },
     "execution_count": 18,
     "metadata": {},
     "output_type": "execute_result"
    }
   ],
   "source": [
    "# Total users\n",
    "order = ['Sunday', 'Monday', 'Tuesday', 'Wednesday', 'Thursday', 'Friday', 'Saturday']\n",
    "\n",
    "df['day_of_week'] = pd.Categorical(df['day_of_week'], categories=order, ordered=True)\n",
    "df.groupby('day_of_week').agg({'ride_length': ['mean', 'max', 'min'],\n",
    "                               'ride_km': ['mean', 'max', 'min']})"
   ]
  },
  {
   "cell_type": "code",
   "execution_count": 19,
   "metadata": {},
   "outputs": [
    {
     "data": {
      "text/html": [
       "<div>\n",
       "<style scoped>\n",
       "    .dataframe tbody tr th:only-of-type {\n",
       "        vertical-align: middle;\n",
       "    }\n",
       "\n",
       "    .dataframe tbody tr th {\n",
       "        vertical-align: top;\n",
       "    }\n",
       "\n",
       "    .dataframe thead tr th {\n",
       "        text-align: left;\n",
       "    }\n",
       "\n",
       "    .dataframe thead tr:last-of-type th {\n",
       "        text-align: right;\n",
       "    }\n",
       "</style>\n",
       "<table border=\"1\" class=\"dataframe\">\n",
       "  <thead>\n",
       "    <tr>\n",
       "      <th></th>\n",
       "      <th colspan=\"3\" halign=\"left\">ride_length</th>\n",
       "      <th colspan=\"3\" halign=\"left\">ride_km</th>\n",
       "    </tr>\n",
       "    <tr>\n",
       "      <th></th>\n",
       "      <th>mean</th>\n",
       "      <th>max</th>\n",
       "      <th>min</th>\n",
       "      <th>mean</th>\n",
       "      <th>max</th>\n",
       "      <th>min</th>\n",
       "    </tr>\n",
       "    <tr>\n",
       "      <th>day_of_week</th>\n",
       "      <th></th>\n",
       "      <th></th>\n",
       "      <th></th>\n",
       "      <th></th>\n",
       "      <th></th>\n",
       "      <th></th>\n",
       "    </tr>\n",
       "  </thead>\n",
       "  <tbody>\n",
       "    <tr>\n",
       "      <th>Sunday</th>\n",
       "      <td>13.903989</td>\n",
       "      <td>1501.0</td>\n",
       "      <td>-16635.0</td>\n",
       "      <td>2.153972</td>\n",
       "      <td>29.424899</td>\n",
       "      <td>0.0</td>\n",
       "    </tr>\n",
       "    <tr>\n",
       "      <th>Monday</th>\n",
       "      <td>11.899209</td>\n",
       "      <td>1500.0</td>\n",
       "      <td>-5.0</td>\n",
       "      <td>2.021693</td>\n",
       "      <td>29.555438</td>\n",
       "      <td>0.0</td>\n",
       "    </tr>\n",
       "    <tr>\n",
       "      <th>Tuesday</th>\n",
       "      <td>12.011135</td>\n",
       "      <td>1500.0</td>\n",
       "      <td>-3.0</td>\n",
       "      <td>2.086333</td>\n",
       "      <td>25.662415</td>\n",
       "      <td>0.0</td>\n",
       "    </tr>\n",
       "    <tr>\n",
       "      <th>Wednesday</th>\n",
       "      <td>11.927393</td>\n",
       "      <td>1500.0</td>\n",
       "      <td>-10476.0</td>\n",
       "      <td>2.083396</td>\n",
       "      <td>25.394429</td>\n",
       "      <td>0.0</td>\n",
       "    </tr>\n",
       "    <tr>\n",
       "      <th>Thursday</th>\n",
       "      <td>12.017789</td>\n",
       "      <td>1500.0</td>\n",
       "      <td>-15.0</td>\n",
       "      <td>2.106280</td>\n",
       "      <td>9815.428757</td>\n",
       "      <td>0.0</td>\n",
       "    </tr>\n",
       "    <tr>\n",
       "      <th>Friday</th>\n",
       "      <td>12.475635</td>\n",
       "      <td>1500.0</td>\n",
       "      <td>-82.0</td>\n",
       "      <td>2.055913</td>\n",
       "      <td>40.820460</td>\n",
       "      <td>0.0</td>\n",
       "    </tr>\n",
       "    <tr>\n",
       "      <th>Saturday</th>\n",
       "      <td>13.935211</td>\n",
       "      <td>1560.0</td>\n",
       "      <td>-22.0</td>\n",
       "      <td>2.178332</td>\n",
       "      <td>29.672580</td>\n",
       "      <td>0.0</td>\n",
       "    </tr>\n",
       "  </tbody>\n",
       "</table>\n",
       "</div>"
      ],
      "text/plain": [
       "            ride_length                    ride_km                  \n",
       "                   mean     max      min      mean          max  min\n",
       "day_of_week                                                         \n",
       "Sunday        13.903989  1501.0 -16635.0  2.153972    29.424899  0.0\n",
       "Monday        11.899209  1500.0     -5.0  2.021693    29.555438  0.0\n",
       "Tuesday       12.011135  1500.0     -3.0  2.086333    25.662415  0.0\n",
       "Wednesday     11.927393  1500.0 -10476.0  2.083396    25.394429  0.0\n",
       "Thursday      12.017789  1500.0    -15.0  2.106280  9815.428757  0.0\n",
       "Friday        12.475635  1500.0    -82.0  2.055913    40.820460  0.0\n",
       "Saturday      13.935211  1560.0    -22.0  2.178332    29.672580  0.0"
      ]
     },
     "execution_count": 19,
     "metadata": {},
     "output_type": "execute_result"
    }
   ],
   "source": [
    "# Members\n",
    "order = ['Sunday', 'Monday', 'Tuesday', 'Wednesday', 'Thursday', 'Friday', 'Saturday']\n",
    "\n",
    "df['day_of_week'] = pd.Categorical(df['day_of_week'], categories=order, ordered=True)\n",
    "df.loc[df['user_type']=='member'].groupby('day_of_week').agg({'ride_length': ['mean', 'max', 'min'],\n",
    "                               'ride_km': ['mean', 'max', 'min']})"
   ]
  },
  {
   "cell_type": "code",
   "execution_count": 20,
   "metadata": {},
   "outputs": [
    {
     "data": {
      "text/html": [
       "<div>\n",
       "<style scoped>\n",
       "    .dataframe tbody tr th:only-of-type {\n",
       "        vertical-align: middle;\n",
       "    }\n",
       "\n",
       "    .dataframe tbody tr th {\n",
       "        vertical-align: top;\n",
       "    }\n",
       "\n",
       "    .dataframe thead tr th {\n",
       "        text-align: left;\n",
       "    }\n",
       "\n",
       "    .dataframe thead tr:last-of-type th {\n",
       "        text-align: right;\n",
       "    }\n",
       "</style>\n",
       "<table border=\"1\" class=\"dataframe\">\n",
       "  <thead>\n",
       "    <tr>\n",
       "      <th></th>\n",
       "      <th colspan=\"3\" halign=\"left\">ride_length</th>\n",
       "      <th colspan=\"3\" halign=\"left\">ride_km</th>\n",
       "    </tr>\n",
       "    <tr>\n",
       "      <th></th>\n",
       "      <th>mean</th>\n",
       "      <th>max</th>\n",
       "      <th>min</th>\n",
       "      <th>mean</th>\n",
       "      <th>max</th>\n",
       "      <th>min</th>\n",
       "    </tr>\n",
       "    <tr>\n",
       "      <th>day_of_week</th>\n",
       "      <th></th>\n",
       "      <th></th>\n",
       "      <th></th>\n",
       "      <th></th>\n",
       "      <th></th>\n",
       "      <th></th>\n",
       "    </tr>\n",
       "  </thead>\n",
       "  <tbody>\n",
       "    <tr>\n",
       "      <th>Sunday</th>\n",
       "      <td>32.756209</td>\n",
       "      <td>62867.0</td>\n",
       "      <td>-16657.0</td>\n",
       "      <td>2.173105</td>\n",
       "      <td>36.932792</td>\n",
       "      <td>0.0</td>\n",
       "    </tr>\n",
       "    <tr>\n",
       "      <th>Monday</th>\n",
       "      <td>27.711768</td>\n",
       "      <td>83383.0</td>\n",
       "      <td>-6.0</td>\n",
       "      <td>2.069480</td>\n",
       "      <td>9811.343575</td>\n",
       "      <td>0.0</td>\n",
       "    </tr>\n",
       "    <tr>\n",
       "      <th>Tuesday</th>\n",
       "      <td>25.082738</td>\n",
       "      <td>64172.0</td>\n",
       "      <td>-5.0</td>\n",
       "      <td>2.044481</td>\n",
       "      <td>25.239582</td>\n",
       "      <td>0.0</td>\n",
       "    </tr>\n",
       "    <tr>\n",
       "      <th>Wednesday</th>\n",
       "      <td>24.258876</td>\n",
       "      <td>98489.0</td>\n",
       "      <td>-10626.0</td>\n",
       "      <td>2.030481</td>\n",
       "      <td>30.627320</td>\n",
       "      <td>0.0</td>\n",
       "    </tr>\n",
       "    <tr>\n",
       "      <th>Thursday</th>\n",
       "      <td>24.724517</td>\n",
       "      <td>92570.0</td>\n",
       "      <td>-4.0</td>\n",
       "      <td>2.086021</td>\n",
       "      <td>9810.763392</td>\n",
       "      <td>0.0</td>\n",
       "    </tr>\n",
       "    <tr>\n",
       "      <th>Friday</th>\n",
       "      <td>27.259142</td>\n",
       "      <td>79775.0</td>\n",
       "      <td>-60.0</td>\n",
       "      <td>2.104365</td>\n",
       "      <td>27.674655</td>\n",
       "      <td>0.0</td>\n",
       "    </tr>\n",
       "    <tr>\n",
       "      <th>Saturday</th>\n",
       "      <td>32.135481</td>\n",
       "      <td>64009.0</td>\n",
       "      <td>-50.0</td>\n",
       "      <td>2.216661</td>\n",
       "      <td>30.385396</td>\n",
       "      <td>0.0</td>\n",
       "    </tr>\n",
       "  </tbody>\n",
       "</table>\n",
       "</div>"
      ],
      "text/plain": [
       "            ride_length                     ride_km                  \n",
       "                   mean      max      min      mean          max  min\n",
       "day_of_week                                                          \n",
       "Sunday        32.756209  62867.0 -16657.0  2.173105    36.932792  0.0\n",
       "Monday        27.711768  83383.0     -6.0  2.069480  9811.343575  0.0\n",
       "Tuesday       25.082738  64172.0     -5.0  2.044481    25.239582  0.0\n",
       "Wednesday     24.258876  98489.0 -10626.0  2.030481    30.627320  0.0\n",
       "Thursday      24.724517  92570.0     -4.0  2.086021  9810.763392  0.0\n",
       "Friday        27.259142  79775.0    -60.0  2.104365    27.674655  0.0\n",
       "Saturday      32.135481  64009.0    -50.0  2.216661    30.385396  0.0"
      ]
     },
     "execution_count": 20,
     "metadata": {},
     "output_type": "execute_result"
    }
   ],
   "source": [
    "# Casual users\n",
    "order = ['Sunday', 'Monday', 'Tuesday', 'Wednesday', 'Thursday', 'Friday', 'Saturday']\n",
    "\n",
    "df['day_of_week'] = pd.Categorical(df['day_of_week'], categories=order, ordered=True)\n",
    "df.loc[df['user_type']=='casual'].groupby('day_of_week').agg({'ride_length': ['mean', 'max', 'min'],\n",
    "                               'ride_km': ['mean', 'max', 'min']})"
   ]
  },
  {
   "cell_type": "code",
   "execution_count": 37,
   "metadata": {},
   "outputs": [],
   "source": [
    "df = df[ (df['ride_km'] < 9000)]"
   ]
  },
  {
   "cell_type": "code",
   "execution_count": 38,
   "metadata": {},
   "outputs": [
    {
     "data": {
      "image/png": "[encoded data removed]",
      "text/plain": [
       "<Figure size 1000x600 with 1 Axes>"
      ]
     },
     "metadata": {},
     "output_type": "display_data"
    }
   ],
   "source": [
    "# km\n",
    "fig, ax = plt.subplots(figsize=(10,6))\n",
    "sns.set_theme(style='white')\n",
    "\n",
    "ax = sns.boxplot(data=df, x='ride_km', orient='h', color=AZUL2)\n"
   ]
  },
  {
   "cell_type": "code",
   "execution_count": 28,
   "metadata": {},
   "outputs": [
    {
     "data": {
      "text/plain": [
       "0.25    0.862137\n",
       "0.50    1.539871\n",
       "0.75    2.747561\n",
       "Name: ride_km, dtype: float64"
      ]
     },
     "execution_count": 28,
     "metadata": {},
     "output_type": "execute_result"
    }
   ],
   "source": [
    "df.ride_km.quantile([0.25,0.5,0.75])"
   ]
  },
  {
   "cell_type": "code",
   "execution_count": 29,
   "metadata": {},
   "outputs": [
    {
     "name": "stdout",
     "output_type": "stream",
     "text": [
      "Lower bound:-1.9659994441806763\n",
      "Upper bound:5.575697014668769\n"
     ]
    }
   ],
   "source": [
    "Q1 = df.ride_km.quantile(0.25)\n",
    "Q3 = df.ride_km.quantile(0.75)\n",
    "\n",
    "IQR = Q3 - Q1\n",
    "\n",
    "lower_bound = Q1-(1.5*IQR)\n",
    "upper_bound = Q3+(1.5*IQR)\n",
    "print(f'Lower bound:{lower_bound}\\nUpper bound:{upper_bound}')"
   ]
  },
  {
   "cell_type": "code",
   "execution_count": 34,
   "metadata": {},
   "outputs": [
    {
     "data": {
      "image/png": "[encoded data removed]",
      "text/plain": [
       "<Figure size 1000x600 with 1 Axes>"
      ]
     },
     "metadata": {},
     "output_type": "display_data"
    }
   ],
   "source": [
    "# time\n",
    "fig, ax = plt.subplots(figsize=(10,6))\n",
    "sns.set_theme(style='white')\n",
    "\n",
    "ax = sns.boxplot(data=df, x='ride_length', orient='h', color=AZUL2)"
   ]
  },
  {
   "cell_type": "code",
   "execution_count": 35,
   "metadata": {},
   "outputs": [
    {
     "data": {
      "text/plain": [
       "0.25     5.0\n",
       "0.50    10.0\n",
       "0.75    17.0\n",
       "Name: ride_length, dtype: float64"
      ]
     },
     "execution_count": 35,
     "metadata": {},
     "output_type": "execute_result"
    }
   ],
   "source": [
    "df.ride_length.quantile([0.25,0.5,0.75])"
   ]
  },
  {
   "cell_type": "code",
   "execution_count": 36,
   "metadata": {},
   "outputs": [
    {
     "name": "stdout",
     "output_type": "stream",
     "text": [
      "Lower bound:-13.0\n",
      "Upper bound:35.0\n"
     ]
    }
   ],
   "source": [
    "Q1 = df.ride_length.quantile(0.25)\n",
    "Q3 = df.ride_length.quantile(0.75)\n",
    "\n",
    "IQR = Q3 - Q1\n",
    "\n",
    "lower_bound = Q1-(1.5*IQR)\n",
    "upper_bound = Q3+(1.5*IQR)\n",
    "print(f'Lower bound:{lower_bound}\\nUpper bound:{upper_bound}')"
   ]
  },
  {
   "cell_type": "markdown",
   "metadata": {},
   "source": [
    "## Cleaning"
   ]
  },
  {
   "cell_type": "code",
   "execution_count": 39,
   "metadata": {},
   "outputs": [],
   "source": [
    "# In this analysis, we will only consider trips that are up to one day long and longer than 1 minute.\n",
    "df = df[(df['ride_length'] >= 1) & (df['ride_length'] < 1440)]"
   ]
  },
  {
   "cell_type": "code",
   "execution_count": 40,
   "metadata": {},
   "outputs": [
    {
     "data": {
      "text/plain": [
       "0"
      ]
     },
     "execution_count": 40,
     "metadata": {},
     "output_type": "execute_result"
    }
   ],
   "source": [
    "# checking for duplicated values\n",
    "df.duplicated().sum()"
   ]
  },
  {
   "cell_type": "code",
   "execution_count": 41,
   "metadata": {},
   "outputs": [
    {
     "data": {
      "text/plain": [
       "ride_id                0.000000\n",
       "bike_type              0.000000\n",
       "started_at             0.000000\n",
       "ended_at               0.000000\n",
       "start_station_name    15.100275\n",
       "start_station_id      15.102590\n",
       "end_station_name      15.697960\n",
       "end_station_id        15.700435\n",
       "start_lat              0.000000\n",
       "start_lng              0.000000\n",
       "end_lat                0.000000\n",
       "end_lng                0.000000\n",
       "user_type              0.000000\n",
       "ride_length            0.000000\n",
       "month                  0.000000\n",
       "day_of_week            0.000000\n",
       "quarter                0.000000\n",
       "ride_km                0.000000\n",
       "dtype: float64"
      ]
     },
     "execution_count": 41,
     "metadata": {},
     "output_type": "execute_result"
    }
   ],
   "source": [
    "# checking the percentage of missing values\n",
    "(df.isna().sum()/len(df))*100"
   ]
  },
  {
   "cell_type": "code",
   "execution_count": 42,
   "metadata": {},
   "outputs": [],
   "source": [
    "# As 'end_lat', 'end_lng' and 'ride_km' has 0.01% missing values, we will delete these entries.\n",
    "df.dropna(subset=['end_lat', 'end_lng', 'ride_km'], inplace=True)"
   ]
  },
  {
   "cell_type": "code",
   "execution_count": 43,
   "metadata": {},
   "outputs": [],
   "source": [
    "df = df[(df['ride_km']>0) & (df['ride_km'] < 6)]"
   ]
  },
  {
   "cell_type": "markdown",
   "metadata": {},
   "source": [
    "## Data Vizualization"
   ]
  },
  {
   "cell_type": "code",
   "execution_count": 44,
   "metadata": {},
   "outputs": [
    {
     "data": {
      "text/html": [
       "<div>\n",
       "<style scoped>\n",
       "    .dataframe tbody tr th:only-of-type {\n",
       "        vertical-align: middle;\n",
       "    }\n",
       "\n",
       "    .dataframe tbody tr th {\n",
       "        vertical-align: top;\n",
       "    }\n",
       "\n",
       "    .dataframe thead th {\n",
       "        text-align: right;\n",
       "    }\n",
       "</style>\n",
       "<table border=\"1\" class=\"dataframe\">\n",
       "  <thead>\n",
       "    <tr style=\"text-align: right;\">\n",
       "      <th></th>\n",
       "      <th>bike_type</th>\n",
       "      <th>total</th>\n",
       "    </tr>\n",
       "  </thead>\n",
       "  <tbody>\n",
       "    <tr>\n",
       "      <th>2</th>\n",
       "      <td>docked_bike</td>\n",
       "      <td>56724</td>\n",
       "    </tr>\n",
       "    <tr>\n",
       "      <th>1</th>\n",
       "      <td>classic_bike</td>\n",
       "      <td>2425678</td>\n",
       "    </tr>\n",
       "    <tr>\n",
       "      <th>0</th>\n",
       "      <td>electric_bike</td>\n",
       "      <td>2633812</td>\n",
       "    </tr>\n",
       "  </tbody>\n",
       "</table>\n",
       "</div>"
      ],
      "text/plain": [
       "       bike_type    total\n",
       "2    docked_bike    56724\n",
       "1   classic_bike  2425678\n",
       "0  electric_bike  2633812"
      ]
     },
     "execution_count": 44,
     "metadata": {},
     "output_type": "execute_result"
    }
   ],
   "source": [
    "# What are the most used types of bikes?\n",
    "\n",
    "df_bike_type = df.copy()\n",
    "df_bike_type = df_bike_type.bike_type.value_counts().reset_index() \n",
    "df_bike_type = df_bike_type.rename(columns={'count': 'total'})\n",
    "df_bike_type = df_bike_type.sort_values('total', ascending=True)\n",
    "df_bike_type "
   ]
  },
  {
   "cell_type": "code",
   "execution_count": 45,
   "metadata": {},
   "outputs": [],
   "source": [
    "\n",
    "def plot_col_style(colors: list=[AZUL2]):\n",
    "    fig, ax = plt.subplots(figsize=(10,5))\n",
    "    sns.set_theme(style='white')\n",
    "\n",
    "    ax = sns.barplot(data=df_bike_type, x=df_bike_type.bike_type, y=df_bike_type.total, palette=colors)\n",
    "\n",
    "    ax.set_title('Bike sharing by bike type\\nin 2023', loc='left', fontsize=18, color=CINZA1)\n",
    "    ax.set_xlabel('')\n",
    "    ax.set_ylabel('')\n",
    "    ax.xaxis.set_tick_params(labelsize=14, labelcolor=CINZA2)\n",
    "    sns.despine(left=True, bottom=True)\n",
    "\n",
    "    ax.set_yticklabels([])\n",
    "    for i, valor in enumerate(df_bike_type.total):\n",
    "        qtd = f'{valor:,.0f}'\n",
    "        offset = 1e5\n",
    "        ax.text(i, valor+offset, qtd, color=CINZA2, fontsize=12, ha='center', va='center')\n",
    "    return ax\n",
    "\n"
   ]
  },
  {
   "cell_type": "code",
   "execution_count": 46,
   "metadata": {},
   "outputs": [
    {
     "data": {
      "image/png": "[encoded data removed]",
      "text/plain": [
       "<Figure size 1000x500 with 1 Axes>"
      ]
     },
     "metadata": {},
     "output_type": "display_data"
    }
   ],
   "source": [
    "colors = []\n",
    "for i in df_bike_type.index:\n",
    "    if df_bike_type.loc[i, 'total'] == df_bike_type.total.max():\n",
    "        colors.append(AZUL2)\n",
    "    else:\n",
    "        colors.append(AZUL5)\n",
    "\n",
    "ax = plot_col_style(colors)\n",
    "\n",
    "ax.text(2.5, 2e6,\n",
    "        'In relation to $\\\\bf{classic}$ $\\\\bf{bikes}$,\\n'\n",
    "        'the total number of $\\\\bf{electric}$ \\n'\n",
    "        '$\\\\bf{bikes}$ rented was $\\\\bf{8.58}$%\\n'\n",
    "        'higher in the year 2023.',\n",
    "        fontsize=14, linespacing=1.45, color=AZUL2)\n",
    "\n",
    "fig = ax.get_figure()"
   ]
  },
  {
   "cell_type": "code",
   "execution_count": 47,
   "metadata": {},
   "outputs": [
    {
     "data": {
      "text/html": [
       "<div>\n",
       "<style scoped>\n",
       "    .dataframe tbody tr th:only-of-type {\n",
       "        vertical-align: middle;\n",
       "    }\n",
       "\n",
       "    .dataframe tbody tr th {\n",
       "        vertical-align: top;\n",
       "    }\n",
       "\n",
       "    .dataframe thead th {\n",
       "        text-align: right;\n",
       "    }\n",
       "</style>\n",
       "<table border=\"1\" class=\"dataframe\">\n",
       "  <thead>\n",
       "    <tr style=\"text-align: right;\">\n",
       "      <th></th>\n",
       "      <th>bike_type</th>\n",
       "      <th>user_type</th>\n",
       "      <th>month</th>\n",
       "      <th>quarter</th>\n",
       "    </tr>\n",
       "  </thead>\n",
       "  <tbody>\n",
       "    <tr>\n",
       "      <th>189816</th>\n",
       "      <td>classic_bike</td>\n",
       "      <td>member</td>\n",
       "      <td>January</td>\n",
       "      <td>1</td>\n",
       "    </tr>\n",
       "    <tr>\n",
       "      <th>185198</th>\n",
       "      <td>electric_bike</td>\n",
       "      <td>casual</td>\n",
       "      <td>January</td>\n",
       "      <td>1</td>\n",
       "    </tr>\n",
       "    <tr>\n",
       "      <th>106410</th>\n",
       "      <td>classic_bike</td>\n",
       "      <td>casual</td>\n",
       "      <td>January</td>\n",
       "      <td>1</td>\n",
       "    </tr>\n",
       "    <tr>\n",
       "      <th>169407</th>\n",
       "      <td>electric_bike</td>\n",
       "      <td>member</td>\n",
       "      <td>January</td>\n",
       "      <td>1</td>\n",
       "    </tr>\n",
       "    <tr>\n",
       "      <th>18323</th>\n",
       "      <td>classic_bike</td>\n",
       "      <td>member</td>\n",
       "      <td>January</td>\n",
       "      <td>1</td>\n",
       "    </tr>\n",
       "    <tr>\n",
       "      <th>...</th>\n",
       "      <td>...</td>\n",
       "      <td>...</td>\n",
       "      <td>...</td>\n",
       "      <td>...</td>\n",
       "    </tr>\n",
       "    <tr>\n",
       "      <th>164055</th>\n",
       "      <td>electric_bike</td>\n",
       "      <td>member</td>\n",
       "      <td>December</td>\n",
       "      <td>4</td>\n",
       "    </tr>\n",
       "    <tr>\n",
       "      <th>222564</th>\n",
       "      <td>electric_bike</td>\n",
       "      <td>member</td>\n",
       "      <td>December</td>\n",
       "      <td>4</td>\n",
       "    </tr>\n",
       "    <tr>\n",
       "      <th>178730</th>\n",
       "      <td>electric_bike</td>\n",
       "      <td>casual</td>\n",
       "      <td>December</td>\n",
       "      <td>4</td>\n",
       "    </tr>\n",
       "    <tr>\n",
       "      <th>179852</th>\n",
       "      <td>electric_bike</td>\n",
       "      <td>member</td>\n",
       "      <td>December</td>\n",
       "      <td>4</td>\n",
       "    </tr>\n",
       "    <tr>\n",
       "      <th>119377</th>\n",
       "      <td>electric_bike</td>\n",
       "      <td>casual</td>\n",
       "      <td>December</td>\n",
       "      <td>4</td>\n",
       "    </tr>\n",
       "  </tbody>\n",
       "</table>\n",
       "<p>5116214 rows × 4 columns</p>\n",
       "</div>"
      ],
      "text/plain": [
       "            bike_type user_type     month  quarter\n",
       "189816   classic_bike    member   January        1\n",
       "185198  electric_bike    casual   January        1\n",
       "106410   classic_bike    casual   January        1\n",
       "169407  electric_bike    member   January        1\n",
       "18323    classic_bike    member   January        1\n",
       "...               ...       ...       ...      ...\n",
       "164055  electric_bike    member  December        4\n",
       "222564  electric_bike    member  December        4\n",
       "178730  electric_bike    casual  December        4\n",
       "179852  electric_bike    member  December        4\n",
       "119377  electric_bike    casual  December        4\n",
       "\n",
       "[5116214 rows x 4 columns]"
      ]
     },
     "execution_count": 47,
     "metadata": {},
     "output_type": "execute_result"
    }
   ],
   "source": [
    "# Bike sharing by month\n",
    "df_rides = df.copy()\n",
    "df_rides = df_rides[['bike_type','user_type', 'month', 'quarter']]\n",
    "df_rides"
   ]
  },
  {
   "cell_type": "code",
   "execution_count": 48,
   "metadata": {},
   "outputs": [
    {
     "data": {
      "text/html": [
       "<div>\n",
       "<style scoped>\n",
       "    .dataframe tbody tr th:only-of-type {\n",
       "        vertical-align: middle;\n",
       "    }\n",
       "\n",
       "    .dataframe tbody tr th {\n",
       "        vertical-align: top;\n",
       "    }\n",
       "\n",
       "    .dataframe thead th {\n",
       "        text-align: right;\n",
       "    }\n",
       "</style>\n",
       "<table border=\"1\" class=\"dataframe\">\n",
       "  <thead>\n",
       "    <tr style=\"text-align: right;\">\n",
       "      <th></th>\n",
       "      <th>month</th>\n",
       "      <th>user_type</th>\n",
       "      <th>no_of_rides</th>\n",
       "    </tr>\n",
       "  </thead>\n",
       "  <tbody>\n",
       "    <tr>\n",
       "      <th>0</th>\n",
       "      <td>January</td>\n",
       "      <td>casual</td>\n",
       "      <td>36108</td>\n",
       "    </tr>\n",
       "    <tr>\n",
       "      <th>1</th>\n",
       "      <td>January</td>\n",
       "      <td>member</td>\n",
       "      <td>138169</td>\n",
       "    </tr>\n",
       "    <tr>\n",
       "      <th>2</th>\n",
       "      <td>February</td>\n",
       "      <td>casual</td>\n",
       "      <td>38390</td>\n",
       "    </tr>\n",
       "    <tr>\n",
       "      <th>3</th>\n",
       "      <td>February</td>\n",
       "      <td>member</td>\n",
       "      <td>135361</td>\n",
       "    </tr>\n",
       "    <tr>\n",
       "      <th>4</th>\n",
       "      <td>March</td>\n",
       "      <td>casual</td>\n",
       "      <td>55651</td>\n",
       "    </tr>\n",
       "    <tr>\n",
       "      <th>5</th>\n",
       "      <td>March</td>\n",
       "      <td>member</td>\n",
       "      <td>179801</td>\n",
       "    </tr>\n",
       "    <tr>\n",
       "      <th>6</th>\n",
       "      <td>April</td>\n",
       "      <td>casual</td>\n",
       "      <td>126847</td>\n",
       "    </tr>\n",
       "    <tr>\n",
       "      <th>7</th>\n",
       "      <td>April</td>\n",
       "      <td>member</td>\n",
       "      <td>251785</td>\n",
       "    </tr>\n",
       "    <tr>\n",
       "      <th>8</th>\n",
       "      <td>May</td>\n",
       "      <td>casual</td>\n",
       "      <td>200002</td>\n",
       "    </tr>\n",
       "    <tr>\n",
       "      <th>9</th>\n",
       "      <td>May</td>\n",
       "      <td>member</td>\n",
       "      <td>333573</td>\n",
       "    </tr>\n",
       "    <tr>\n",
       "      <th>10</th>\n",
       "      <td>June</td>\n",
       "      <td>casual</td>\n",
       "      <td>260662</td>\n",
       "    </tr>\n",
       "    <tr>\n",
       "      <th>11</th>\n",
       "      <td>June</td>\n",
       "      <td>member</td>\n",
       "      <td>377633</td>\n",
       "    </tr>\n",
       "    <tr>\n",
       "      <th>12</th>\n",
       "      <td>July</td>\n",
       "      <td>casual</td>\n",
       "      <td>283867</td>\n",
       "    </tr>\n",
       "    <tr>\n",
       "      <th>13</th>\n",
       "      <td>July</td>\n",
       "      <td>member</td>\n",
       "      <td>392234</td>\n",
       "    </tr>\n",
       "    <tr>\n",
       "      <th>14</th>\n",
       "      <td>August</td>\n",
       "      <td>casual</td>\n",
       "      <td>268690</td>\n",
       "    </tr>\n",
       "    <tr>\n",
       "      <th>15</th>\n",
       "      <td>August</td>\n",
       "      <td>member</td>\n",
       "      <td>415326</td>\n",
       "    </tr>\n",
       "    <tr>\n",
       "      <th>16</th>\n",
       "      <td>September</td>\n",
       "      <td>casual</td>\n",
       "      <td>227251</td>\n",
       "    </tr>\n",
       "    <tr>\n",
       "      <th>17</th>\n",
       "      <td>September</td>\n",
       "      <td>member</td>\n",
       "      <td>366980</td>\n",
       "    </tr>\n",
       "    <tr>\n",
       "      <th>18</th>\n",
       "      <td>October</td>\n",
       "      <td>casual</td>\n",
       "      <td>157301</td>\n",
       "    </tr>\n",
       "    <tr>\n",
       "      <th>19</th>\n",
       "      <td>October</td>\n",
       "      <td>member</td>\n",
       "      <td>330376</td>\n",
       "    </tr>\n",
       "    <tr>\n",
       "      <th>20</th>\n",
       "      <td>November</td>\n",
       "      <td>casual</td>\n",
       "      <td>88863</td>\n",
       "    </tr>\n",
       "    <tr>\n",
       "      <th>21</th>\n",
       "      <td>November</td>\n",
       "      <td>member</td>\n",
       "      <td>244285</td>\n",
       "    </tr>\n",
       "    <tr>\n",
       "      <th>22</th>\n",
       "      <td>December</td>\n",
       "      <td>casual</td>\n",
       "      <td>46939</td>\n",
       "    </tr>\n",
       "    <tr>\n",
       "      <th>23</th>\n",
       "      <td>December</td>\n",
       "      <td>member</td>\n",
       "      <td>160120</td>\n",
       "    </tr>\n",
       "  </tbody>\n",
       "</table>\n",
       "</div>"
      ],
      "text/plain": [
       "        month user_type  no_of_rides\n",
       "0     January    casual        36108\n",
       "1     January    member       138169\n",
       "2    February    casual        38390\n",
       "3    February    member       135361\n",
       "4       March    casual        55651\n",
       "5       March    member       179801\n",
       "6       April    casual       126847\n",
       "7       April    member       251785\n",
       "8         May    casual       200002\n",
       "9         May    member       333573\n",
       "10       June    casual       260662\n",
       "11       June    member       377633\n",
       "12       July    casual       283867\n",
       "13       July    member       392234\n",
       "14     August    casual       268690\n",
       "15     August    member       415326\n",
       "16  September    casual       227251\n",
       "17  September    member       366980\n",
       "18    October    casual       157301\n",
       "19    October    member       330376\n",
       "20   November    casual        88863\n",
       "21   November    member       244285\n",
       "22   December    casual        46939\n",
       "23   December    member       160120"
      ]
     },
     "execution_count": 48,
     "metadata": {},
     "output_type": "execute_result"
    }
   ],
   "source": [
    "order = ['January', 'February', 'March', 'April', 'May', 'June', 'July', 'August', 'September', 'October', 'November', 'December']\n",
    "\n",
    "df_rides['month'] = pd.Categorical(df_rides['month'], categories=order, ordered=True)\n",
    "\n",
    "df_rides_month = df_rides.groupby(['month', 'user_type']).size().reset_index(name='no_of_rides')\n",
    "df_rides_month"
   ]
  },
  {
   "cell_type": "code",
   "execution_count": 49,
   "metadata": {},
   "outputs": [
    {
     "data": {
      "image/png": "[encoded data removed]",
      "text/plain": [
       "<Figure size 1500x1000 with 1 Axes>"
      ]
     },
     "metadata": {},
     "output_type": "display_data"
    }
   ],
   "source": [
    "def plot_bar_style():\n",
    "\n",
    "    fig, ax = plt.subplots(figsize=(15,10))\n",
    "    fig.subplots_adjust(right=0.7)\n",
    "    sns.set_theme(style='white')\n",
    "\n",
    "    colors = [CINZA3, AZUL2]\n",
    "\n",
    "    ax = sns.barplot(data=df_rides_month, x='no_of_rides', y='month', hue='user_type', palette=colors)\n",
    "\n",
    "    ax.set_title('Bike sharing by month\\nin 2023', loc='left', fontsize=18, color=CINZA1)\n",
    "    ax.set_xlabel('')\n",
    "    ax.set_ylabel('')\n",
    "    ax.xaxis.set_tick_params(labelsize=14, labelcolor=CINZA2)\n",
    "    sns.despine(left=True, bottom=True)\n",
    "\n",
    "    \n",
    "\n",
    "    ax.set_xticklabels([])\n",
    "    # for i, valor in enumerate(df_rides_month.no_of_rides):\n",
    "    #     qtd = f'{valor:,.0f}'\n",
    "    #     offset = 1e3\n",
    "    #     ax.text(valor-offset, i, qtd, color=CINZA5, fontsize=10, fontweight='bold', ha='right', va='center')\n",
    "    #     ax.bar_label(ax.text, padding=3)\n",
    "\n",
    "    for container in ax.containers:\n",
    "        labels = [f'{valor.get_width():,.0f}' for valor in container]\n",
    "        ax.bar_label(container, padding=-40, labels=labels, size=10, color=CINZA5, fontweight='bold')\n",
    "    return ax\n",
    "\n",
    "ax = plot_bar_style()\n"
   ]
  },
  {
   "cell_type": "code",
   "execution_count": 50,
   "metadata": {},
   "outputs": [
    {
     "data": {
      "text/html": [
       "<div>\n",
       "<style scoped>\n",
       "    .dataframe tbody tr th:only-of-type {\n",
       "        vertical-align: middle;\n",
       "    }\n",
       "\n",
       "    .dataframe tbody tr th {\n",
       "        vertical-align: top;\n",
       "    }\n",
       "\n",
       "    .dataframe thead th {\n",
       "        text-align: right;\n",
       "    }\n",
       "</style>\n",
       "<table border=\"1\" class=\"dataframe\">\n",
       "  <thead>\n",
       "    <tr style=\"text-align: right;\">\n",
       "      <th></th>\n",
       "      <th>quarter</th>\n",
       "      <th>user_type</th>\n",
       "      <th>no_of_rides</th>\n",
       "    </tr>\n",
       "  </thead>\n",
       "  <tbody>\n",
       "    <tr>\n",
       "      <th>0</th>\n",
       "      <td>1</td>\n",
       "      <td>casual</td>\n",
       "      <td>130149</td>\n",
       "    </tr>\n",
       "    <tr>\n",
       "      <th>1</th>\n",
       "      <td>1</td>\n",
       "      <td>member</td>\n",
       "      <td>453331</td>\n",
       "    </tr>\n",
       "    <tr>\n",
       "      <th>2</th>\n",
       "      <td>2</td>\n",
       "      <td>casual</td>\n",
       "      <td>587511</td>\n",
       "    </tr>\n",
       "    <tr>\n",
       "      <th>3</th>\n",
       "      <td>2</td>\n",
       "      <td>member</td>\n",
       "      <td>962991</td>\n",
       "    </tr>\n",
       "    <tr>\n",
       "      <th>4</th>\n",
       "      <td>3</td>\n",
       "      <td>casual</td>\n",
       "      <td>779808</td>\n",
       "    </tr>\n",
       "    <tr>\n",
       "      <th>5</th>\n",
       "      <td>3</td>\n",
       "      <td>member</td>\n",
       "      <td>1174540</td>\n",
       "    </tr>\n",
       "    <tr>\n",
       "      <th>6</th>\n",
       "      <td>4</td>\n",
       "      <td>casual</td>\n",
       "      <td>293103</td>\n",
       "    </tr>\n",
       "    <tr>\n",
       "      <th>7</th>\n",
       "      <td>4</td>\n",
       "      <td>member</td>\n",
       "      <td>734781</td>\n",
       "    </tr>\n",
       "  </tbody>\n",
       "</table>\n",
       "</div>"
      ],
      "text/plain": [
       "   quarter user_type  no_of_rides\n",
       "0        1    casual       130149\n",
       "1        1    member       453331\n",
       "2        2    casual       587511\n",
       "3        2    member       962991\n",
       "4        3    casual       779808\n",
       "5        3    member      1174540\n",
       "6        4    casual       293103\n",
       "7        4    member       734781"
      ]
     },
     "execution_count": 50,
     "metadata": {},
     "output_type": "execute_result"
    }
   ],
   "source": [
    "# bike sharing by quarter\n",
    "df_rides_quarter = df_rides.groupby(['quarter', 'user_type']).size().reset_index(name='no_of_rides')\n",
    "df_rides_quarter"
   ]
  },
  {
   "cell_type": "code",
   "execution_count": 51,
   "metadata": {},
   "outputs": [
    {
     "data": {
      "text/html": [
       "<div>\n",
       "<style scoped>\n",
       "    .dataframe tbody tr th:only-of-type {\n",
       "        vertical-align: middle;\n",
       "    }\n",
       "\n",
       "    .dataframe tbody tr th {\n",
       "        vertical-align: top;\n",
       "    }\n",
       "\n",
       "    .dataframe thead th {\n",
       "        text-align: right;\n",
       "    }\n",
       "</style>\n",
       "<table border=\"1\" class=\"dataframe\">\n",
       "  <thead>\n",
       "    <tr style=\"text-align: right;\">\n",
       "      <th>user_type</th>\n",
       "      <th>member</th>\n",
       "      <th>casual</th>\n",
       "    </tr>\n",
       "    <tr>\n",
       "      <th>quarter</th>\n",
       "      <th></th>\n",
       "      <th></th>\n",
       "    </tr>\n",
       "  </thead>\n",
       "  <tbody>\n",
       "    <tr>\n",
       "      <th>Jan - Mar</th>\n",
       "      <td>453331</td>\n",
       "      <td>130149</td>\n",
       "    </tr>\n",
       "    <tr>\n",
       "      <th>Apr - Jun</th>\n",
       "      <td>962991</td>\n",
       "      <td>587511</td>\n",
       "    </tr>\n",
       "    <tr>\n",
       "      <th>Jul - Sep</th>\n",
       "      <td>1174540</td>\n",
       "      <td>779808</td>\n",
       "    </tr>\n",
       "    <tr>\n",
       "      <th>Oct - Dec</th>\n",
       "      <td>734781</td>\n",
       "      <td>293103</td>\n",
       "    </tr>\n",
       "  </tbody>\n",
       "</table>\n",
       "</div>"
      ],
      "text/plain": [
       "user_type   member  casual\n",
       "quarter                   \n",
       "Jan - Mar   453331  130149\n",
       "Apr - Jun   962991  587511\n",
       "Jul - Sep  1174540  779808\n",
       "Oct - Dec   734781  293103"
      ]
     },
     "execution_count": 51,
     "metadata": {},
     "output_type": "execute_result"
    }
   ],
   "source": [
    "quarter_tab = pd.crosstab(index=df_rides_quarter.quarter, columns=df_rides_quarter.user_type, values=df_rides_quarter.no_of_rides, aggfunc='sum')\n",
    "quarter_tab = quarter_tab[['member', 'casual']]\n",
    "quarter_tab = quarter_tab.rename(index={1: 'Jan - Mar', \n",
    "                                        2: 'Apr - Jun',\n",
    "                                        3: 'Jul - Sep',\n",
    "                                        4: 'Oct - Dec'})\n",
    "quarter_tab "
   ]
  },
  {
   "cell_type": "code",
   "execution_count": 52,
   "metadata": {},
   "outputs": [
    {
     "data": {
      "text/html": [
       "<div>\n",
       "<style scoped>\n",
       "    .dataframe tbody tr th:only-of-type {\n",
       "        vertical-align: middle;\n",
       "    }\n",
       "\n",
       "    .dataframe tbody tr th {\n",
       "        vertical-align: top;\n",
       "    }\n",
       "\n",
       "    .dataframe thead th {\n",
       "        text-align: right;\n",
       "    }\n",
       "</style>\n",
       "<table border=\"1\" class=\"dataframe\">\n",
       "  <thead>\n",
       "    <tr style=\"text-align: right;\">\n",
       "      <th>user_type</th>\n",
       "      <th>member</th>\n",
       "      <th>casual</th>\n",
       "    </tr>\n",
       "    <tr>\n",
       "      <th>quarter</th>\n",
       "      <th></th>\n",
       "      <th></th>\n",
       "    </tr>\n",
       "  </thead>\n",
       "  <tbody>\n",
       "    <tr>\n",
       "      <th>Oct - Dec</th>\n",
       "      <td>734781</td>\n",
       "      <td>293103</td>\n",
       "    </tr>\n",
       "    <tr>\n",
       "      <th>Jul - Sep</th>\n",
       "      <td>1174540</td>\n",
       "      <td>779808</td>\n",
       "    </tr>\n",
       "    <tr>\n",
       "      <th>Apr - Jun</th>\n",
       "      <td>962991</td>\n",
       "      <td>587511</td>\n",
       "    </tr>\n",
       "    <tr>\n",
       "      <th>Jan - Mar</th>\n",
       "      <td>453331</td>\n",
       "      <td>130149</td>\n",
       "    </tr>\n",
       "  </tbody>\n",
       "</table>\n",
       "</div>"
      ],
      "text/plain": [
       "user_type   member  casual\n",
       "quarter                   \n",
       "Oct - Dec   734781  293103\n",
       "Jul - Sep  1174540  779808\n",
       "Apr - Jun   962991  587511\n",
       "Jan - Mar   453331  130149"
      ]
     },
     "execution_count": 52,
     "metadata": {},
     "output_type": "execute_result"
    }
   ],
   "source": [
    "quarter_tab = pd.crosstab(index=df_rides_quarter.quarter, columns=df_rides_quarter.user_type, values=df_rides_quarter.no_of_rides, aggfunc='sum')\n",
    "quarter_tab = quarter_tab[['member', 'casual']]\n",
    "quarter_tab = quarter_tab.sort_values('quarter', ascending=False)\n",
    "quarter_tab = quarter_tab.rename(index={1: 'Jan - Mar', \n",
    "                                        2: 'Apr - Jun',\n",
    "                                        3: 'Jul - Sep',\n",
    "                                        4: 'Oct - Dec'})\n",
    "quarter_tab"
   ]
  },
  {
   "cell_type": "code",
   "execution_count": 53,
   "metadata": {},
   "outputs": [
    {
     "data": {
      "text/html": [
       "<div>\n",
       "<style scoped>\n",
       "    .dataframe tbody tr th:only-of-type {\n",
       "        vertical-align: middle;\n",
       "    }\n",
       "\n",
       "    .dataframe tbody tr th {\n",
       "        vertical-align: top;\n",
       "    }\n",
       "\n",
       "    .dataframe thead th {\n",
       "        text-align: right;\n",
       "    }\n",
       "</style>\n",
       "<table border=\"1\" class=\"dataframe\">\n",
       "  <thead>\n",
       "    <tr style=\"text-align: right;\">\n",
       "      <th>user_type</th>\n",
       "      <th>member</th>\n",
       "      <th>casual</th>\n",
       "    </tr>\n",
       "    <tr>\n",
       "      <th>quarter</th>\n",
       "      <th></th>\n",
       "      <th></th>\n",
       "    </tr>\n",
       "  </thead>\n",
       "  <tbody>\n",
       "    <tr>\n",
       "      <th>Oct - Dec</th>\n",
       "      <td>0.714848</td>\n",
       "      <td>0.285152</td>\n",
       "    </tr>\n",
       "    <tr>\n",
       "      <th>Jul - Sep</th>\n",
       "      <td>0.600988</td>\n",
       "      <td>0.399012</td>\n",
       "    </tr>\n",
       "    <tr>\n",
       "      <th>Apr - Jun</th>\n",
       "      <td>0.621083</td>\n",
       "      <td>0.378917</td>\n",
       "    </tr>\n",
       "    <tr>\n",
       "      <th>Jan - Mar</th>\n",
       "      <td>0.776944</td>\n",
       "      <td>0.223056</td>\n",
       "    </tr>\n",
       "  </tbody>\n",
       "</table>\n",
       "</div>"
      ],
      "text/plain": [
       "user_type    member    casual\n",
       "quarter                      \n",
       "Oct - Dec  0.714848  0.285152\n",
       "Jul - Sep  0.600988  0.399012\n",
       "Apr - Jun  0.621083  0.378917\n",
       "Jan - Mar  0.776944  0.223056"
      ]
     },
     "execution_count": 53,
     "metadata": {},
     "output_type": "execute_result"
    }
   ],
   "source": [
    "quarter_tab_norm = pd.crosstab(index=df_rides_quarter.quarter, columns=df_rides_quarter.user_type, values=df_rides_quarter.no_of_rides, aggfunc='sum', normalize='index')\n",
    "quarter_tab_norm = quarter_tab_norm[['member', 'casual']]\n",
    "quarter_tab_norm = quarter_tab_norm.sort_values('quarter', ascending=False)\n",
    "quarter_tab_norm = quarter_tab_norm.rename(index={1: 'Jan - Mar', \n",
    "                                        2: 'Apr - Jun',\n",
    "                                        3: 'Jul - Sep',\n",
    "                                        4: 'Oct - Dec'})\n",
    "quarter_tab_norm "
   ]
  },
  {
   "cell_type": "code",
   "execution_count": 54,
   "metadata": {},
   "outputs": [],
   "source": [
    "from matplotlib import transforms\n",
    "\n",
    "def texto_colorido(x, y, texto, cores, esp=20, ax=None, **kw):\n",
    "    cores = list(reversed(cores))\n",
    "    t = ax.transData\n",
    "    canvas = ax.figure.canvas\n",
    "\n",
    "    for i, linha in enumerate(reversed(texto.split('\\n'))):\n",
    "        frases = linha.split('||')\n",
    "        for s, cor in zip(frases, cores[i]):\n",
    "            texto = ax.text(x, y, s, color=cor, transform=t, **kw)\n",
    "            texto.draw(canvas.get_renderer())\n",
    "            ex = texto.get_window_extent()\n",
    "            t = transforms.offset_copy(texto._transform, x=ex.width, \n",
    "                                       units='dots')\n",
    "\n",
    "        t = transforms.offset_copy(ax.transData, x=0, y=(i + 1) * esp, units='dots')"
   ]
  },
  {
   "cell_type": "code",
   "execution_count": 55,
   "metadata": {},
   "outputs": [
    {
     "name": "stderr",
     "output_type": "stream",
     "text": [
      "C:\\Users\\akemi\\AppData\\Local\\Temp\\ipykernel_19884\\2915140569.py:12: UserWarning: FixedFormatter should only be used together with FixedLocator\n",
      "  axs[0].set_xticklabels([''])\n",
      "C:\\Users\\akemi\\AppData\\Local\\Temp\\ipykernel_19884\\2915140569.py:28: UserWarning: FixedFormatter should only be used together with FixedLocator\n",
      "  axs[1].set_xticklabels([''])\n"
     ]
    },
    {
     "data": {
      "image/png": "[encoded data removed]",
      "text/plain": [
       "<Figure size 1500x600 with 2 Axes>"
      ]
     },
     "metadata": {},
     "output_type": "display_data"
    }
   ],
   "source": [
    "fig, axs = plt.subplots(1, 2, figsize=(15,6), sharey=True)\n",
    "\n",
    "colors = [AZUL2, AZUL5]\n",
    "\n",
    "# Plot1\n",
    "\n",
    "axs[0].barh(quarter_tab.index, quarter_tab.member, color=colors[0])\n",
    "axs[0].barh(quarter_tab.index, quarter_tab.casual, left=quarter_tab.member, color=colors[1])\n",
    "axs[0].set_title('Absolute values\\n', color=CINZA2)\n",
    "axs[0].set_xlabel('')\n",
    "axs[0].set_ylabel('')\n",
    "axs[0].set_xticklabels([''])\n",
    "axs[0].yaxis.set_tick_params(labelsize=14, color=CINZA2)\n",
    "axs[0].set_frame_on(False)\n",
    "\n",
    "axs[0].tick_params(axis='both', which='both', length=0)\n",
    "\n",
    "\n",
    "texto_colorido(0, 3.5, '$\\\\bf{member}$ | || $\\\\bf{casual}$', cores=[colors], ax=axs[0], fontsize=12)\n",
    "#axs[0].invert_yaxis()\n",
    "\n",
    "#Plot2\n",
    "axs[1].barh(quarter_tab_norm.index, quarter_tab_norm.member, color=colors[0])\n",
    "axs[1].barh(quarter_tab_norm.index, quarter_tab_norm.casual, left=quarter_tab_norm.member, color=colors[1])\n",
    "axs[1].set_title('Percentage values\\n', color=CINZA2)\n",
    "axs[1].set_xlabel('100%', color=CINZA2, size=14, loc='right')\n",
    "axs[1].set_ylabel('')\n",
    "axs[1].set_xticklabels([''])\n",
    "#axs[1].set_tick_params(labelsize=14, color=CINZA2)\n",
    "axs[1].set_frame_on(False)\n",
    "\n",
    "axs[1].tick_params(axis='both', which='both', length=0)\n",
    "\n",
    "\n",
    "texto_colorido(0, 3.5, '$\\\\bf{member}$ | || $\\\\bf{casual}$', cores=[colors], ax=axs[1], fontsize=12)\n",
    "\n",
    "##############\n",
    "\n",
    "fig.suptitle('Bike sharing by Quarter in 2023\\n\\n\\n', fontsize=18, color=CINZA1, ha='center', x=0.5, y=1.05)\n",
    "\n",
    "##### values\n",
    "for container in axs[0].containers:\n",
    "    labels = [str(valor.get_width()) if valor.get_width() > 150000 else '' for valor in container]\n",
    "    axs[0].bar_label(container, label_type='center', labels=labels, size=12, color=CINZA5, fontweight='bold')\n",
    "\n",
    "for container in axs[1].containers:\n",
    "    labels = [f'{valor.get_width()*100:.1f}%' for valor in container]\n",
    "    axs[1].bar_label(container, label_type='center', labels=labels, size=12, color=CINZA5, fontweight='bold')\n",
    "\n",
    "plt.show()"
   ]
  },
  {
   "cell_type": "code",
   "execution_count": 56,
   "metadata": {},
   "outputs": [
    {
     "data": {
      "text/html": [
       "<div>\n",
       "<style scoped>\n",
       "    .dataframe tbody tr th:only-of-type {\n",
       "        vertical-align: middle;\n",
       "    }\n",
       "\n",
       "    .dataframe tbody tr th {\n",
       "        vertical-align: top;\n",
       "    }\n",
       "\n",
       "    .dataframe thead th {\n",
       "        text-align: right;\n",
       "    }\n",
       "</style>\n",
       "<table border=\"1\" class=\"dataframe\">\n",
       "  <thead>\n",
       "    <tr style=\"text-align: right;\">\n",
       "      <th></th>\n",
       "      <th>day_of_week</th>\n",
       "      <th>user_type</th>\n",
       "      <th>no_of_rides</th>\n",
       "    </tr>\n",
       "  </thead>\n",
       "  <tbody>\n",
       "    <tr>\n",
       "      <th>0</th>\n",
       "      <td>Sunday</td>\n",
       "      <td>casual</td>\n",
       "      <td>284724</td>\n",
       "    </tr>\n",
       "    <tr>\n",
       "      <th>1</th>\n",
       "      <td>Sunday</td>\n",
       "      <td>member</td>\n",
       "      <td>367125</td>\n",
       "    </tr>\n",
       "    <tr>\n",
       "      <th>2</th>\n",
       "      <td>Monday</td>\n",
       "      <td>casual</td>\n",
       "      <td>204138</td>\n",
       "    </tr>\n",
       "    <tr>\n",
       "      <th>3</th>\n",
       "      <td>Monday</td>\n",
       "      <td>member</td>\n",
       "      <td>452156</td>\n",
       "    </tr>\n",
       "    <tr>\n",
       "      <th>4</th>\n",
       "      <td>Tuesday</td>\n",
       "      <td>casual</td>\n",
       "      <td>217079</td>\n",
       "    </tr>\n",
       "    <tr>\n",
       "      <th>5</th>\n",
       "      <td>Tuesday</td>\n",
       "      <td>member</td>\n",
       "      <td>525502</td>\n",
       "    </tr>\n",
       "    <tr>\n",
       "      <th>6</th>\n",
       "      <td>Wednesday</td>\n",
       "      <td>casual</td>\n",
       "      <td>221186</td>\n",
       "    </tr>\n",
       "    <tr>\n",
       "      <th>7</th>\n",
       "      <td>Wednesday</td>\n",
       "      <td>member</td>\n",
       "      <td>536087</td>\n",
       "    </tr>\n",
       "    <tr>\n",
       "      <th>8</th>\n",
       "      <td>Thursday</td>\n",
       "      <td>casual</td>\n",
       "      <td>239509</td>\n",
       "    </tr>\n",
       "    <tr>\n",
       "      <th>9</th>\n",
       "      <td>Thursday</td>\n",
       "      <td>member</td>\n",
       "      <td>536959</td>\n",
       "    </tr>\n",
       "    <tr>\n",
       "      <th>10</th>\n",
       "      <td>Friday</td>\n",
       "      <td>casual</td>\n",
       "      <td>272467</td>\n",
       "    </tr>\n",
       "    <tr>\n",
       "      <th>11</th>\n",
       "      <td>Friday</td>\n",
       "      <td>member</td>\n",
       "      <td>483291</td>\n",
       "    </tr>\n",
       "    <tr>\n",
       "      <th>12</th>\n",
       "      <td>Saturday</td>\n",
       "      <td>casual</td>\n",
       "      <td>351468</td>\n",
       "    </tr>\n",
       "    <tr>\n",
       "      <th>13</th>\n",
       "      <td>Saturday</td>\n",
       "      <td>member</td>\n",
       "      <td>424523</td>\n",
       "    </tr>\n",
       "  </tbody>\n",
       "</table>\n",
       "</div>"
      ],
      "text/plain": [
       "   day_of_week user_type  no_of_rides\n",
       "0       Sunday    casual       284724\n",
       "1       Sunday    member       367125\n",
       "2       Monday    casual       204138\n",
       "3       Monday    member       452156\n",
       "4      Tuesday    casual       217079\n",
       "5      Tuesday    member       525502\n",
       "6    Wednesday    casual       221186\n",
       "7    Wednesday    member       536087\n",
       "8     Thursday    casual       239509\n",
       "9     Thursday    member       536959\n",
       "10      Friday    casual       272467\n",
       "11      Friday    member       483291\n",
       "12    Saturday    casual       351468\n",
       "13    Saturday    member       424523"
      ]
     },
     "execution_count": 56,
     "metadata": {},
     "output_type": "execute_result"
    }
   ],
   "source": [
    "# Bike sharing on weekdays\n",
    "df_weekday = df.copy()\n",
    "df_weekday = df_weekday[['user_type', 'day_of_week']]\n",
    "\n",
    "order = ['Sunday', 'Monday', 'Tuesday', 'Wednesday', 'Thursday', 'Friday', 'Saturday']\n",
    "\n",
    "df_weekday['day_of_week'] = pd.Categorical(df_weekday['day_of_week'], categories=order, ordered=True)\n",
    "df_weekday= df_weekday.groupby(['day_of_week', 'user_type']).value_counts().reset_index(name='no_of_rides')\n",
    "df_weekday"
   ]
  },
  {
   "cell_type": "code",
   "execution_count": 57,
   "metadata": {},
   "outputs": [
    {
     "data": {
      "text/html": [
       "<div>\n",
       "<style scoped>\n",
       "    .dataframe tbody tr th:only-of-type {\n",
       "        vertical-align: middle;\n",
       "    }\n",
       "\n",
       "    .dataframe tbody tr th {\n",
       "        vertical-align: top;\n",
       "    }\n",
       "\n",
       "    .dataframe thead th {\n",
       "        text-align: right;\n",
       "    }\n",
       "</style>\n",
       "<table border=\"1\" class=\"dataframe\">\n",
       "  <thead>\n",
       "    <tr style=\"text-align: right;\">\n",
       "      <th>user_type</th>\n",
       "      <th>member</th>\n",
       "      <th>casual</th>\n",
       "    </tr>\n",
       "    <tr>\n",
       "      <th>day_of_week</th>\n",
       "      <th></th>\n",
       "      <th></th>\n",
       "    </tr>\n",
       "  </thead>\n",
       "  <tbody>\n",
       "    <tr>\n",
       "      <th>Sunday</th>\n",
       "      <td>0.563206</td>\n",
       "      <td>0.436794</td>\n",
       "    </tr>\n",
       "    <tr>\n",
       "      <th>Monday</th>\n",
       "      <td>0.688953</td>\n",
       "      <td>0.311047</td>\n",
       "    </tr>\n",
       "    <tr>\n",
       "      <th>Tuesday</th>\n",
       "      <td>0.707670</td>\n",
       "      <td>0.292330</td>\n",
       "    </tr>\n",
       "    <tr>\n",
       "      <th>Wednesday</th>\n",
       "      <td>0.707918</td>\n",
       "      <td>0.292082</td>\n",
       "    </tr>\n",
       "    <tr>\n",
       "      <th>Thursday</th>\n",
       "      <td>0.691540</td>\n",
       "      <td>0.308460</td>\n",
       "    </tr>\n",
       "    <tr>\n",
       "      <th>Friday</th>\n",
       "      <td>0.639479</td>\n",
       "      <td>0.360521</td>\n",
       "    </tr>\n",
       "    <tr>\n",
       "      <th>Saturday</th>\n",
       "      <td>0.547072</td>\n",
       "      <td>0.452928</td>\n",
       "    </tr>\n",
       "  </tbody>\n",
       "</table>\n",
       "</div>"
      ],
      "text/plain": [
       "user_type      member    casual\n",
       "day_of_week                    \n",
       "Sunday       0.563206  0.436794\n",
       "Monday       0.688953  0.311047\n",
       "Tuesday      0.707670  0.292330\n",
       "Wednesday    0.707918  0.292082\n",
       "Thursday     0.691540  0.308460\n",
       "Friday       0.639479  0.360521\n",
       "Saturday     0.547072  0.452928"
      ]
     },
     "execution_count": 57,
     "metadata": {},
     "output_type": "execute_result"
    }
   ],
   "source": [
    "df_weekday = pd.crosstab(index=df_weekday.day_of_week, columns=df_weekday.user_type, values=df_weekday.no_of_rides, aggfunc='sum', normalize='index')\n",
    "df_weekday = df_weekday[['member','casual']]\n",
    "df_weekday"
   ]
  },
  {
   "cell_type": "code",
   "execution_count": 58,
   "metadata": {},
   "outputs": [
    {
     "data": {
      "image/png": "[encoded data removed]",
      "text/plain": [
       "<Figure size 1000x600 with 1 Axes>"
      ]
     },
     "metadata": {},
     "output_type": "display_data"
    }
   ],
   "source": [
    "def plot_weekday():\n",
    "\n",
    "    colors = [AZUL2, AZUL5]\n",
    "\n",
    "    ax = df_weekday.plot(kind='bar', stacked=True, figsize=(10,6), color=colors)\n",
    "\n",
    "    ax.set_title('Bike sharing as a percentage by user type on weekdays\\nin 2023', loc='left', fontsize=18, color=CINZA1)\n",
    "    ax.set_xlabel('')\n",
    "    ax.set_ylabel('')\n",
    "    ax.xaxis.set_tick_params(labelsize=14, labelcolor=CINZA2, rotation=0)\n",
    "    sns.despine(left=True, bottom=True)\n",
    "    ax.set_frame_on(False)\n",
    "\n",
    "    ax.set_yticklabels([])\n",
    "    ax.tick_params(axis='both', which='both', length=0)\n",
    "    \n",
    "    \n",
    "    return ax\n",
    "\n",
    "ax = plot_weekday()\n",
    "\n",
    "ax.legend(bbox_to_anchor=(1.2,1), reverse=True, title='User type', title_fontsize=12, fontsize=12)\n",
    "for container in ax.containers:\n",
    "    #labels = [f'{valor.get_height():,.0f}' for valor in container]\n",
    "    labels = [f'{valor.get_height()*100:.1f}%' for valor in container]\n",
    "    \n",
    "    ax.bar_label(container, label_type='center', labels=labels, size=10, color=CINZA5, fontweight='bold')\n",
    "\n",
    "ax.text(6.5, 0.1,\n",
    "        'Members predominate on\\n'\n",
    "        'all days of the week, but \\n'\n",
    "        'in greater numbers from  \\n'\n",
    "        '$\\\\bf{Monday}$ to $\\\\bf{Friday}$.\\n'\n",
    "        'Casual users take more \\n'\n",
    "        'rides on $\\\\bf{Saturdays}$ and\\n'\n",
    "        '$\\\\bf{Sundays}$.',\n",
    "        fontsize=14, linespacing=1.45, color=AZUL2)\n",
    "\n",
    "plt.show()"
   ]
  },
  {
   "cell_type": "code",
   "execution_count": 59,
   "metadata": {},
   "outputs": [
    {
     "name": "stderr",
     "output_type": "stream",
     "text": [
      "C:\\Users\\akemi\\AppData\\Local\\Temp\\ipykernel_19884\\3155657723.py:3: SettingWithCopyWarning: \n",
      "A value is trying to be set on a copy of a slice from a DataFrame.\n",
      "Try using .loc[row_indexer,col_indexer] = value instead\n",
      "\n",
      "See the caveats in the documentation: https://pandas.pydata.org/pandas-docs/stable/user_guide/indexing.html#returning-a-view-versus-a-copy\n",
      "  df_hours['hours']  = df_hours['started_at'].dt.hour\n",
      "C:\\Users\\akemi\\AppData\\Local\\Temp\\ipykernel_19884\\3155657723.py:4: SettingWithCopyWarning: \n",
      "A value is trying to be set on a copy of a slice from a DataFrame\n",
      "\n",
      "See the caveats in the documentation: https://pandas.pydata.org/pandas-docs/stable/user_guide/indexing.html#returning-a-view-versus-a-copy\n",
      "  df_hours.drop(columns='started_at', inplace=True)\n"
     ]
    },
    {
     "data": {
      "text/html": [
       "<div>\n",
       "<style scoped>\n",
       "    .dataframe tbody tr th:only-of-type {\n",
       "        vertical-align: middle;\n",
       "    }\n",
       "\n",
       "    .dataframe tbody tr th {\n",
       "        vertical-align: top;\n",
       "    }\n",
       "\n",
       "    .dataframe thead th {\n",
       "        text-align: right;\n",
       "    }\n",
       "</style>\n",
       "<table border=\"1\" class=\"dataframe\">\n",
       "  <thead>\n",
       "    <tr style=\"text-align: right;\">\n",
       "      <th></th>\n",
       "      <th>hours</th>\n",
       "      <th>user_type</th>\n",
       "      <th>no_of_rides</th>\n",
       "    </tr>\n",
       "  </thead>\n",
       "  <tbody>\n",
       "    <tr>\n",
       "      <th>0</th>\n",
       "      <td>0</td>\n",
       "      <td>casual</td>\n",
       "      <td>32294</td>\n",
       "    </tr>\n",
       "    <tr>\n",
       "      <th>1</th>\n",
       "      <td>0</td>\n",
       "      <td>member</td>\n",
       "      <td>31918</td>\n",
       "    </tr>\n",
       "    <tr>\n",
       "      <th>2</th>\n",
       "      <td>1</td>\n",
       "      <td>casual</td>\n",
       "      <td>20864</td>\n",
       "    </tr>\n",
       "    <tr>\n",
       "      <th>3</th>\n",
       "      <td>1</td>\n",
       "      <td>member</td>\n",
       "      <td>18984</td>\n",
       "    </tr>\n",
       "    <tr>\n",
       "      <th>4</th>\n",
       "      <td>2</td>\n",
       "      <td>casual</td>\n",
       "      <td>12480</td>\n",
       "    </tr>\n",
       "    <tr>\n",
       "      <th>5</th>\n",
       "      <td>2</td>\n",
       "      <td>member</td>\n",
       "      <td>10938</td>\n",
       "    </tr>\n",
       "    <tr>\n",
       "      <th>6</th>\n",
       "      <td>3</td>\n",
       "      <td>casual</td>\n",
       "      <td>6870</td>\n",
       "    </tr>\n",
       "    <tr>\n",
       "      <th>7</th>\n",
       "      <td>3</td>\n",
       "      <td>member</td>\n",
       "      <td>7046</td>\n",
       "    </tr>\n",
       "    <tr>\n",
       "      <th>8</th>\n",
       "      <td>4</td>\n",
       "      <td>casual</td>\n",
       "      <td>5148</td>\n",
       "    </tr>\n",
       "    <tr>\n",
       "      <th>9</th>\n",
       "      <td>4</td>\n",
       "      <td>member</td>\n",
       "      <td>7681</td>\n",
       "    </tr>\n",
       "    <tr>\n",
       "      <th>10</th>\n",
       "      <td>5</td>\n",
       "      <td>casual</td>\n",
       "      <td>10345</td>\n",
       "    </tr>\n",
       "    <tr>\n",
       "      <th>11</th>\n",
       "      <td>5</td>\n",
       "      <td>member</td>\n",
       "      <td>30971</td>\n",
       "    </tr>\n",
       "    <tr>\n",
       "      <th>12</th>\n",
       "      <td>6</td>\n",
       "      <td>casual</td>\n",
       "      <td>27135</td>\n",
       "    </tr>\n",
       "    <tr>\n",
       "      <th>13</th>\n",
       "      <td>6</td>\n",
       "      <td>member</td>\n",
       "      <td>96726</td>\n",
       "    </tr>\n",
       "    <tr>\n",
       "      <th>14</th>\n",
       "      <td>7</td>\n",
       "      <td>casual</td>\n",
       "      <td>48116</td>\n",
       "    </tr>\n",
       "    <tr>\n",
       "      <th>15</th>\n",
       "      <td>7</td>\n",
       "      <td>member</td>\n",
       "      <td>177962</td>\n",
       "    </tr>\n",
       "    <tr>\n",
       "      <th>16</th>\n",
       "      <td>8</td>\n",
       "      <td>casual</td>\n",
       "      <td>63921</td>\n",
       "    </tr>\n",
       "    <tr>\n",
       "      <th>17</th>\n",
       "      <td>8</td>\n",
       "      <td>member</td>\n",
       "      <td>224646</td>\n",
       "    </tr>\n",
       "    <tr>\n",
       "      <th>18</th>\n",
       "      <td>9</td>\n",
       "      <td>casual</td>\n",
       "      <td>60896</td>\n",
       "    </tr>\n",
       "    <tr>\n",
       "      <th>19</th>\n",
       "      <td>9</td>\n",
       "      <td>member</td>\n",
       "      <td>150288</td>\n",
       "    </tr>\n",
       "    <tr>\n",
       "      <th>20</th>\n",
       "      <td>10</td>\n",
       "      <td>casual</td>\n",
       "      <td>74048</td>\n",
       "    </tr>\n",
       "    <tr>\n",
       "      <th>21</th>\n",
       "      <td>10</td>\n",
       "      <td>member</td>\n",
       "      <td>134956</td>\n",
       "    </tr>\n",
       "    <tr>\n",
       "      <th>22</th>\n",
       "      <td>11</td>\n",
       "      <td>casual</td>\n",
       "      <td>94191</td>\n",
       "    </tr>\n",
       "    <tr>\n",
       "      <th>23</th>\n",
       "      <td>11</td>\n",
       "      <td>member</td>\n",
       "      <td>160271</td>\n",
       "    </tr>\n",
       "    <tr>\n",
       "      <th>24</th>\n",
       "      <td>12</td>\n",
       "      <td>casual</td>\n",
       "      <td>112142</td>\n",
       "    </tr>\n",
       "    <tr>\n",
       "      <th>25</th>\n",
       "      <td>12</td>\n",
       "      <td>member</td>\n",
       "      <td>181418</td>\n",
       "    </tr>\n",
       "    <tr>\n",
       "      <th>26</th>\n",
       "      <td>13</td>\n",
       "      <td>casual</td>\n",
       "      <td>116553</td>\n",
       "    </tr>\n",
       "    <tr>\n",
       "      <th>27</th>\n",
       "      <td>13</td>\n",
       "      <td>member</td>\n",
       "      <td>180699</td>\n",
       "    </tr>\n",
       "    <tr>\n",
       "      <th>28</th>\n",
       "      <td>14</td>\n",
       "      <td>casual</td>\n",
       "      <td>121680</td>\n",
       "    </tr>\n",
       "    <tr>\n",
       "      <th>29</th>\n",
       "      <td>14</td>\n",
       "      <td>member</td>\n",
       "      <td>182476</td>\n",
       "    </tr>\n",
       "    <tr>\n",
       "      <th>30</th>\n",
       "      <td>15</td>\n",
       "      <td>casual</td>\n",
       "      <td>136464</td>\n",
       "    </tr>\n",
       "    <tr>\n",
       "      <th>31</th>\n",
       "      <td>15</td>\n",
       "      <td>member</td>\n",
       "      <td>223549</td>\n",
       "    </tr>\n",
       "    <tr>\n",
       "      <th>32</th>\n",
       "      <td>16</td>\n",
       "      <td>casual</td>\n",
       "      <td>158175</td>\n",
       "    </tr>\n",
       "    <tr>\n",
       "      <th>33</th>\n",
       "      <td>16</td>\n",
       "      <td>member</td>\n",
       "      <td>299939</td>\n",
       "    </tr>\n",
       "    <tr>\n",
       "      <th>34</th>\n",
       "      <td>17</td>\n",
       "      <td>casual</td>\n",
       "      <td>174306</td>\n",
       "    </tr>\n",
       "    <tr>\n",
       "      <th>35</th>\n",
       "      <td>17</td>\n",
       "      <td>member</td>\n",
       "      <td>351302</td>\n",
       "    </tr>\n",
       "    <tr>\n",
       "      <th>36</th>\n",
       "      <td>18</td>\n",
       "      <td>casual</td>\n",
       "      <td>151312</td>\n",
       "    </tr>\n",
       "    <tr>\n",
       "      <th>37</th>\n",
       "      <td>18</td>\n",
       "      <td>member</td>\n",
       "      <td>279996</td>\n",
       "    </tr>\n",
       "    <tr>\n",
       "      <th>38</th>\n",
       "      <td>19</td>\n",
       "      <td>casual</td>\n",
       "      <td>111719</td>\n",
       "    </tr>\n",
       "    <tr>\n",
       "      <th>39</th>\n",
       "      <td>19</td>\n",
       "      <td>member</td>\n",
       "      <td>198739</td>\n",
       "    </tr>\n",
       "    <tr>\n",
       "      <th>40</th>\n",
       "      <td>20</td>\n",
       "      <td>casual</td>\n",
       "      <td>80995</td>\n",
       "    </tr>\n",
       "    <tr>\n",
       "      <th>41</th>\n",
       "      <td>20</td>\n",
       "      <td>member</td>\n",
       "      <td>138352</td>\n",
       "    </tr>\n",
       "    <tr>\n",
       "      <th>42</th>\n",
       "      <td>21</td>\n",
       "      <td>casual</td>\n",
       "      <td>68103</td>\n",
       "    </tr>\n",
       "    <tr>\n",
       "      <th>43</th>\n",
       "      <td>21</td>\n",
       "      <td>member</td>\n",
       "      <td>106853</td>\n",
       "    </tr>\n",
       "    <tr>\n",
       "      <th>44</th>\n",
       "      <td>22</td>\n",
       "      <td>casual</td>\n",
       "      <td>59909</td>\n",
       "    </tr>\n",
       "    <tr>\n",
       "      <th>45</th>\n",
       "      <td>22</td>\n",
       "      <td>member</td>\n",
       "      <td>79244</td>\n",
       "    </tr>\n",
       "    <tr>\n",
       "      <th>46</th>\n",
       "      <td>23</td>\n",
       "      <td>casual</td>\n",
       "      <td>42905</td>\n",
       "    </tr>\n",
       "    <tr>\n",
       "      <th>47</th>\n",
       "      <td>23</td>\n",
       "      <td>member</td>\n",
       "      <td>50689</td>\n",
       "    </tr>\n",
       "  </tbody>\n",
       "</table>\n",
       "</div>"
      ],
      "text/plain": [
       "    hours user_type  no_of_rides\n",
       "0       0    casual        32294\n",
       "1       0    member        31918\n",
       "2       1    casual        20864\n",
       "3       1    member        18984\n",
       "4       2    casual        12480\n",
       "5       2    member        10938\n",
       "6       3    casual         6870\n",
       "7       3    member         7046\n",
       "8       4    casual         5148\n",
       "9       4    member         7681\n",
       "10      5    casual        10345\n",
       "11      5    member        30971\n",
       "12      6    casual        27135\n",
       "13      6    member        96726\n",
       "14      7    casual        48116\n",
       "15      7    member       177962\n",
       "16      8    casual        63921\n",
       "17      8    member       224646\n",
       "18      9    casual        60896\n",
       "19      9    member       150288\n",
       "20     10    casual        74048\n",
       "21     10    member       134956\n",
       "22     11    casual        94191\n",
       "23     11    member       160271\n",
       "24     12    casual       112142\n",
       "25     12    member       181418\n",
       "26     13    casual       116553\n",
       "27     13    member       180699\n",
       "28     14    casual       121680\n",
       "29     14    member       182476\n",
       "30     15    casual       136464\n",
       "31     15    member       223549\n",
       "32     16    casual       158175\n",
       "33     16    member       299939\n",
       "34     17    casual       174306\n",
       "35     17    member       351302\n",
       "36     18    casual       151312\n",
       "37     18    member       279996\n",
       "38     19    casual       111719\n",
       "39     19    member       198739\n",
       "40     20    casual        80995\n",
       "41     20    member       138352\n",
       "42     21    casual        68103\n",
       "43     21    member       106853\n",
       "44     22    casual        59909\n",
       "45     22    member        79244\n",
       "46     23    casual        42905\n",
       "47     23    member        50689"
      ]
     },
     "execution_count": 59,
     "metadata": {},
     "output_type": "execute_result"
    }
   ],
   "source": [
    "# Bike sharing by hours\n",
    "df_hours = df.copy()\n",
    "df_hours = df[['started_at','user_type']]\n",
    "df_hours['hours']  = df_hours['started_at'].dt.hour\n",
    "df_hours.drop(columns='started_at', inplace=True)\n",
    "\n",
    "df_hours = df_hours.groupby(['hours', 'user_type']).value_counts().reset_index(name='no_of_rides')\n",
    "df_hours\n"
   ]
  },
  {
   "cell_type": "code",
   "execution_count": 60,
   "metadata": {},
   "outputs": [
    {
     "data": {
      "text/html": [
       "<div>\n",
       "<style scoped>\n",
       "    .dataframe tbody tr th:only-of-type {\n",
       "        vertical-align: middle;\n",
       "    }\n",
       "\n",
       "    .dataframe tbody tr th {\n",
       "        vertical-align: top;\n",
       "    }\n",
       "\n",
       "    .dataframe thead th {\n",
       "        text-align: right;\n",
       "    }\n",
       "</style>\n",
       "<table border=\"1\" class=\"dataframe\">\n",
       "  <thead>\n",
       "    <tr style=\"text-align: right;\">\n",
       "      <th>user_type</th>\n",
       "      <th>member</th>\n",
       "      <th>casual</th>\n",
       "    </tr>\n",
       "    <tr>\n",
       "      <th>hours</th>\n",
       "      <th></th>\n",
       "      <th></th>\n",
       "    </tr>\n",
       "  </thead>\n",
       "  <tbody>\n",
       "    <tr>\n",
       "      <th>0</th>\n",
       "      <td>31918</td>\n",
       "      <td>32294</td>\n",
       "    </tr>\n",
       "    <tr>\n",
       "      <th>1</th>\n",
       "      <td>18984</td>\n",
       "      <td>20864</td>\n",
       "    </tr>\n",
       "    <tr>\n",
       "      <th>2</th>\n",
       "      <td>10938</td>\n",
       "      <td>12480</td>\n",
       "    </tr>\n",
       "    <tr>\n",
       "      <th>3</th>\n",
       "      <td>7046</td>\n",
       "      <td>6870</td>\n",
       "    </tr>\n",
       "    <tr>\n",
       "      <th>4</th>\n",
       "      <td>7681</td>\n",
       "      <td>5148</td>\n",
       "    </tr>\n",
       "    <tr>\n",
       "      <th>5</th>\n",
       "      <td>30971</td>\n",
       "      <td>10345</td>\n",
       "    </tr>\n",
       "    <tr>\n",
       "      <th>6</th>\n",
       "      <td>96726</td>\n",
       "      <td>27135</td>\n",
       "    </tr>\n",
       "    <tr>\n",
       "      <th>7</th>\n",
       "      <td>177962</td>\n",
       "      <td>48116</td>\n",
       "    </tr>\n",
       "    <tr>\n",
       "      <th>8</th>\n",
       "      <td>224646</td>\n",
       "      <td>63921</td>\n",
       "    </tr>\n",
       "    <tr>\n",
       "      <th>9</th>\n",
       "      <td>150288</td>\n",
       "      <td>60896</td>\n",
       "    </tr>\n",
       "    <tr>\n",
       "      <th>10</th>\n",
       "      <td>134956</td>\n",
       "      <td>74048</td>\n",
       "    </tr>\n",
       "    <tr>\n",
       "      <th>11</th>\n",
       "      <td>160271</td>\n",
       "      <td>94191</td>\n",
       "    </tr>\n",
       "    <tr>\n",
       "      <th>12</th>\n",
       "      <td>181418</td>\n",
       "      <td>112142</td>\n",
       "    </tr>\n",
       "    <tr>\n",
       "      <th>13</th>\n",
       "      <td>180699</td>\n",
       "      <td>116553</td>\n",
       "    </tr>\n",
       "    <tr>\n",
       "      <th>14</th>\n",
       "      <td>182476</td>\n",
       "      <td>121680</td>\n",
       "    </tr>\n",
       "    <tr>\n",
       "      <th>15</th>\n",
       "      <td>223549</td>\n",
       "      <td>136464</td>\n",
       "    </tr>\n",
       "    <tr>\n",
       "      <th>16</th>\n",
       "      <td>299939</td>\n",
       "      <td>158175</td>\n",
       "    </tr>\n",
       "    <tr>\n",
       "      <th>17</th>\n",
       "      <td>351302</td>\n",
       "      <td>174306</td>\n",
       "    </tr>\n",
       "    <tr>\n",
       "      <th>18</th>\n",
       "      <td>279996</td>\n",
       "      <td>151312</td>\n",
       "    </tr>\n",
       "    <tr>\n",
       "      <th>19</th>\n",
       "      <td>198739</td>\n",
       "      <td>111719</td>\n",
       "    </tr>\n",
       "    <tr>\n",
       "      <th>20</th>\n",
       "      <td>138352</td>\n",
       "      <td>80995</td>\n",
       "    </tr>\n",
       "    <tr>\n",
       "      <th>21</th>\n",
       "      <td>106853</td>\n",
       "      <td>68103</td>\n",
       "    </tr>\n",
       "    <tr>\n",
       "      <th>22</th>\n",
       "      <td>79244</td>\n",
       "      <td>59909</td>\n",
       "    </tr>\n",
       "    <tr>\n",
       "      <th>23</th>\n",
       "      <td>50689</td>\n",
       "      <td>42905</td>\n",
       "    </tr>\n",
       "  </tbody>\n",
       "</table>\n",
       "</div>"
      ],
      "text/plain": [
       "user_type  member  casual\n",
       "hours                    \n",
       "0           31918   32294\n",
       "1           18984   20864\n",
       "2           10938   12480\n",
       "3            7046    6870\n",
       "4            7681    5148\n",
       "5           30971   10345\n",
       "6           96726   27135\n",
       "7          177962   48116\n",
       "8          224646   63921\n",
       "9          150288   60896\n",
       "10         134956   74048\n",
       "11         160271   94191\n",
       "12         181418  112142\n",
       "13         180699  116553\n",
       "14         182476  121680\n",
       "15         223549  136464\n",
       "16         299939  158175\n",
       "17         351302  174306\n",
       "18         279996  151312\n",
       "19         198739  111719\n",
       "20         138352   80995\n",
       "21         106853   68103\n",
       "22          79244   59909\n",
       "23          50689   42905"
      ]
     },
     "execution_count": 60,
     "metadata": {},
     "output_type": "execute_result"
    }
   ],
   "source": [
    "hours = pd.crosstab(index=df_hours.hours, columns=df_hours.user_type, values=df_hours.no_of_rides, aggfunc='sum')\n",
    "hours = hours[['member', 'casual']]\n",
    "hours"
   ]
  },
  {
   "cell_type": "code",
   "execution_count": 61,
   "metadata": {},
   "outputs": [],
   "source": [
    "import plotly.express as px"
   ]
  },
  {
   "cell_type": "code",
   "execution_count": 62,
   "metadata": {},
   "outputs": [
    {
     "data": {
      "application/vnd.plotly.v1+json": {
       "config": {
        "plotlyServerURL": "https://plot.ly"
       },
       "data": [
        {
         "hovertemplate": "<b>Hours:</b> %{x} <br> <b>Number of rides:</b> %{y}",
         "legendgroup": "member",
         "line": {
          "color": "#0077b6",
          "dash": "solid"
         },
         "marker": {
          "symbol": "circle"
         },
         "mode": "markers+lines",
         "name": "member",
         "orientation": "v",
         "showlegend": true,
         "type": "scatter",
         "x": [
          0,
          1,
          2,
          3,
          4,
          5,
          6,
          7,
          8,
          9,
          10,
          11,
          12,
          13,
          14,
          15,
          16,
          17,
          18,
          19,
          20,
          21,
          22,
          23
         ],
         "xaxis": "x",
         "y": [
          31918,
          18984,
          10938,
          7046,
          7681,
          30971,
          96726,
          177962,
          224646,
          150288,
          134956,
          160271,
          181418,
          180699,
          182476,
          223549,
          299939,
          351302,
          279996,
          198739,
          138352,
          106853,
          79244,
          50689
         ],
         "yaxis": "y"
        },
        {
         "hovertemplate": "<b>Hours:</b> %{x} <br> <b>Number of rides:</b> %{y}",
         "legendgroup": "casual",
         "line": {
          "color": "#90e0ef",
          "dash": "solid"
         },
         "marker": {
          "symbol": "circle"
         },
         "mode": "markers+lines",
         "name": "casual",
         "orientation": "v",
         "showlegend": true,
         "type": "scatter",
         "x": [
          0,
          1,
          2,
          3,
          4,
          5,
          6,
          7,
          8,
          9,
          10,
          11,
          12,
          13,
          14,
          15,
          16,
          17,
          18,
          19,
          20,
          21,
          22,
          23
         ],
         "xaxis": "x",
         "y": [
          32294,
          20864,
          12480,
          6870,
          5148,
          10345,
          27135,
          48116,
          63921,
          60896,
          74048,
          94191,
          112142,
          116553,
          121680,
          136464,
          158175,
          174306,
          151312,
          111719,
          80995,
          68103,
          59909,
          42905
         ],
         "yaxis": "y"
        }
       ],
       "layout": {
        "font": {
         "color": "#495057",
         "size": 15
        },
        "height": 600,
        "legend": {
         "title": {
          "text": "User Type"
         },
         "tracegroupgap": 0
        },
        "margin": {
         "t": 60
        },
        "plot_bgcolor": "white",
        "template": {
         "data": {
          "bar": [
           {
            "error_x": {
             "color": "#2a3f5f"
            },
            "error_y": {
             "color": "#2a3f5f"
            },
            "marker": {
             "line": {
              "color": "#E5ECF6",
              "width": 0.5
             },
             "pattern": {
              "fillmode": "overlay",
              "size": 10,
              "solidity": 0.2
             }
            },
            "type": "bar"
           }
          ],
          "barpolar": [
           {
            "marker": {
             "line": {
              "color": "#E5ECF6",
              "width": 0.5
             },
             "pattern": {
              "fillmode": "overlay",
              "size": 10,
              "solidity": 0.2
             }
            },
            "type": "barpolar"
           }
          ],
          "carpet": [
           {
            "aaxis": {
             "endlinecolor": "#2a3f5f",
             "gridcolor": "white",
             "linecolor": "white",
             "minorgridcolor": "white",
             "startlinecolor": "#2a3f5f"
            },
            "baxis": {
             "endlinecolor": "#2a3f5f",
             "gridcolor": "white",
             "linecolor": "white",
             "minorgridcolor": "white",
             "startlinecolor": "#2a3f5f"
            },
            "type": "carpet"
           }
          ],
          "choropleth": [
           {
            "colorbar": {
             "outlinewidth": 0,
             "ticks": ""
            },
            "type": "choropleth"
           }
          ],
          "contour": [
           {
            "colorbar": {
             "outlinewidth": 0,
             "ticks": ""
            },
            "colorscale": [
             [
              0,
              "#0d0887"
             ],
             [
              0.1111111111111111,
              "#46039f"
             ],
             [
              0.2222222222222222,
              "#7201a8"
             ],
             [
              0.3333333333333333,
              "#9c179e"
             ],
             [
              0.4444444444444444,
              "#bd3786"
             ],
             [
              0.5555555555555556,
              "#d8576b"
             ],
             [
              0.6666666666666666,
              "#ed7953"
             ],
             [
              0.7777777777777778,
              "#fb9f3a"
             ],
             [
              0.8888888888888888,
              "#fdca26"
             ],
             [
              1,
              "#f0f921"
             ]
            ],
            "type": "contour"
           }
          ],
          "contourcarpet": [
           {
            "colorbar": {
             "outlinewidth": 0,
             "ticks": ""
            },
            "type": "contourcarpet"
           }
          ],
          "heatmap": [
           {
            "colorbar": {
             "outlinewidth": 0,
             "ticks": ""
            },
            "colorscale": [
             [
              0,
              "#0d0887"
             ],
             [
              0.1111111111111111,
              "#46039f"
             ],
             [
              0.2222222222222222,
              "#7201a8"
             ],
             [
              0.3333333333333333,
              "#9c179e"
             ],
             [
              0.4444444444444444,
              "#bd3786"
             ],
             [
              0.5555555555555556,
              "#d8576b"
             ],
             [
              0.6666666666666666,
              "#ed7953"
             ],
             [
              0.7777777777777778,
              "#fb9f3a"
             ],
             [
              0.8888888888888888,
              "#fdca26"
             ],
             [
              1,
              "#f0f921"
             ]
            ],
            "type": "heatmap"
           }
          ],
          "heatmapgl": [
           {
            "colorbar": {
             "outlinewidth": 0,
             "ticks": ""
            },
            "colorscale": [
             [
              0,
              "#0d0887"
             ],
             [
              0.1111111111111111,
              "#46039f"
             ],
             [
              0.2222222222222222,
              "#7201a8"
             ],
             [
              0.3333333333333333,
              "#9c179e"
             ],
             [
              0.4444444444444444,
              "#bd3786"
             ],
             [
              0.5555555555555556,
              "#d8576b"
             ],
             [
              0.6666666666666666,
              "#ed7953"
             ],
             [
              0.7777777777777778,
              "#fb9f3a"
             ],
             [
              0.8888888888888888,
              "#fdca26"
             ],
             [
              1,
              "#f0f921"
             ]
            ],
            "type": "heatmapgl"
           }
          ],
          "histogram": [
           {
            "marker": {
             "pattern": {
              "fillmode": "overlay",
              "size": 10,
              "solidity": 0.2
             }
            },
            "type": "histogram"
           }
          ],
          "histogram2d": [
           {
            "colorbar": {
             "outlinewidth": 0,
             "ticks": ""
            },
            "colorscale": [
             [
              0,
              "#0d0887"
             ],
             [
              0.1111111111111111,
              "#46039f"
             ],
             [
              0.2222222222222222,
              "#7201a8"
             ],
             [
              0.3333333333333333,
              "#9c179e"
             ],
             [
              0.4444444444444444,
              "#bd3786"
             ],
             [
              0.5555555555555556,
              "#d8576b"
             ],
             [
              0.6666666666666666,
              "#ed7953"
             ],
             [
              0.7777777777777778,
              "#fb9f3a"
             ],
             [
              0.8888888888888888,
              "#fdca26"
             ],
             [
              1,
              "#f0f921"
             ]
            ],
            "type": "histogram2d"
           }
          ],
          "histogram2dcontour": [
           {
            "colorbar": {
             "outlinewidth": 0,
             "ticks": ""
            },
            "colorscale": [
             [
              0,
              "#0d0887"
             ],
             [
              0.1111111111111111,
              "#46039f"
             ],
             [
              0.2222222222222222,
              "#7201a8"
             ],
             [
              0.3333333333333333,
              "#9c179e"
             ],
             [
              0.4444444444444444,
              "#bd3786"
             ],
             [
              0.5555555555555556,
              "#d8576b"
             ],
             [
              0.6666666666666666,
              "#ed7953"
             ],
             [
              0.7777777777777778,
              "#fb9f3a"
             ],
             [
              0.8888888888888888,
              "#fdca26"
             ],
             [
              1,
              "#f0f921"
             ]
            ],
            "type": "histogram2dcontour"
           }
          ],
          "mesh3d": [
           {
            "colorbar": {
             "outlinewidth": 0,
             "ticks": ""
            },
            "type": "mesh3d"
           }
          ],
          "parcoords": [
           {
            "line": {
             "colorbar": {
              "outlinewidth": 0,
              "ticks": ""
             }
            },
            "type": "parcoords"
           }
          ],
          "pie": [
           {
            "automargin": true,
            "type": "pie"
           }
          ],
          "scatter": [
           {
            "fillpattern": {
             "fillmode": "overlay",
             "size": 10,
             "solidity": 0.2
            },
            "type": "scatter"
           }
          ],
          "scatter3d": [
           {
            "line": {
             "colorbar": {
              "outlinewidth": 0,
              "ticks": ""
             }
            },
            "marker": {
             "colorbar": {
              "outlinewidth": 0,
              "ticks": ""
             }
            },
            "type": "scatter3d"
           }
          ],
          "scattercarpet": [
           {
            "marker": {
             "colorbar": {
              "outlinewidth": 0,
              "ticks": ""
             }
            },
            "type": "scattercarpet"
           }
          ],
          "scattergeo": [
           {
            "marker": {
             "colorbar": {
              "outlinewidth": 0,
              "ticks": ""
             }
            },
            "type": "scattergeo"
           }
          ],
          "scattergl": [
           {
            "marker": {
             "colorbar": {
              "outlinewidth": 0,
              "ticks": ""
             }
            },
            "type": "scattergl"
           }
          ],
          "scattermapbox": [
           {
            "marker": {
             "colorbar": {
              "outlinewidth": 0,
              "ticks": ""
             }
            },
            "type": "scattermapbox"
           }
          ],
          "scatterpolar": [
           {
            "marker": {
             "colorbar": {
              "outlinewidth": 0,
              "ticks": ""
             }
            },
            "type": "scatterpolar"
           }
          ],
          "scatterpolargl": [
           {
            "marker": {
             "colorbar": {
              "outlinewidth": 0,
              "ticks": ""
             }
            },
            "type": "scatterpolargl"
           }
          ],
          "scatterternary": [
           {
            "marker": {
             "colorbar": {
              "outlinewidth": 0,
              "ticks": ""
             }
            },
            "type": "scatterternary"
           }
          ],
          "surface": [
           {
            "colorbar": {
             "outlinewidth": 0,
             "ticks": ""
            },
            "colorscale": [
             [
              0,
              "#0d0887"
             ],
             [
              0.1111111111111111,
              "#46039f"
             ],
             [
              0.2222222222222222,
              "#7201a8"
             ],
             [
              0.3333333333333333,
              "#9c179e"
             ],
             [
              0.4444444444444444,
              "#bd3786"
             ],
             [
              0.5555555555555556,
              "#d8576b"
             ],
             [
              0.6666666666666666,
              "#ed7953"
             ],
             [
              0.7777777777777778,
              "#fb9f3a"
             ],
             [
              0.8888888888888888,
              "#fdca26"
             ],
             [
              1,
              "#f0f921"
             ]
            ],
            "type": "surface"
           }
          ],
          "table": [
           {
            "cells": {
             "fill": {
              "color": "#EBF0F8"
             },
             "line": {
              "color": "white"
             }
            },
            "header": {
             "fill": {
              "color": "#C8D4E3"
             },
             "line": {
              "color": "white"
             }
            },
            "type": "table"
           }
          ]
         },
         "layout": {
          "annotationdefaults": {
           "arrowcolor": "#2a3f5f",
           "arrowhead": 0,
           "arrowwidth": 1
          },
          "autotypenumbers": "strict",
          "coloraxis": {
           "colorbar": {
            "outlinewidth": 0,
            "ticks": ""
           }
          },
          "colorscale": {
           "diverging": [
            [
             0,
             "#8e0152"
            ],
            [
             0.1,
             "#c51b7d"
            ],
            [
             0.2,
             "#de77ae"
            ],
            [
             0.3,
             "#f1b6da"
            ],
            [
             0.4,
             "#fde0ef"
            ],
            [
             0.5,
             "#f7f7f7"
            ],
            [
             0.6,
             "#e6f5d0"
            ],
            [
             0.7,
             "#b8e186"
            ],
            [
             0.8,
             "#7fbc41"
            ],
            [
             0.9,
             "#4d9221"
            ],
            [
             1,
             "#276419"
            ]
           ],
           "sequential": [
            [
             0,
             "#0d0887"
            ],
            [
             0.1111111111111111,
             "#46039f"
            ],
            [
             0.2222222222222222,
             "#7201a8"
            ],
            [
             0.3333333333333333,
             "#9c179e"
            ],
            [
             0.4444444444444444,
             "#bd3786"
            ],
            [
             0.5555555555555556,
             "#d8576b"
            ],
            [
             0.6666666666666666,
             "#ed7953"
            ],
            [
             0.7777777777777778,
             "#fb9f3a"
            ],
            [
             0.8888888888888888,
             "#fdca26"
            ],
            [
             1,
             "#f0f921"
            ]
           ],
           "sequentialminus": [
            [
             0,
             "#0d0887"
            ],
            [
             0.1111111111111111,
             "#46039f"
            ],
            [
             0.2222222222222222,
             "#7201a8"
            ],
            [
             0.3333333333333333,
             "#9c179e"
            ],
            [
             0.4444444444444444,
             "#bd3786"
            ],
            [
             0.5555555555555556,
             "#d8576b"
            ],
            [
             0.6666666666666666,
             "#ed7953"
            ],
            [
             0.7777777777777778,
             "#fb9f3a"
            ],
            [
             0.8888888888888888,
             "#fdca26"
            ],
            [
             1,
             "#f0f921"
            ]
           ]
          },
          "colorway": [
           "#636efa",
           "#EF553B",
           "#00cc96",
           "#ab63fa",
           "#FFA15A",
           "#19d3f3",
           "#FF6692",
           "#B6E880",
           "#FF97FF",
           "#FECB52"
          ],
          "font": {
           "color": "#2a3f5f"
          },
          "geo": {
           "bgcolor": "white",
           "lakecolor": "white",
           "landcolor": "#E5ECF6",
           "showlakes": true,
           "showland": true,
           "subunitcolor": "white"
          },
          "hoverlabel": {
           "align": "left"
          },
          "hovermode": "closest",
          "mapbox": {
           "style": "light"
          },
          "paper_bgcolor": "white",
          "plot_bgcolor": "#E5ECF6",
          "polar": {
           "angularaxis": {
            "gridcolor": "white",
            "linecolor": "white",
            "ticks": ""
           },
           "bgcolor": "#E5ECF6",
           "radialaxis": {
            "gridcolor": "white",
            "linecolor": "white",
            "ticks": ""
           }
          },
          "scene": {
           "xaxis": {
            "backgroundcolor": "#E5ECF6",
            "gridcolor": "white",
            "gridwidth": 2,
            "linecolor": "white",
            "showbackground": true,
            "ticks": "",
            "zerolinecolor": "white"
           },
           "yaxis": {
            "backgroundcolor": "#E5ECF6",
            "gridcolor": "white",
            "gridwidth": 2,
            "linecolor": "white",
            "showbackground": true,
            "ticks": "",
            "zerolinecolor": "white"
           },
           "zaxis": {
            "backgroundcolor": "#E5ECF6",
            "gridcolor": "white",
            "gridwidth": 2,
            "linecolor": "white",
            "showbackground": true,
            "ticks": "",
            "zerolinecolor": "white"
           }
          },
          "shapedefaults": {
           "line": {
            "color": "#2a3f5f"
           }
          },
          "ternary": {
           "aaxis": {
            "gridcolor": "white",
            "linecolor": "white",
            "ticks": ""
           },
           "baxis": {
            "gridcolor": "white",
            "linecolor": "white",
            "ticks": ""
           },
           "bgcolor": "#E5ECF6",
           "caxis": {
            "gridcolor": "white",
            "linecolor": "white",
            "ticks": ""
           }
          },
          "title": {
           "x": 0.05
          },
          "xaxis": {
           "automargin": true,
           "gridcolor": "white",
           "linecolor": "white",
           "ticks": "",
           "title": {
            "standoff": 15
           },
           "zerolinecolor": "white",
           "zerolinewidth": 2
          },
          "yaxis": {
           "automargin": true,
           "gridcolor": "white",
           "linecolor": "white",
           "ticks": "",
           "title": {
            "standoff": 15
           },
           "zerolinecolor": "white",
           "zerolinewidth": 2
          }
         }
        },
        "title": {
         "font": {
          "color": "#212529",
          "size": 24
         },
         "text": "Bike sharing by hours by user type"
        },
        "width": 1300,
        "xaxis": {
         "anchor": "y",
         "domain": [
          0,
          1
         ],
         "ticktext": [
          "0h",
          "1h",
          "2h",
          "3h",
          "4h",
          "5h",
          "6h",
          "7h",
          "8h",
          "9h",
          "10h",
          "11h",
          "12h",
          "13h",
          "14h",
          "15h",
          "16h",
          "17h",
          "18h",
          "19h",
          "20h",
          "21h",
          "22h",
          "23h"
         ],
         "tickvals": [
          0,
          1,
          2,
          3,
          4,
          5,
          6,
          7,
          8,
          9,
          10,
          11,
          12,
          13,
          14,
          15,
          16,
          17,
          18,
          19,
          20,
          21,
          22,
          23
         ],
         "title": {
          "text": ""
         }
        },
        "yaxis": {
         "anchor": "x",
         "domain": [
          0,
          1
         ],
         "title": {
          "text": ""
         }
        }
       }
      }
     },
     "metadata": {},
     "output_type": "display_data"
    }
   ],
   "source": [
    "fig = px.line(hours, x=hours.index, y=hours.columns, markers=True, color_discrete_sequence=[AZUL2, AZUL4], labels={'user_type': 'User Type'})\n",
    "\n",
    "fig.update_layout(width=1300, height=600, font_size=15, font_color=CINZA2, title_font_color=CINZA1, title_font_size=24, \n",
    "                  title_text='Bike sharing by hours by user type',\n",
    "                  xaxis_title='', yaxis_title='', plot_bgcolor='white')\n",
    "\n",
    "labels = ['0h', '1h', '2h', '3h', '4h', '5h', '6h', '7h', '8h', '9h', '10h', '11h', '12h', '13h', '14h', '15h', '16h', '17h', '18h', '19h', '20h', '21h', '22h', '23h']\n",
    "fig.update_xaxes(ticktext=labels, tickvals=hours.index)\n",
    "\n",
    "fig.update_traces(mode='markers+lines', hovertemplate = '<b>Hours:</b> %{x} <br> <b>Number of rides:</b> %{y}')\n",
    "\n",
    "fig.show()"
   ]
  },
  {
   "cell_type": "code",
   "execution_count": 63,
   "metadata": {},
   "outputs": [],
   "source": [
    "# Bike sharing on weekdays and weekends\n",
    "df_workingday = df.copy()\n",
    "df_workingday = df_workingday[['day_of_week', 'user_type', 'started_at']]"
   ]
  },
  {
   "cell_type": "code",
   "execution_count": 64,
   "metadata": {},
   "outputs": [
    {
     "data": {
      "text/html": [
       "<div>\n",
       "<style scoped>\n",
       "    .dataframe tbody tr th:only-of-type {\n",
       "        vertical-align: middle;\n",
       "    }\n",
       "\n",
       "    .dataframe tbody tr th {\n",
       "        vertical-align: top;\n",
       "    }\n",
       "\n",
       "    .dataframe thead th {\n",
       "        text-align: right;\n",
       "    }\n",
       "</style>\n",
       "<table border=\"1\" class=\"dataframe\">\n",
       "  <thead>\n",
       "    <tr style=\"text-align: right;\">\n",
       "      <th></th>\n",
       "      <th>day_of_week</th>\n",
       "      <th>user_type</th>\n",
       "      <th>started_at</th>\n",
       "      <th>hours</th>\n",
       "    </tr>\n",
       "  </thead>\n",
       "  <tbody>\n",
       "    <tr>\n",
       "      <th>189816</th>\n",
       "      <td>Sunday</td>\n",
       "      <td>member</td>\n",
       "      <td>2023-01-01 00:02:06</td>\n",
       "      <td>0</td>\n",
       "    </tr>\n",
       "    <tr>\n",
       "      <th>185198</th>\n",
       "      <td>Sunday</td>\n",
       "      <td>casual</td>\n",
       "      <td>2023-01-01 00:03:26</td>\n",
       "      <td>0</td>\n",
       "    </tr>\n",
       "    <tr>\n",
       "      <th>106410</th>\n",
       "      <td>Sunday</td>\n",
       "      <td>casual</td>\n",
       "      <td>2023-01-01 00:04:07</td>\n",
       "      <td>0</td>\n",
       "    </tr>\n",
       "    <tr>\n",
       "      <th>169407</th>\n",
       "      <td>Sunday</td>\n",
       "      <td>member</td>\n",
       "      <td>2023-01-01 00:04:27</td>\n",
       "      <td>0</td>\n",
       "    </tr>\n",
       "    <tr>\n",
       "      <th>18323</th>\n",
       "      <td>Sunday</td>\n",
       "      <td>member</td>\n",
       "      <td>2023-01-01 00:04:54</td>\n",
       "      <td>0</td>\n",
       "    </tr>\n",
       "  </tbody>\n",
       "</table>\n",
       "</div>"
      ],
      "text/plain": [
       "       day_of_week user_type          started_at  hours\n",
       "189816      Sunday    member 2023-01-01 00:02:06      0\n",
       "185198      Sunday    casual 2023-01-01 00:03:26      0\n",
       "106410      Sunday    casual 2023-01-01 00:04:07      0\n",
       "169407      Sunday    member 2023-01-01 00:04:27      0\n",
       "18323       Sunday    member 2023-01-01 00:04:54      0"
      ]
     },
     "execution_count": 64,
     "metadata": {},
     "output_type": "execute_result"
    }
   ],
   "source": [
    "df_workingday['hours'] = df_workingday['started_at'].dt.hour\n",
    "df_workingday.head()"
   ]
  },
  {
   "cell_type": "code",
   "execution_count": 65,
   "metadata": {},
   "outputs": [
    {
     "data": {
      "text/html": [
       "<div>\n",
       "<style scoped>\n",
       "    .dataframe tbody tr th:only-of-type {\n",
       "        vertical-align: middle;\n",
       "    }\n",
       "\n",
       "    .dataframe tbody tr th {\n",
       "        vertical-align: top;\n",
       "    }\n",
       "\n",
       "    .dataframe thead th {\n",
       "        text-align: right;\n",
       "    }\n",
       "</style>\n",
       "<table border=\"1\" class=\"dataframe\">\n",
       "  <thead>\n",
       "    <tr style=\"text-align: right;\">\n",
       "      <th></th>\n",
       "      <th>day_of_week</th>\n",
       "      <th>user_type</th>\n",
       "      <th>started_at</th>\n",
       "      <th>hours</th>\n",
       "      <th>workingday</th>\n",
       "    </tr>\n",
       "  </thead>\n",
       "  <tbody>\n",
       "    <tr>\n",
       "      <th>189816</th>\n",
       "      <td>Sunday</td>\n",
       "      <td>member</td>\n",
       "      <td>2023-01-01 00:02:06</td>\n",
       "      <td>0</td>\n",
       "      <td>weekend</td>\n",
       "    </tr>\n",
       "    <tr>\n",
       "      <th>185198</th>\n",
       "      <td>Sunday</td>\n",
       "      <td>casual</td>\n",
       "      <td>2023-01-01 00:03:26</td>\n",
       "      <td>0</td>\n",
       "      <td>weekend</td>\n",
       "    </tr>\n",
       "    <tr>\n",
       "      <th>106410</th>\n",
       "      <td>Sunday</td>\n",
       "      <td>casual</td>\n",
       "      <td>2023-01-01 00:04:07</td>\n",
       "      <td>0</td>\n",
       "      <td>weekend</td>\n",
       "    </tr>\n",
       "    <tr>\n",
       "      <th>169407</th>\n",
       "      <td>Sunday</td>\n",
       "      <td>member</td>\n",
       "      <td>2023-01-01 00:04:27</td>\n",
       "      <td>0</td>\n",
       "      <td>weekend</td>\n",
       "    </tr>\n",
       "    <tr>\n",
       "      <th>18323</th>\n",
       "      <td>Sunday</td>\n",
       "      <td>member</td>\n",
       "      <td>2023-01-01 00:04:54</td>\n",
       "      <td>0</td>\n",
       "      <td>weekend</td>\n",
       "    </tr>\n",
       "  </tbody>\n",
       "</table>\n",
       "</div>"
      ],
      "text/plain": [
       "       day_of_week user_type          started_at  hours workingday\n",
       "189816      Sunday    member 2023-01-01 00:02:06      0    weekend\n",
       "185198      Sunday    casual 2023-01-01 00:03:26      0    weekend\n",
       "106410      Sunday    casual 2023-01-01 00:04:07      0    weekend\n",
       "169407      Sunday    member 2023-01-01 00:04:27      0    weekend\n",
       "18323       Sunday    member 2023-01-01 00:04:54      0    weekend"
      ]
     },
     "execution_count": 65,
     "metadata": {},
     "output_type": "execute_result"
    }
   ],
   "source": [
    "work_weekend = {'Monday': 'working day', 'Tuesday': 'working day', 'Wednesday': 'working day', 'Thursday': 'working day', 'Friday': 'working day', 'Saturday': 'weekend', 'Sunday': 'weekend'}\n",
    "df_workingday['workingday'] = df['day_of_week'].map(work_weekend)\n",
    "df_workingday.head()"
   ]
  },
  {
   "cell_type": "code",
   "execution_count": 66,
   "metadata": {},
   "outputs": [
    {
     "data": {
      "text/html": [
       "<div>\n",
       "<style scoped>\n",
       "    .dataframe tbody tr th:only-of-type {\n",
       "        vertical-align: middle;\n",
       "    }\n",
       "\n",
       "    .dataframe tbody tr th {\n",
       "        vertical-align: top;\n",
       "    }\n",
       "\n",
       "    .dataframe thead th {\n",
       "        text-align: right;\n",
       "    }\n",
       "</style>\n",
       "<table border=\"1\" class=\"dataframe\">\n",
       "  <thead>\n",
       "    <tr style=\"text-align: right;\">\n",
       "      <th></th>\n",
       "      <th>user_type</th>\n",
       "      <th>hours</th>\n",
       "      <th>workingday</th>\n",
       "    </tr>\n",
       "  </thead>\n",
       "  <tbody>\n",
       "    <tr>\n",
       "      <th>189816</th>\n",
       "      <td>member</td>\n",
       "      <td>0</td>\n",
       "      <td>weekend</td>\n",
       "    </tr>\n",
       "    <tr>\n",
       "      <th>185198</th>\n",
       "      <td>casual</td>\n",
       "      <td>0</td>\n",
       "      <td>weekend</td>\n",
       "    </tr>\n",
       "    <tr>\n",
       "      <th>106410</th>\n",
       "      <td>casual</td>\n",
       "      <td>0</td>\n",
       "      <td>weekend</td>\n",
       "    </tr>\n",
       "    <tr>\n",
       "      <th>169407</th>\n",
       "      <td>member</td>\n",
       "      <td>0</td>\n",
       "      <td>weekend</td>\n",
       "    </tr>\n",
       "    <tr>\n",
       "      <th>18323</th>\n",
       "      <td>member</td>\n",
       "      <td>0</td>\n",
       "      <td>weekend</td>\n",
       "    </tr>\n",
       "  </tbody>\n",
       "</table>\n",
       "</div>"
      ],
      "text/plain": [
       "       user_type  hours workingday\n",
       "189816    member      0    weekend\n",
       "185198    casual      0    weekend\n",
       "106410    casual      0    weekend\n",
       "169407    member      0    weekend\n",
       "18323     member      0    weekend"
      ]
     },
     "execution_count": 66,
     "metadata": {},
     "output_type": "execute_result"
    }
   ],
   "source": [
    "df_workingday.drop(columns=['day_of_week', 'started_at'], inplace=True)\n",
    "df_workingday.head()"
   ]
  },
  {
   "cell_type": "code",
   "execution_count": 67,
   "metadata": {},
   "outputs": [
    {
     "data": {
      "text/html": [
       "<div>\n",
       "<style scoped>\n",
       "    .dataframe tbody tr th:only-of-type {\n",
       "        vertical-align: middle;\n",
       "    }\n",
       "\n",
       "    .dataframe tbody tr th {\n",
       "        vertical-align: top;\n",
       "    }\n",
       "\n",
       "    .dataframe thead th {\n",
       "        text-align: right;\n",
       "    }\n",
       "</style>\n",
       "<table border=\"1\" class=\"dataframe\">\n",
       "  <thead>\n",
       "    <tr style=\"text-align: right;\">\n",
       "      <th></th>\n",
       "      <th>user_type</th>\n",
       "      <th>workingday</th>\n",
       "      <th>hours</th>\n",
       "      <th>no_of_rides</th>\n",
       "    </tr>\n",
       "  </thead>\n",
       "  <tbody>\n",
       "    <tr>\n",
       "      <th>0</th>\n",
       "      <td>casual</td>\n",
       "      <td>weekend</td>\n",
       "      <td>15</td>\n",
       "      <td>54739</td>\n",
       "    </tr>\n",
       "    <tr>\n",
       "      <th>1</th>\n",
       "      <td>casual</td>\n",
       "      <td>weekend</td>\n",
       "      <td>14</td>\n",
       "      <td>53650</td>\n",
       "    </tr>\n",
       "    <tr>\n",
       "      <th>2</th>\n",
       "      <td>casual</td>\n",
       "      <td>weekend</td>\n",
       "      <td>13</td>\n",
       "      <td>52569</td>\n",
       "    </tr>\n",
       "    <tr>\n",
       "      <th>3</th>\n",
       "      <td>casual</td>\n",
       "      <td>weekend</td>\n",
       "      <td>16</td>\n",
       "      <td>52270</td>\n",
       "    </tr>\n",
       "    <tr>\n",
       "      <th>4</th>\n",
       "      <td>casual</td>\n",
       "      <td>weekend</td>\n",
       "      <td>12</td>\n",
       "      <td>50013</td>\n",
       "    </tr>\n",
       "  </tbody>\n",
       "</table>\n",
       "</div>"
      ],
      "text/plain": [
       "  user_type workingday  hours  no_of_rides\n",
       "0    casual    weekend     15        54739\n",
       "1    casual    weekend     14        53650\n",
       "2    casual    weekend     13        52569\n",
       "3    casual    weekend     16        52270\n",
       "4    casual    weekend     12        50013"
      ]
     },
     "execution_count": 67,
     "metadata": {},
     "output_type": "execute_result"
    }
   ],
   "source": [
    "df_workingday = df_workingday.groupby(['user_type', 'workingday']).value_counts().reset_index(name='no_of_rides')\n",
    "df_workingday.head()"
   ]
  },
  {
   "cell_type": "code",
   "execution_count": 68,
   "metadata": {},
   "outputs": [
    {
     "data": {
      "text/html": [
       "<div>\n",
       "<style scoped>\n",
       "    .dataframe tbody tr th:only-of-type {\n",
       "        vertical-align: middle;\n",
       "    }\n",
       "\n",
       "    .dataframe tbody tr th {\n",
       "        vertical-align: top;\n",
       "    }\n",
       "\n",
       "    .dataframe thead th {\n",
       "        text-align: right;\n",
       "    }\n",
       "</style>\n",
       "<table border=\"1\" class=\"dataframe\">\n",
       "  <thead>\n",
       "    <tr style=\"text-align: right;\">\n",
       "      <th>workingday</th>\n",
       "      <th>working day</th>\n",
       "      <th>weekend</th>\n",
       "    </tr>\n",
       "    <tr>\n",
       "      <th>hours</th>\n",
       "      <th></th>\n",
       "      <th></th>\n",
       "    </tr>\n",
       "  </thead>\n",
       "  <tbody>\n",
       "    <tr>\n",
       "      <th>0</th>\n",
       "      <td>29029</td>\n",
       "      <td>35183</td>\n",
       "    </tr>\n",
       "    <tr>\n",
       "      <th>1</th>\n",
       "      <td>15427</td>\n",
       "      <td>24421</td>\n",
       "    </tr>\n",
       "    <tr>\n",
       "      <th>2</th>\n",
       "      <td>8916</td>\n",
       "      <td>14502</td>\n",
       "    </tr>\n",
       "    <tr>\n",
       "      <th>3</th>\n",
       "      <td>6231</td>\n",
       "      <td>7685</td>\n",
       "    </tr>\n",
       "    <tr>\n",
       "      <th>4</th>\n",
       "      <td>8188</td>\n",
       "      <td>4641</td>\n",
       "    </tr>\n",
       "    <tr>\n",
       "      <th>5</th>\n",
       "      <td>35395</td>\n",
       "      <td>5921</td>\n",
       "    </tr>\n",
       "    <tr>\n",
       "      <th>6</th>\n",
       "      <td>111000</td>\n",
       "      <td>12861</td>\n",
       "    </tr>\n",
       "    <tr>\n",
       "      <th>7</th>\n",
       "      <td>203747</td>\n",
       "      <td>22331</td>\n",
       "    </tr>\n",
       "    <tr>\n",
       "      <th>8</th>\n",
       "      <td>249001</td>\n",
       "      <td>39566</td>\n",
       "    </tr>\n",
       "    <tr>\n",
       "      <th>9</th>\n",
       "      <td>148382</td>\n",
       "      <td>62802</td>\n",
       "    </tr>\n",
       "    <tr>\n",
       "      <th>10</th>\n",
       "      <td>123799</td>\n",
       "      <td>85205</td>\n",
       "    </tr>\n",
       "    <tr>\n",
       "      <th>11</th>\n",
       "      <td>152759</td>\n",
       "      <td>101703</td>\n",
       "    </tr>\n",
       "    <tr>\n",
       "      <th>12</th>\n",
       "      <td>182391</td>\n",
       "      <td>111169</td>\n",
       "    </tr>\n",
       "    <tr>\n",
       "      <th>13</th>\n",
       "      <td>183876</td>\n",
       "      <td>113376</td>\n",
       "    </tr>\n",
       "    <tr>\n",
       "      <th>14</th>\n",
       "      <td>189711</td>\n",
       "      <td>114445</td>\n",
       "    </tr>\n",
       "    <tr>\n",
       "      <th>15</th>\n",
       "      <td>244122</td>\n",
       "      <td>115891</td>\n",
       "    </tr>\n",
       "    <tr>\n",
       "      <th>16</th>\n",
       "      <td>346351</td>\n",
       "      <td>111763</td>\n",
       "    </tr>\n",
       "    <tr>\n",
       "      <th>17</th>\n",
       "      <td>421932</td>\n",
       "      <td>103676</td>\n",
       "    </tr>\n",
       "    <tr>\n",
       "      <th>18</th>\n",
       "      <td>336803</td>\n",
       "      <td>94505</td>\n",
       "    </tr>\n",
       "    <tr>\n",
       "      <th>19</th>\n",
       "      <td>235893</td>\n",
       "      <td>74565</td>\n",
       "    </tr>\n",
       "    <tr>\n",
       "      <th>20</th>\n",
       "      <td>164391</td>\n",
       "      <td>54956</td>\n",
       "    </tr>\n",
       "    <tr>\n",
       "      <th>21</th>\n",
       "      <td>129831</td>\n",
       "      <td>45125</td>\n",
       "    </tr>\n",
       "    <tr>\n",
       "      <th>22</th>\n",
       "      <td>99187</td>\n",
       "      <td>39966</td>\n",
       "    </tr>\n",
       "    <tr>\n",
       "      <th>23</th>\n",
       "      <td>62012</td>\n",
       "      <td>31582</td>\n",
       "    </tr>\n",
       "  </tbody>\n",
       "</table>\n",
       "</div>"
      ],
      "text/plain": [
       "workingday  working day  weekend\n",
       "hours                           \n",
       "0                 29029    35183\n",
       "1                 15427    24421\n",
       "2                  8916    14502\n",
       "3                  6231     7685\n",
       "4                  8188     4641\n",
       "5                 35395     5921\n",
       "6                111000    12861\n",
       "7                203747    22331\n",
       "8                249001    39566\n",
       "9                148382    62802\n",
       "10               123799    85205\n",
       "11               152759   101703\n",
       "12               182391   111169\n",
       "13               183876   113376\n",
       "14               189711   114445\n",
       "15               244122   115891\n",
       "16               346351   111763\n",
       "17               421932   103676\n",
       "18               336803    94505\n",
       "19               235893    74565\n",
       "20               164391    54956\n",
       "21               129831    45125\n",
       "22                99187    39966\n",
       "23                62012    31582"
      ]
     },
     "execution_count": 68,
     "metadata": {},
     "output_type": "execute_result"
    }
   ],
   "source": [
    "workingday = pd.crosstab(index=df_workingday.hours, columns=df_workingday.workingday, values=df_workingday.no_of_rides, aggfunc='sum')\n",
    "workingday = workingday[['working day', 'weekend']]\n",
    "workingday"
   ]
  },
  {
   "cell_type": "code",
   "execution_count": 69,
   "metadata": {},
   "outputs": [
    {
     "data": {
      "application/vnd.plotly.v1+json": {
       "config": {
        "plotlyServerURL": "https://plot.ly"
       },
       "data": [
        {
         "hovertemplate": "<b>Hours:</b> %{x} <br> <b>Number of rides:</b> %{y}",
         "legendgroup": "working day",
         "line": {
          "color": "#0077b6",
          "dash": "solid"
         },
         "marker": {
          "symbol": "circle"
         },
         "mode": "markers+lines",
         "name": "working day",
         "orientation": "v",
         "showlegend": true,
         "type": "scatter",
         "x": [
          0,
          1,
          2,
          3,
          4,
          5,
          6,
          7,
          8,
          9,
          10,
          11,
          12,
          13,
          14,
          15,
          16,
          17,
          18,
          19,
          20,
          21,
          22,
          23
         ],
         "xaxis": "x",
         "y": [
          29029,
          15427,
          8916,
          6231,
          8188,
          35395,
          111000,
          203747,
          249001,
          148382,
          123799,
          152759,
          182391,
          183876,
          189711,
          244122,
          346351,
          421932,
          336803,
          235893,
          164391,
          129831,
          99187,
          62012
         ],
         "yaxis": "y"
        },
        {
         "hovertemplate": "<b>Hours:</b> %{x} <br> <b>Number of rides:</b> %{y}",
         "legendgroup": "weekend",
         "line": {
          "color": "#90e0ef",
          "dash": "solid"
         },
         "marker": {
          "symbol": "circle"
         },
         "mode": "markers+lines",
         "name": "weekend",
         "orientation": "v",
         "showlegend": true,
         "type": "scatter",
         "x": [
          0,
          1,
          2,
          3,
          4,
          5,
          6,
          7,
          8,
          9,
          10,
          11,
          12,
          13,
          14,
          15,
          16,
          17,
          18,
          19,
          20,
          21,
          22,
          23
         ],
         "xaxis": "x",
         "y": [
          35183,
          24421,
          14502,
          7685,
          4641,
          5921,
          12861,
          22331,
          39566,
          62802,
          85205,
          101703,
          111169,
          113376,
          114445,
          115891,
          111763,
          103676,
          94505,
          74565,
          54956,
          45125,
          39966,
          31582
         ],
         "yaxis": "y"
        }
       ],
       "layout": {
        "font": {
         "color": "#495057",
         "size": 15
        },
        "height": 600,
        "legend": {
         "title": {
          "text": "Working day / Weekend"
         },
         "tracegroupgap": 0
        },
        "margin": {
         "t": 60
        },
        "plot_bgcolor": "white",
        "template": {
         "data": {
          "bar": [
           {
            "error_x": {
             "color": "#2a3f5f"
            },
            "error_y": {
             "color": "#2a3f5f"
            },
            "marker": {
             "line": {
              "color": "#E5ECF6",
              "width": 0.5
             },
             "pattern": {
              "fillmode": "overlay",
              "size": 10,
              "solidity": 0.2
             }
            },
            "type": "bar"
           }
          ],
          "barpolar": [
           {
            "marker": {
             "line": {
              "color": "#E5ECF6",
              "width": 0.5
             },
             "pattern": {
              "fillmode": "overlay",
              "size": 10,
              "solidity": 0.2
             }
            },
            "type": "barpolar"
           }
          ],
          "carpet": [
           {
            "aaxis": {
             "endlinecolor": "#2a3f5f",
             "gridcolor": "white",
             "linecolor": "white",
             "minorgridcolor": "white",
             "startlinecolor": "#2a3f5f"
            },
            "baxis": {
             "endlinecolor": "#2a3f5f",
             "gridcolor": "white",
             "linecolor": "white",
             "minorgridcolor": "white",
             "startlinecolor": "#2a3f5f"
            },
            "type": "carpet"
           }
          ],
          "choropleth": [
           {
            "colorbar": {
             "outlinewidth": 0,
             "ticks": ""
            },
            "type": "choropleth"
           }
          ],
          "contour": [
           {
            "colorbar": {
             "outlinewidth": 0,
             "ticks": ""
            },
            "colorscale": [
             [
              0,
              "#0d0887"
             ],
             [
              0.1111111111111111,
              "#46039f"
             ],
             [
              0.2222222222222222,
              "#7201a8"
             ],
             [
              0.3333333333333333,
              "#9c179e"
             ],
             [
              0.4444444444444444,
              "#bd3786"
             ],
             [
              0.5555555555555556,
              "#d8576b"
             ],
             [
              0.6666666666666666,
              "#ed7953"
             ],
             [
              0.7777777777777778,
              "#fb9f3a"
             ],
             [
              0.8888888888888888,
              "#fdca26"
             ],
             [
              1,
              "#f0f921"
             ]
            ],
            "type": "contour"
           }
          ],
          "contourcarpet": [
           {
            "colorbar": {
             "outlinewidth": 0,
             "ticks": ""
            },
            "type": "contourcarpet"
           }
          ],
          "heatmap": [
           {
            "colorbar": {
             "outlinewidth": 0,
             "ticks": ""
            },
            "colorscale": [
             [
              0,
              "#0d0887"
             ],
             [
              0.1111111111111111,
              "#46039f"
             ],
             [
              0.2222222222222222,
              "#7201a8"
             ],
             [
              0.3333333333333333,
              "#9c179e"
             ],
             [
              0.4444444444444444,
              "#bd3786"
             ],
             [
              0.5555555555555556,
              "#d8576b"
             ],
             [
              0.6666666666666666,
              "#ed7953"
             ],
             [
              0.7777777777777778,
              "#fb9f3a"
             ],
             [
              0.8888888888888888,
              "#fdca26"
             ],
             [
              1,
              "#f0f921"
             ]
            ],
            "type": "heatmap"
           }
          ],
          "heatmapgl": [
           {
            "colorbar": {
             "outlinewidth": 0,
             "ticks": ""
            },
            "colorscale": [
             [
              0,
              "#0d0887"
             ],
             [
              0.1111111111111111,
              "#46039f"
             ],
             [
              0.2222222222222222,
              "#7201a8"
             ],
             [
              0.3333333333333333,
              "#9c179e"
             ],
             [
              0.4444444444444444,
              "#bd3786"
             ],
             [
              0.5555555555555556,
              "#d8576b"
             ],
             [
              0.6666666666666666,
              "#ed7953"
             ],
             [
              0.7777777777777778,
              "#fb9f3a"
             ],
             [
              0.8888888888888888,
              "#fdca26"
             ],
             [
              1,
              "#f0f921"
             ]
            ],
            "type": "heatmapgl"
           }
          ],
          "histogram": [
           {
            "marker": {
             "pattern": {
              "fillmode": "overlay",
              "size": 10,
              "solidity": 0.2
             }
            },
            "type": "histogram"
           }
          ],
          "histogram2d": [
           {
            "colorbar": {
             "outlinewidth": 0,
             "ticks": ""
            },
            "colorscale": [
             [
              0,
              "#0d0887"
             ],
             [
              0.1111111111111111,
              "#46039f"
             ],
             [
              0.2222222222222222,
              "#7201a8"
             ],
             [
              0.3333333333333333,
              "#9c179e"
             ],
             [
              0.4444444444444444,
              "#bd3786"
             ],
             [
              0.5555555555555556,
              "#d8576b"
             ],
             [
              0.6666666666666666,
              "#ed7953"
             ],
             [
              0.7777777777777778,
              "#fb9f3a"
             ],
             [
              0.8888888888888888,
              "#fdca26"
             ],
             [
              1,
              "#f0f921"
             ]
            ],
            "type": "histogram2d"
           }
          ],
          "histogram2dcontour": [
           {
            "colorbar": {
             "outlinewidth": 0,
             "ticks": ""
            },
            "colorscale": [
             [
              0,
              "#0d0887"
             ],
             [
              0.1111111111111111,
              "#46039f"
             ],
             [
              0.2222222222222222,
              "#7201a8"
             ],
             [
              0.3333333333333333,
              "#9c179e"
             ],
             [
              0.4444444444444444,
              "#bd3786"
             ],
             [
              0.5555555555555556,
              "#d8576b"
             ],
             [
              0.6666666666666666,
              "#ed7953"
             ],
             [
              0.7777777777777778,
              "#fb9f3a"
             ],
             [
              0.8888888888888888,
              "#fdca26"
             ],
             [
              1,
              "#f0f921"
             ]
            ],
            "type": "histogram2dcontour"
           }
          ],
          "mesh3d": [
           {
            "colorbar": {
             "outlinewidth": 0,
             "ticks": ""
            },
            "type": "mesh3d"
           }
          ],
          "parcoords": [
           {
            "line": {
             "colorbar": {
              "outlinewidth": 0,
              "ticks": ""
             }
            },
            "type": "parcoords"
           }
          ],
          "pie": [
           {
            "automargin": true,
            "type": "pie"
           }
          ],
          "scatter": [
           {
            "fillpattern": {
             "fillmode": "overlay",
             "size": 10,
             "solidity": 0.2
            },
            "type": "scatter"
           }
          ],
          "scatter3d": [
           {
            "line": {
             "colorbar": {
              "outlinewidth": 0,
              "ticks": ""
             }
            },
            "marker": {
             "colorbar": {
              "outlinewidth": 0,
              "ticks": ""
             }
            },
            "type": "scatter3d"
           }
          ],
          "scattercarpet": [
           {
            "marker": {
             "colorbar": {
              "outlinewidth": 0,
              "ticks": ""
             }
            },
            "type": "scattercarpet"
           }
          ],
          "scattergeo": [
           {
            "marker": {
             "colorbar": {
              "outlinewidth": 0,
              "ticks": ""
             }
            },
            "type": "scattergeo"
           }
          ],
          "scattergl": [
           {
            "marker": {
             "colorbar": {
              "outlinewidth": 0,
              "ticks": ""
             }
            },
            "type": "scattergl"
           }
          ],
          "scattermapbox": [
           {
            "marker": {
             "colorbar": {
              "outlinewidth": 0,
              "ticks": ""
             }
            },
            "type": "scattermapbox"
           }
          ],
          "scatterpolar": [
           {
            "marker": {
             "colorbar": {
              "outlinewidth": 0,
              "ticks": ""
             }
            },
            "type": "scatterpolar"
           }
          ],
          "scatterpolargl": [
           {
            "marker": {
             "colorbar": {
              "outlinewidth": 0,
              "ticks": ""
             }
            },
            "type": "scatterpolargl"
           }
          ],
          "scatterternary": [
           {
            "marker": {
             "colorbar": {
              "outlinewidth": 0,
              "ticks": ""
             }
            },
            "type": "scatterternary"
           }
          ],
          "surface": [
           {
            "colorbar": {
             "outlinewidth": 0,
             "ticks": ""
            },
            "colorscale": [
             [
              0,
              "#0d0887"
             ],
             [
              0.1111111111111111,
              "#46039f"
             ],
             [
              0.2222222222222222,
              "#7201a8"
             ],
             [
              0.3333333333333333,
              "#9c179e"
             ],
             [
              0.4444444444444444,
              "#bd3786"
             ],
             [
              0.5555555555555556,
              "#d8576b"
             ],
             [
              0.6666666666666666,
              "#ed7953"
             ],
             [
              0.7777777777777778,
              "#fb9f3a"
             ],
             [
              0.8888888888888888,
              "#fdca26"
             ],
             [
              1,
              "#f0f921"
             ]
            ],
            "type": "surface"
           }
          ],
          "table": [
           {
            "cells": {
             "fill": {
              "color": "#EBF0F8"
             },
             "line": {
              "color": "white"
             }
            },
            "header": {
             "fill": {
              "color": "#C8D4E3"
             },
             "line": {
              "color": "white"
             }
            },
            "type": "table"
           }
          ]
         },
         "layout": {
          "annotationdefaults": {
           "arrowcolor": "#2a3f5f",
           "arrowhead": 0,
           "arrowwidth": 1
          },
          "autotypenumbers": "strict",
          "coloraxis": {
           "colorbar": {
            "outlinewidth": 0,
            "ticks": ""
           }
          },
          "colorscale": {
           "diverging": [
            [
             0,
             "#8e0152"
            ],
            [
             0.1,
             "#c51b7d"
            ],
            [
             0.2,
             "#de77ae"
            ],
            [
             0.3,
             "#f1b6da"
            ],
            [
             0.4,
             "#fde0ef"
            ],
            [
             0.5,
             "#f7f7f7"
            ],
            [
             0.6,
             "#e6f5d0"
            ],
            [
             0.7,
             "#b8e186"
            ],
            [
             0.8,
             "#7fbc41"
            ],
            [
             0.9,
             "#4d9221"
            ],
            [
             1,
             "#276419"
            ]
           ],
           "sequential": [
            [
             0,
             "#0d0887"
            ],
            [
             0.1111111111111111,
             "#46039f"
            ],
            [
             0.2222222222222222,
             "#7201a8"
            ],
            [
             0.3333333333333333,
             "#9c179e"
            ],
            [
             0.4444444444444444,
             "#bd3786"
            ],
            [
             0.5555555555555556,
             "#d8576b"
            ],
            [
             0.6666666666666666,
             "#ed7953"
            ],
            [
             0.7777777777777778,
             "#fb9f3a"
            ],
            [
             0.8888888888888888,
             "#fdca26"
            ],
            [
             1,
             "#f0f921"
            ]
           ],
           "sequentialminus": [
            [
             0,
             "#0d0887"
            ],
            [
             0.1111111111111111,
             "#46039f"
            ],
            [
             0.2222222222222222,
             "#7201a8"
            ],
            [
             0.3333333333333333,
             "#9c179e"
            ],
            [
             0.4444444444444444,
             "#bd3786"
            ],
            [
             0.5555555555555556,
             "#d8576b"
            ],
            [
             0.6666666666666666,
             "#ed7953"
            ],
            [
             0.7777777777777778,
             "#fb9f3a"
            ],
            [
             0.8888888888888888,
             "#fdca26"
            ],
            [
             1,
             "#f0f921"
            ]
           ]
          },
          "colorway": [
           "#636efa",
           "#EF553B",
           "#00cc96",
           "#ab63fa",
           "#FFA15A",
           "#19d3f3",
           "#FF6692",
           "#B6E880",
           "#FF97FF",
           "#FECB52"
          ],
          "font": {
           "color": "#2a3f5f"
          },
          "geo": {
           "bgcolor": "white",
           "lakecolor": "white",
           "landcolor": "#E5ECF6",
           "showlakes": true,
           "showland": true,
           "subunitcolor": "white"
          },
          "hoverlabel": {
           "align": "left"
          },
          "hovermode": "closest",
          "mapbox": {
           "style": "light"
          },
          "paper_bgcolor": "white",
          "plot_bgcolor": "#E5ECF6",
          "polar": {
           "angularaxis": {
            "gridcolor": "white",
            "linecolor": "white",
            "ticks": ""
           },
           "bgcolor": "#E5ECF6",
           "radialaxis": {
            "gridcolor": "white",
            "linecolor": "white",
            "ticks": ""
           }
          },
          "scene": {
           "xaxis": {
            "backgroundcolor": "#E5ECF6",
            "gridcolor": "white",
            "gridwidth": 2,
            "linecolor": "white",
            "showbackground": true,
            "ticks": "",
            "zerolinecolor": "white"
           },
           "yaxis": {
            "backgroundcolor": "#E5ECF6",
            "gridcolor": "white",
            "gridwidth": 2,
            "linecolor": "white",
            "showbackground": true,
            "ticks": "",
            "zerolinecolor": "white"
           },
           "zaxis": {
            "backgroundcolor": "#E5ECF6",
            "gridcolor": "white",
            "gridwidth": 2,
            "linecolor": "white",
            "showbackground": true,
            "ticks": "",
            "zerolinecolor": "white"
           }
          },
          "shapedefaults": {
           "line": {
            "color": "#2a3f5f"
           }
          },
          "ternary": {
           "aaxis": {
            "gridcolor": "white",
            "linecolor": "white",
            "ticks": ""
           },
           "baxis": {
            "gridcolor": "white",
            "linecolor": "white",
            "ticks": ""
           },
           "bgcolor": "#E5ECF6",
           "caxis": {
            "gridcolor": "white",
            "linecolor": "white",
            "ticks": ""
           }
          },
          "title": {
           "x": 0.05
          },
          "xaxis": {
           "automargin": true,
           "gridcolor": "white",
           "linecolor": "white",
           "ticks": "",
           "title": {
            "standoff": 15
           },
           "zerolinecolor": "white",
           "zerolinewidth": 2
          },
          "yaxis": {
           "automargin": true,
           "gridcolor": "white",
           "linecolor": "white",
           "ticks": "",
           "title": {
            "standoff": 15
           },
           "zerolinecolor": "white",
           "zerolinewidth": 2
          }
         }
        },
        "title": {
         "font": {
          "color": "#212529",
          "size": 24
         },
         "text": "Bike sharing by hours on working day and weekend"
        },
        "width": 1300,
        "xaxis": {
         "anchor": "y",
         "domain": [
          0,
          1
         ],
         "ticktext": [
          "0h",
          "1h",
          "2h",
          "3h",
          "4h",
          "5h",
          "6h",
          "7h",
          "8h",
          "9h",
          "10h",
          "11h",
          "12h",
          "13h",
          "14h",
          "15h",
          "16h",
          "17h",
          "18h",
          "19h",
          "20h",
          "21h",
          "22h",
          "23h"
         ],
         "tickvals": [
          0,
          1,
          2,
          3,
          4,
          5,
          6,
          7,
          8,
          9,
          10,
          11,
          12,
          13,
          14,
          15,
          16,
          17,
          18,
          19,
          20,
          21,
          22,
          23
         ],
         "title": {
          "text": ""
         }
        },
        "yaxis": {
         "anchor": "x",
         "domain": [
          0,
          1
         ],
         "title": {
          "text": ""
         }
        }
       }
      }
     },
     "metadata": {},
     "output_type": "display_data"
    }
   ],
   "source": [
    "fig = px.line(workingday, x=workingday.index, y=workingday.columns, markers=True, color_discrete_sequence=[AZUL2, AZUL4], labels={'workingday': 'Working day / Weekend'})\n",
    "\n",
    "fig.update_layout(width=1300, height=600, font_size=15, font_color=CINZA2, title_font_color=CINZA1, title_font_size=24, \n",
    "                  title_text='Bike sharing by hours on working day and weekend',\n",
    "                  xaxis_title='', yaxis_title='', plot_bgcolor='white')\n",
    "\n",
    "labels = ['0h', '1h', '2h', '3h', '4h', '5h', '6h', '7h', '8h', '9h', '10h', '11h', '12h', '13h', '14h', '15h', '16h', '17h', '18h', '19h', '20h', '21h', '22h', '23h']\n",
    "fig.update_xaxes(ticktext=labels, tickvals=hours.index)\n",
    "\n",
    "fig.update_traces(mode='markers+lines', hovertemplate = '<b>Hours:</b> %{x} <br> <b>Number of rides:</b> %{y}')\n",
    "\n",
    "fig.show()"
   ]
  },
  {
   "cell_type": "code",
   "execution_count": 70,
   "metadata": {},
   "outputs": [
    {
     "data": {
      "text/html": [
       "<div>\n",
       "<style scoped>\n",
       "    .dataframe tbody tr th:only-of-type {\n",
       "        vertical-align: middle;\n",
       "    }\n",
       "\n",
       "    .dataframe tbody tr th {\n",
       "        vertical-align: top;\n",
       "    }\n",
       "\n",
       "    .dataframe thead th {\n",
       "        text-align: right;\n",
       "    }\n",
       "</style>\n",
       "<table border=\"1\" class=\"dataframe\">\n",
       "  <thead>\n",
       "    <tr style=\"text-align: right;\">\n",
       "      <th></th>\n",
       "      <th>user_type</th>\n",
       "      <th>ride_length</th>\n",
       "      <th>ride_km</th>\n",
       "    </tr>\n",
       "  </thead>\n",
       "  <tbody>\n",
       "    <tr>\n",
       "      <th>189816</th>\n",
       "      <td>member</td>\n",
       "      <td>28.0</td>\n",
       "      <td>0.196938</td>\n",
       "    </tr>\n",
       "    <tr>\n",
       "      <th>185198</th>\n",
       "      <td>casual</td>\n",
       "      <td>4.0</td>\n",
       "      <td>0.011641</td>\n",
       "    </tr>\n",
       "    <tr>\n",
       "      <th>106410</th>\n",
       "      <td>casual</td>\n",
       "      <td>10.0</td>\n",
       "      <td>2.085631</td>\n",
       "    </tr>\n",
       "    <tr>\n",
       "      <th>169407</th>\n",
       "      <td>member</td>\n",
       "      <td>12.0</td>\n",
       "      <td>0.013570</td>\n",
       "    </tr>\n",
       "    <tr>\n",
       "      <th>18323</th>\n",
       "      <td>member</td>\n",
       "      <td>27.0</td>\n",
       "      <td>1.902484</td>\n",
       "    </tr>\n",
       "  </tbody>\n",
       "</table>\n",
       "</div>"
      ],
      "text/plain": [
       "       user_type  ride_length   ride_km\n",
       "189816    member         28.0  0.196938\n",
       "185198    casual          4.0  0.011641\n",
       "106410    casual         10.0  2.085631\n",
       "169407    member         12.0  0.013570\n",
       "18323     member         27.0  1.902484"
      ]
     },
     "execution_count": 70,
     "metadata": {},
     "output_type": "execute_result"
    }
   ],
   "source": [
    "# Distance traveled\n",
    "df_ride = df.copy()\n",
    "df_ride = df_ride[['user_type', 'ride_length', 'ride_km']]\n",
    "df_ride.head()"
   ]
  },
  {
   "cell_type": "code",
   "execution_count": 71,
   "metadata": {},
   "outputs": [],
   "source": [
    "df_ride_member = df_ride.query('user_type == \"member\"')\n",
    "df_ride_casual = df_ride.query('user_type == \"casual\"')\n",
    "\n"
   ]
  },
  {
   "cell_type": "code",
   "execution_count": 72,
   "metadata": {},
   "outputs": [
    {
     "data": {
      "image/png": "[encoded data removed]",
      "text/plain": [
       "<Figure size 1500x400 with 1 Axes>"
      ]
     },
     "metadata": {},
     "output_type": "display_data"
    }
   ],
   "source": [
    "fig, ax = plt.subplots(figsize=(15,4))\n",
    "sns.set_theme(style='white')\n",
    "\n",
    "ax = sns.histplot(data=df_ride_member, x='ride_km', binwidth=0.1, color=AZUL2)\n",
    "\n",
    "plt.suptitle('Distribution of bike sharing distance traveled in kilometers by member users', size=18, color=CINZA1, ha='right', x=0.684, y=1.05)\n",
    "plt.title('Distance in km', fontsize=14, color=CINZA2, pad=15, loc='left')\n",
    "ax.set_xlabel('Km', fontsize=14)\n",
    "ax.set_ylabel('Number of rides', fontsize=14)\n",
    "ax.xaxis.set_tick_params(labelsize=12, labelcolor=CINZA2)\n",
    "ax.yaxis.set_tick_params(labelsize=12, labelcolor=CINZA2)\n",
    "# ax.set_xlim(df_ride_member.ride_km.min(), df_ride_member.ride_km.max())\n",
    "sns.despine()\n",
    "\n",
    "# ax.set_ylabel('')\n",
    "# ax.set_yticklabels([''])"
   ]
  },
  {
   "cell_type": "code",
   "execution_count": 73,
   "metadata": {},
   "outputs": [
    {
     "data": {
      "image/png": "[encoded data removed]",
      "text/plain": [
       "<Figure size 1500x400 with 1 Axes>"
      ]
     },
     "metadata": {},
     "output_type": "display_data"
    }
   ],
   "source": [
    "fig, ax = plt.subplots(figsize=(15,4))\n",
    "sns.set_theme(style='white')\n",
    "\n",
    "ax = sns.histplot(data=df_ride_casual, x='ride_km', binwidth=0.1, color=AZUL2)\n",
    "\n",
    "plt.suptitle('Distribution of bike sharing distance traveled in kilometers by casual users', size=18, color=CINZA1, ha='right', x=0.671, y=1.05)\n",
    "plt.title('Distance in km', fontsize=14, color=CINZA2, pad=15, loc='left')\n",
    "ax.set_xlabel('Km', fontsize=14)\n",
    "ax.set_ylabel('Number of rides', fontsize=14)\n",
    "ax.xaxis.set_tick_params(labelsize=12, labelcolor=CINZA2)\n",
    "ax.yaxis.set_tick_params(labelsize=12, labelcolor=CINZA2)\n",
    "# ax.set_xlim(df_ride_member.ride_km.min(), df_ride_member.ride_km.max())\n",
    "sns.despine()\n",
    "\n",
    "# ax.set_ylabel('')\n",
    "# ax.set_yticklabels([''])"
   ]
  },
  {
   "cell_type": "code",
   "execution_count": 74,
   "metadata": {},
   "outputs": [
    {
     "data": {
      "text/html": [
       "<div>\n",
       "<style scoped>\n",
       "    .dataframe tbody tr th:only-of-type {\n",
       "        vertical-align: middle;\n",
       "    }\n",
       "\n",
       "    .dataframe tbody tr th {\n",
       "        vertical-align: top;\n",
       "    }\n",
       "\n",
       "    .dataframe thead th {\n",
       "        text-align: right;\n",
       "    }\n",
       "</style>\n",
       "<table border=\"1\" class=\"dataframe\">\n",
       "  <thead>\n",
       "    <tr style=\"text-align: right;\">\n",
       "      <th></th>\n",
       "      <th>day_of_week</th>\n",
       "      <th>user_type</th>\n",
       "      <th>ride_length</th>\n",
       "      <th>ride_km</th>\n",
       "    </tr>\n",
       "  </thead>\n",
       "  <tbody>\n",
       "    <tr>\n",
       "      <th>189816</th>\n",
       "      <td>Sunday</td>\n",
       "      <td>member</td>\n",
       "      <td>28.0</td>\n",
       "      <td>0.196938</td>\n",
       "    </tr>\n",
       "    <tr>\n",
       "      <th>185198</th>\n",
       "      <td>Sunday</td>\n",
       "      <td>casual</td>\n",
       "      <td>4.0</td>\n",
       "      <td>0.011641</td>\n",
       "    </tr>\n",
       "    <tr>\n",
       "      <th>106410</th>\n",
       "      <td>Sunday</td>\n",
       "      <td>casual</td>\n",
       "      <td>10.0</td>\n",
       "      <td>2.085631</td>\n",
       "    </tr>\n",
       "    <tr>\n",
       "      <th>169407</th>\n",
       "      <td>Sunday</td>\n",
       "      <td>member</td>\n",
       "      <td>12.0</td>\n",
       "      <td>0.013570</td>\n",
       "    </tr>\n",
       "    <tr>\n",
       "      <th>18323</th>\n",
       "      <td>Sunday</td>\n",
       "      <td>member</td>\n",
       "      <td>27.0</td>\n",
       "      <td>1.902484</td>\n",
       "    </tr>\n",
       "  </tbody>\n",
       "</table>\n",
       "</div>"
      ],
      "text/plain": [
       "       day_of_week user_type  ride_length   ride_km\n",
       "189816      Sunday    member         28.0  0.196938\n",
       "185198      Sunday    casual          4.0  0.011641\n",
       "106410      Sunday    casual         10.0  2.085631\n",
       "169407      Sunday    member         12.0  0.013570\n",
       "18323       Sunday    member         27.0  1.902484"
      ]
     },
     "execution_count": 74,
     "metadata": {},
     "output_type": "execute_result"
    }
   ],
   "source": [
    "# average bike sharing time\n",
    "df_ride = df.copy()\n",
    "df_ride = df_ride[['day_of_week','user_type', 'ride_length', 'ride_km']]\n",
    "df_ride.head()"
   ]
  },
  {
   "cell_type": "code",
   "execution_count": 75,
   "metadata": {},
   "outputs": [
    {
     "data": {
      "text/html": [
       "<div>\n",
       "<style scoped>\n",
       "    .dataframe tbody tr th:only-of-type {\n",
       "        vertical-align: middle;\n",
       "    }\n",
       "\n",
       "    .dataframe tbody tr th {\n",
       "        vertical-align: top;\n",
       "    }\n",
       "\n",
       "    .dataframe thead th {\n",
       "        text-align: right;\n",
       "    }\n",
       "</style>\n",
       "<table border=\"1\" class=\"dataframe\">\n",
       "  <thead>\n",
       "    <tr style=\"text-align: right;\">\n",
       "      <th></th>\n",
       "      <th>day_of_week</th>\n",
       "      <th>user_type</th>\n",
       "      <th>average_time</th>\n",
       "    </tr>\n",
       "  </thead>\n",
       "  <tbody>\n",
       "    <tr>\n",
       "      <th>0</th>\n",
       "      <td>Sunday</td>\n",
       "      <td>casual</td>\n",
       "      <td>21.088619</td>\n",
       "    </tr>\n",
       "    <tr>\n",
       "      <th>1</th>\n",
       "      <td>Sunday</td>\n",
       "      <td>member</td>\n",
       "      <td>12.248261</td>\n",
       "    </tr>\n",
       "    <tr>\n",
       "      <th>2</th>\n",
       "      <td>Monday</td>\n",
       "      <td>casual</td>\n",
       "      <td>17.704582</td>\n",
       "    </tr>\n",
       "    <tr>\n",
       "      <th>3</th>\n",
       "      <td>Monday</td>\n",
       "      <td>member</td>\n",
       "      <td>10.525754</td>\n",
       "    </tr>\n",
       "    <tr>\n",
       "      <th>4</th>\n",
       "      <td>Tuesday</td>\n",
       "      <td>casual</td>\n",
       "      <td>16.347169</td>\n",
       "    </tr>\n",
       "    <tr>\n",
       "      <th>5</th>\n",
       "      <td>Tuesday</td>\n",
       "      <td>member</td>\n",
       "      <td>10.572260</td>\n",
       "    </tr>\n",
       "    <tr>\n",
       "      <th>6</th>\n",
       "      <td>Wednesday</td>\n",
       "      <td>casual</td>\n",
       "      <td>15.759198</td>\n",
       "    </tr>\n",
       "    <tr>\n",
       "      <th>7</th>\n",
       "      <td>Wednesday</td>\n",
       "      <td>member</td>\n",
       "      <td>10.594493</td>\n",
       "    </tr>\n",
       "    <tr>\n",
       "      <th>8</th>\n",
       "      <td>Thursday</td>\n",
       "      <td>casual</td>\n",
       "      <td>15.881762</td>\n",
       "    </tr>\n",
       "    <tr>\n",
       "      <th>9</th>\n",
       "      <td>Thursday</td>\n",
       "      <td>member</td>\n",
       "      <td>10.649541</td>\n",
       "    </tr>\n",
       "    <tr>\n",
       "      <th>10</th>\n",
       "      <td>Friday</td>\n",
       "      <td>casual</td>\n",
       "      <td>17.702291</td>\n",
       "    </tr>\n",
       "    <tr>\n",
       "      <th>11</th>\n",
       "      <td>Friday</td>\n",
       "      <td>member</td>\n",
       "      <td>11.037994</td>\n",
       "    </tr>\n",
       "    <tr>\n",
       "      <th>12</th>\n",
       "      <td>Saturday</td>\n",
       "      <td>casual</td>\n",
       "      <td>20.731697</td>\n",
       "    </tr>\n",
       "    <tr>\n",
       "      <th>13</th>\n",
       "      <td>Saturday</td>\n",
       "      <td>member</td>\n",
       "      <td>12.278206</td>\n",
       "    </tr>\n",
       "  </tbody>\n",
       "</table>\n",
       "</div>"
      ],
      "text/plain": [
       "   day_of_week user_type  average_time\n",
       "0       Sunday    casual     21.088619\n",
       "1       Sunday    member     12.248261\n",
       "2       Monday    casual     17.704582\n",
       "3       Monday    member     10.525754\n",
       "4      Tuesday    casual     16.347169\n",
       "5      Tuesday    member     10.572260\n",
       "6    Wednesday    casual     15.759198\n",
       "7    Wednesday    member     10.594493\n",
       "8     Thursday    casual     15.881762\n",
       "9     Thursday    member     10.649541\n",
       "10      Friday    casual     17.702291\n",
       "11      Friday    member     11.037994\n",
       "12    Saturday    casual     20.731697\n",
       "13    Saturday    member     12.278206"
      ]
     },
     "execution_count": 75,
     "metadata": {},
     "output_type": "execute_result"
    }
   ],
   "source": [
    "df_length = df_ride.groupby(['day_of_week', 'user_type']).ride_length.mean().reset_index(name='average_time')\n",
    "df_length"
   ]
  },
  {
   "cell_type": "code",
   "execution_count": 76,
   "metadata": {},
   "outputs": [
    {
     "name": "stderr",
     "output_type": "stream",
     "text": [
      "C:\\Users\\akemi\\AppData\\Local\\Temp\\ipykernel_19884\\3030613954.py:19: UserWarning:\n",
      "\n",
      "FixedFormatter should only be used together with FixedLocator\n",
      "\n"
     ]
    },
    {
     "data": {
      "image/png": "[encoded data removed]",
      "text/plain": [
       "<Figure size 1800x500 with 1 Axes>"
      ]
     },
     "metadata": {},
     "output_type": "display_data"
    }
   ],
   "source": [
    "def plot_bar_style():\n",
    "\n",
    "    fig, ax = plt.subplots(figsize=(18,5))\n",
    "    fig.subplots_adjust(right=0.7)\n",
    "    sns.set_theme(style='white')\n",
    "\n",
    "    colors = [AZUL5, AZUL2]\n",
    "\n",
    "    ax = sns.barplot(data=df_length, y='average_time', x='day_of_week', hue='user_type', palette=colors)\n",
    "\n",
    "    ax.set_title('Average bike sharing time by weekdays\\nin 2023', loc='left', fontsize=18, color=CINZA1)\n",
    "    ax.set_xlabel('')\n",
    "    ax.set_ylabel('')\n",
    "    ax.xaxis.set_tick_params(labelsize=14, labelcolor=CINZA2)\n",
    "    sns.despine(left=True, bottom=True)\n",
    "\n",
    "    ax.legend(bbox_to_anchor=(1,1),  title='User type', title_fontsize=12, fontsize=12)\n",
    "\n",
    "    ax.set_yticklabels([''])\n",
    "    # for i, valor in enumerate(df_rides_month.no_of_rides):\n",
    "    #     qtd = f'{valor:,.0f}'\n",
    "    #     offset = 1e3\n",
    "    #     ax.text(valor-offset, i, qtd, color=CINZA5, fontsize=10, fontweight='bold', ha='right', va='center')\n",
    "    #     ax.bar_label(ax.text, padding=3)\n",
    "\n",
    "    for container in ax.containers:\n",
    "        labels = [f'{valor.get_height():,.0f} min' for valor in container]\n",
    "        ax.bar_label(container, label_type='center', labels=labels, size=10, color=CINZA5, fontweight='bold')\n",
    "    return ax\n",
    "\n",
    "ax = plot_bar_style()"
   ]
  },
  {
   "cell_type": "markdown",
   "metadata": {},
   "source": [
    "## Summary\n",
    "\n",
    "* 64% of Cyclistic customers are members and 36% are casual users.\n",
    "* The most used stations are: \n",
    "    * Streeter Dr & Grand Ave\n",
    "    * DuSable Lake Shore Dr & Monroe St\n",
    "    * Michigan Ave & Oak St \n",
    "    * DuSable Lake Shore Dr & North Blvd \n",
    "    * Clark St & Elm St\n",
    "* In relation to classic bikes, the total number of electric bikes rented was 8.58% higher in the year 2023.\n",
    "* The months when members used the shared bikes the most were August, followed by July and September. For casual users, the most used month was July, followed by August and June, which coincides with summer. The least used months for both members and casual users were December, January, and February.\n",
    "* The best quarter for bike sharing is from July to September, where approximately 60% of users are members and 40% are casual users.\n",
    "* Members predominate on all days of the week, but in greater numbers from Monday to Friday. Casual users take more rides on Saturdays and Sundays.\n",
    "* The times most used by members in the morning are from 7 am to 9 am and in the late afternoon from 4 pm to 6 pm, indicating that member users use bike sharing to commute to and from work. Casual users tend to use bike sharing from 6 am to 5 pm, in a linearly increasing manner.\n",
    "* On weekdays, the peaks in bike sharing occur at 8 am and 5 pm, reinforcing the idea that users use bike sharing to commute to and from work. On weekends, users start using bike sharing from 6 am until 12 pm, where it remains constant until 3 pm, then gradually decreases until 11 pm.\n",
    "* The distance traveled for both members and casual users is concentrated at approximately 1 km.\n",
    "* On weekdays, members use bike sharing for approximately 11 minutes, and casual users use bike sharing for approximately 20 minutes on weekends. Casual users tend to use bike sharing for longer periods than members."
   ]
  },
  {
   "cell_type": "markdown",
   "metadata": {},
   "source": []
  }
 ],
 "metadata": {
  "kernelspec": {
   "display_name": "base",
   "language": "python",
   "name": "python3"
  },
  "language_info": {
   "codemirror_mode": {
    "name": "ipython",
    "version": 3
   },
   "file_extension": ".py",
   "mimetype": "text/x-python",
   "name": "python",
   "nbconvert_exporter": "python",
   "pygments_lexer": "ipython3",
   "version": "3.11.5"
  }
 },
 "nbformat": 4,
 "nbformat_minor": 2
}
